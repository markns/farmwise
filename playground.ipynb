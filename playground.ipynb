{
 "cells": [
  {
   "cell_type": "code",
   "id": "9b56d4781dd7edb0",
   "metadata": {
    "ExecuteTime": {
     "end_time": "2025-04-24T09:26:21.254720Z",
     "start_time": "2025-04-24T09:26:21.226530Z"
    }
   },
   "source": [
    "%load_ext autoreload\n",
    "%autoreload 2"
   ],
   "outputs": [],
   "execution_count": 1
  },
  {
   "cell_type": "code",
   "id": "b6d3d2ce1c976b06",
   "metadata": {
    "ExecuteTime": {
     "end_time": "2025-04-15T10:15:20.829559Z",
     "start_time": "2025-04-15T10:15:20.793313Z"
    }
   },
   "source": [
    "from dotenv import find_dotenv, load_dotenv\n",
    "\n",
    "load_dotenv(find_dotenv())\n",
    "\n",
    "from farmwise_client import AgentClient\n",
    "\n",
    "client = AgentClient(base_url=\"http://127.0.0.1:8082\")\n"
   ],
   "outputs": [],
   "execution_count": 7
  },
  {
   "cell_type": "code",
   "id": "24951f80134b92f8",
   "metadata": {
    "ExecuteTime": {
     "end_time": "2025-04-15T12:10:58.422539Z",
     "start_time": "2025-04-15T12:10:51.909668Z"
    }
   },
   "source": [
    "\n",
    "await client.ainvoke(\"What maize seed should I grow?\", user_id=\"+254748256531\")\n",
    "# await client.ainvoke(\"I'm in Nakuru\", user_id=\"+254748256530\")"
   ],
   "outputs": [
    {
     "data": {
      "text/plain": [
       "ChatMessage(type='assistant', content='Could you please provide your location in Kenya so I can suggest the best maize seed variety for your area?', actions=[<Action.request_location: 'request_location'>])"
      ]
     },
     "execution_count": 15,
     "metadata": {},
     "output_type": "execute_result"
    }
   ],
   "execution_count": 15
  },
  {
   "metadata": {
    "ExecuteTime": {
     "end_time": "2025-04-24T09:26:42.641606Z",
     "start_time": "2025-04-24T09:26:42.182391Z"
    }
   },
   "cell_type": "code",
   "source": [
    "from farmwise.tools import soil_property\n",
    "\n",
    "await soil_property(**{\n",
    "    \"ctx\": None,\n",
    "    \"latitude\": -1.0849843025208,\n",
    "    \"longitude\": 35.878883361816,\n",
    "    \"property_\": \"ph\"\n",
    "})"
   ],
   "id": "76d061906dd4d07c",
   "outputs": [
    {
     "name": "stdout",
     "output_type": "stream",
     "text": [
      "{'property': {'ph': [{'value': {'unit': None, 'type': 'float', 'value': 7.2}, 'depth': {'value': '0-20', 'unit': 'cm'}, 'uncertainty': [{'confidence_interval': '50%', 'lower_bound': 7.1, 'upper_bound': 7.3}, {'confidence_interval': '68%', 'lower_bound': 7.1, 'upper_bound': 7.3}, {'confidence_interval': '90%', 'lower_bound': 7.0, 'upper_bound': 7.4}]}]}}\n"
     ]
    },
    {
     "ename": "TypeError",
     "evalue": "list indices must be integers or slices, not str",
     "output_type": "error",
     "traceback": [
      "\u001B[31m---------------------------------------------------------------------------\u001B[39m",
      "\u001B[31mTypeError\u001B[39m                                 Traceback (most recent call last)",
      "\u001B[36mCell\u001B[39m\u001B[36m \u001B[39m\u001B[32mIn[3]\u001B[39m\u001B[32m, line 2\u001B[39m\n\u001B[32m      1\u001B[39m \u001B[38;5;28;01mfrom\u001B[39;00m\u001B[38;5;250m \u001B[39m\u001B[34;01mfarmwise\u001B[39;00m\u001B[34;01m.\u001B[39;00m\u001B[34;01mtools\u001B[39;00m\u001B[38;5;250m \u001B[39m\u001B[38;5;28;01mimport\u001B[39;00m soil_property\n\u001B[32m----> \u001B[39m\u001B[32m2\u001B[39m \u001B[38;5;28;01mawait\u001B[39;00m soil_property(**{\n\u001B[32m      3\u001B[39m     \u001B[33m\"\u001B[39m\u001B[33mctx\u001B[39m\u001B[33m\"\u001B[39m: \u001B[38;5;28;01mNone\u001B[39;00m,\n\u001B[32m      4\u001B[39m   \u001B[33m\"\u001B[39m\u001B[33mlatitude\u001B[39m\u001B[33m\"\u001B[39m: -\u001B[32m1.0849843025208\u001B[39m,\n\u001B[32m      5\u001B[39m   \u001B[33m\"\u001B[39m\u001B[33mlongitude\u001B[39m\u001B[33m\"\u001B[39m: \u001B[32m35.878883361816\u001B[39m,\n\u001B[32m      6\u001B[39m   \u001B[33m\"\u001B[39m\u001B[33mproperty_\u001B[39m\u001B[33m\"\u001B[39m: \u001B[33m\"\u001B[39m\u001B[33mph\u001B[39m\u001B[33m\"\u001B[39m\n\u001B[32m      7\u001B[39m })\n",
      "\u001B[36mFile \u001B[39m\u001B[32m~/workspace/farmwise/apps/farmwise/src/farmwise/tools.py:98\u001B[39m, in \u001B[36msoil_property\u001B[39m\u001B[34m(ctx, latitude, longitude, property_)\u001B[39m\n\u001B[32m     87\u001B[39m r = \u001B[38;5;28;01mawait\u001B[39;00m client.get(\n\u001B[32m     88\u001B[39m     uri,\n\u001B[32m     89\u001B[39m     params={\n\u001B[32m   (...)\u001B[39m\u001B[32m     95\u001B[39m     },\n\u001B[32m     96\u001B[39m )\n\u001B[32m     97\u001B[39m \u001B[38;5;28mprint\u001B[39m(r.json())\n\u001B[32m---> \u001B[39m\u001B[32m98\u001B[39m \u001B[38;5;28;01mreturn\u001B[39;00m \u001B[43mr\u001B[49m\u001B[43m.\u001B[49m\u001B[43mjson\u001B[49m\u001B[43m(\u001B[49m\u001B[43m)\u001B[49m\u001B[43m[\u001B[49m\u001B[33;43m\"\u001B[39;49m\u001B[33;43mproperty\u001B[39;49m\u001B[33;43m\"\u001B[39;49m\u001B[43m]\u001B[49m\u001B[43m[\u001B[49m\u001B[43mproperty_\u001B[49m\u001B[43m]\u001B[49m\u001B[43m[\u001B[49m\u001B[33;43m\"\u001B[39;49m\u001B[33;43mvalue\u001B[39;49m\u001B[33;43m\"\u001B[39;49m\u001B[43m]\u001B[49m[\u001B[33m\"\u001B[39m\u001B[33mvalue\u001B[39m\u001B[33m\"\u001B[39m]\n",
      "\u001B[31mTypeError\u001B[39m: list indices must be integers or slices, not str"
     ]
    }
   ],
   "execution_count": 3
  },
  {
   "metadata": {
    "ExecuteTime": {
     "end_time": "2025-04-24T09:27:56.110980Z",
     "start_time": "2025-04-24T09:27:56.089431Z"
    }
   },
   "cell_type": "code",
   "source": [
    "d = {'property': {'ph':\n",
    "    [\n",
    "        {'value': {'unit': None, 'type': 'float', 'value': 7.2},\n",
    "         'depth': {'value': '0-20', 'unit': 'cm'},\n",
    "         'uncertainty': [{'confidence_interval': '50%', 'lower_bound': 7.1, 'upper_bound': 7.3},\n",
    "                         {'confidence_interval': '68%', 'lower_bound': 7.1, 'upper_bound': 7.3},\n",
    "                         {'confidence_interval': '90%', 'lower_bound': 7.0, 'upper_bound': 7.4}\n",
    "                         ]}\n",
    "    ]}}\n",
    "d[\"property\"]['ph'][0][\"value\"][\"value\"]"
   ],
   "id": "209bbbdaad96854b",
   "outputs": [
    {
     "data": {
      "text/plain": [
       "7.2"
      ]
     },
     "execution_count": 7,
     "metadata": {},
     "output_type": "execute_result"
    }
   ],
   "execution_count": 7
  },
  {
   "metadata": {
    "ExecuteTime": {
     "end_time": "2025-04-25T10:54:02.287684Z",
     "start_time": "2025-04-25T10:54:02.275631Z"
    }
   },
   "cell_type": "code",
   "source": [
    "from farmwise_schema.schema import SectionList, Section, SectionRow\n",
    "\n",
    "SectionList(button_title=\"Select disease\", sections=[\n",
    "    Section(title=\"Diseases\", rows=[\n",
    "\n",
    "        SectionRow(title=\"Maize lethal necrosis\", callback_data=\"Maize lethal necrosis (MLN)\"),\n",
    "        SectionRow(title=\"Grey leaf spot\", callback_data=\"Grey leaf spot (GLS)\"),\n",
    "        SectionRow(title=\"Northern leaf blight\",  callback_data=\"Northern (Turcicum) leaf blight (NCLB)\"),\n",
    "        SectionRow(title=\"Common & southern rusts\", callback_data=\"Common & southern rusts\"),\n",
    "        SectionRow(title=\"Stalk and ear rots\", callback_data=\"Stalk and ear rots\"),\n",
    "        SectionRow(title=\"Maize streak virus\", callback_data=\"Maize streak virus (MSV)\"),\n",
    "        SectionRow(title=\"Downy mildew\", callback_data=\"Downy mildew\"),\n",
    "        SectionRow(title=\"Tar spot\", callback_data=\"Tar spot\"),\n",
    "\n",
    "    ])\n",
    "])\n",
    "\n",
    "SectionList(button_title=\"Select pests\", sections=[\n",
    "    Section(title=\"Pests\", rows=[\n",
    "\n",
    "        SectionRow(title=\"Fall armyworm\", callback_data=\"Fall armyworm\"),\n",
    "        SectionRow(title=\"Stem borers\", callback_data=\"Stem borers\"),\n",
    "        SectionRow(title=\"Cutworms & earworms\", callback_data=\"Cutworms & earworms\"),\n",
    "    ])\n",
    "])\n"
   ],
   "id": "a8cde66832ec9a85",
   "outputs": [
    {
     "data": {
      "text/plain": [
       "SectionList(button_title='Select pests', sections=[Section(title='Pests', rows=[SectionRow(title='Fall armyworm', callback_data='Fall armyworm'), SectionRow(title='Stem borers', callback_data='Stem borers'), SectionRow(title='Cutworms & earworms', callback_data='Cutworms & earworms')])])"
      ]
     },
     "execution_count": 5,
     "metadata": {},
     "output_type": "execute_result"
    }
   ],
   "execution_count": 5
  }
 ],
 "metadata": {
  "kernelspec": {
   "display_name": "Python 3",
   "language": "python",
   "name": "python3"
  },
  "language_info": {
   "codemirror_mode": {
    "name": "ipython",
    "version": 2
   },
   "file_extension": ".py",
   "mimetype": "text/x-python",
   "name": "python",
   "nbconvert_exporter": "python",
   "pygments_lexer": "ipython2",
   "version": "2.7.6"
  }
 },
 "nbformat": 4,
 "nbformat_minor": 5
}
