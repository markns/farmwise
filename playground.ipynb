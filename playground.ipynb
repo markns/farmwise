{
 "cells": [
  {
   "cell_type": "code",
   "id": "9b56d4781dd7edb0",
   "metadata": {
    "ExecuteTime": {
     "end_time": "2025-04-15T09:56:12.251589Z",
     "start_time": "2025-04-15T09:56:12.192629Z"
    }
   },
   "source": [
    "%load_ext autoreload\n",
    "%autoreload 2"
   ],
   "outputs": [],
   "execution_count": 1
  },
  {
   "cell_type": "code",
   "id": "b6d3d2ce1c976b06",
   "metadata": {
    "ExecuteTime": {
     "end_time": "2025-04-15T10:15:20.829559Z",
     "start_time": "2025-04-15T10:15:20.793313Z"
    }
   },
   "source": [
    "from dotenv import find_dotenv, load_dotenv\n",
    "\n",
    "load_dotenv(find_dotenv())\n",
    "\n",
    "from farmwise_client import AgentClient\n",
    "\n",
    "client = AgentClient(base_url=\"http://127.0.0.1:8082\")\n"
   ],
   "outputs": [],
   "execution_count": 7
  },
  {
   "cell_type": "code",
   "id": "24951f80134b92f8",
   "metadata": {
    "ExecuteTime": {
     "end_time": "2025-04-15T10:15:31.969431Z",
     "start_time": "2025-04-15T10:15:21.613568Z"
    }
   },
   "source": [
    "\n",
    "# await client.ainvoke(\"Do you have wifi?\", user_id=\"+254748256530\")\n",
    "await client.ainvoke(\"Is it a boeing?\", user_id=\"+254748256530\")"
   ],
   "outputs": [
    {
     "data": {
      "text/plain": [
       "ChatMessage(type='assistant', content='I have transferred your question to the Triage Agent, who will be able to assist you further. ', tool_calls=[], tool_call_id=None, run_id=None, response_metadata={}, custom_data={})"
      ]
     },
     "execution_count": 8,
     "metadata": {},
     "output_type": "execute_result"
    }
   ],
   "execution_count": 8
  },
  {
   "metadata": {},
   "cell_type": "code",
   "outputs": [],
   "execution_count": null,
   "source": "",
   "id": "76d061906dd4d07c"
  }
 ],
 "metadata": {
  "kernelspec": {
   "display_name": "Python 3",
   "language": "python",
   "name": "python3"
  },
  "language_info": {
   "codemirror_mode": {
    "name": "ipython",
    "version": 2
   },
   "file_extension": ".py",
   "mimetype": "text/x-python",
   "name": "python",
   "nbconvert_exporter": "python",
   "pygments_lexer": "ipython2",
   "version": "2.7.6"
  }
 },
 "nbformat": 4,
 "nbformat_minor": 5
}
