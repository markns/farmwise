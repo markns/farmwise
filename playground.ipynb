{
 "cells": [
  {
   "metadata": {
    "ExecuteTime": {
     "end_time": "2025-02-25T18:05:10.917418Z",
     "start_time": "2025-02-25T18:05:10.906648Z"
    }
   },
   "cell_type": "code",
   "source": [
    "%load_ext autoreload\n",
    "%autoreload 2"
   ],
   "id": "9b56d4781dd7edb0",
   "outputs": [],
   "execution_count": 1
  },
  {
   "metadata": {
    "ExecuteTime": {
     "end_time": "2025-02-25T18:05:11.255814Z",
     "start_time": "2025-02-25T18:05:11.241222Z"
    }
   },
   "cell_type": "code",
   "source": [
    "\n",
    "\n",
    "from dotenv import load_dotenv, find_dotenv\n",
    "\n",
    "load_dotenv(find_dotenv())"
   ],
   "id": "b6d3d2ce1c976b06",
   "outputs": [
    {
     "data": {
      "text/plain": [
       "True"
      ]
     },
     "execution_count": 2,
     "metadata": {},
     "output_type": "execute_result"
    }
   ],
   "execution_count": 2
  },
  {
   "metadata": {
    "ExecuteTime": {
     "end_time": "2025-02-25T18:05:16.193568Z",
     "start_time": "2025-02-25T18:05:12.037064Z"
    }
   },
   "cell_type": "code",
   "source": [
    "import os\n",
    "from farmwise.agent_toolkit.langchain.toolkit import FarmwiseAgentToolkit\n",
    "from langchain_openai import ChatOpenAI\n",
    "\n",
    "from langgraph.prebuilt import create_react_agent\n",
    "\n",
    "llm = ChatOpenAI(\n",
    "    model=\"gpt-4o\"\n",
    ")\n",
    "\n",
    "farmwise_agent_toolkit = FarmwiseAgentToolkit(\n",
    "    secret_key=os.getenv(\"FARMWISE_SECRET_KEY\"),\n",
    "    configuration={\n",
    "        \"actions\": {\n",
    "            \"animals\": {\n",
    "                \"create\": True,\n",
    "            },\n",
    "        }\n",
    "    },\n",
    ")\n",
    "\n",
    "_tools = []\n",
    "_tools.extend(farmwise_agent_toolkit.get_tools())\n",
    "\n",
    "langgraph_agent_executor = create_react_agent(llm, _tools)\n",
    "\n",
    "input_state = {\n",
    "    \"messages\": \"\"\"\n",
    "        Add my new cow to Farmwise. Her name is Daisy. She was born on jan 1st 2001. She is not castrated. We also call her Cowface sometimes.\n",
    "    \"\"\",\n",
    "}\n",
    "\n",
    "output_state = langgraph_agent_executor.invoke(input_state)\n",
    "\n",
    "print(output_state[\"messages\"][-1].content)\n"
   ],
   "id": "24951f80134b92f8",
   "outputs": [
    {
     "name": "stdout",
     "output_type": "stream",
     "text": [
      "Your new cow, Daisy, has been successfully added to Farmwise! You can also call her Cowface if you like.\n"
     ]
    }
   ],
   "execution_count": 3
  },
  {
   "metadata": {
    "ExecuteTime": {
     "end_time": "2025-02-21T09:55:42.663707Z",
     "start_time": "2025-02-21T09:55:42.651075Z"
    }
   },
   "cell_type": "code",
   "source": "output_state",
   "id": "691effde24e0ca78",
   "outputs": [
    {
     "data": {
      "text/plain": [
       "{'messages': [HumanMessage(content='\\n        Add my new cow to Farmwise. Her name is Daisy. She was born on jan 1st 2001. She is not castrated. We also call her cowface sometimes.\\n    ', additional_kwargs={}, response_metadata={}, id='ff7b2e37-85dc-4e80-b9f5-41f9653a68a9'),\n",
       "  AIMessage(content='', additional_kwargs={'tool_calls': [{'id': 'call_4uMnXPM3Y8MsJKLzChWiA5t2', 'function': {'arguments': '{\"animal_type\":\"cow\",\"birthdate\":\"2001-01-01T00:00:00Z\",\"is_castrated\":false,\"nickname\":[\"Daisy\",\"cowface\"],\"sex\":\"F\"}', 'name': 'create_animal'}, 'type': 'function'}], 'refusal': None}, response_metadata={'token_usage': {'completion_tokens': 54, 'prompt_tokens': 459, 'total_tokens': 513, 'completion_tokens_details': {'accepted_prediction_tokens': 0, 'audio_tokens': 0, 'reasoning_tokens': 0, 'rejected_prediction_tokens': 0}, 'prompt_tokens_details': {'audio_tokens': 0, 'cached_tokens': 0}}, 'model_name': 'gpt-4o-2024-08-06', 'system_fingerprint': 'fp_f9f4fb6dbf', 'finish_reason': 'tool_calls', 'logprobs': None}, id='run-25d715bf-24ef-42e8-a2a4-14a5a811520b-0', tool_calls=[{'name': 'create_animal', 'args': {'animal_type': 'cow', 'birthdate': '2001-01-01T00:00:00Z', 'is_castrated': False, 'nickname': ['Daisy', 'cowface'], 'sex': 'F'}, 'id': 'call_4uMnXPM3Y8MsJKLzChWiA5t2', 'type': 'tool_call'}], usage_metadata={'input_tokens': 459, 'output_tokens': 54, 'total_tokens': 513, 'input_token_details': {'audio': 0, 'cache_read': 0}, 'output_token_details': {'audio': 0, 'reasoning': 0}}),\n",
       "  ToolMessage(content='{\"id\": \"4\"}', name='create_animal', id='bba741b7-ac24-48ea-9a0d-e76c07d76a07', tool_call_id='call_4uMnXPM3Y8MsJKLzChWiA5t2'),\n",
       "  AIMessage(content='Your new cow, Daisy, has been successfully added to Farmwise with ID 4.', additional_kwargs={'refusal': None}, response_metadata={'token_usage': {'completion_tokens': 20, 'prompt_tokens': 527, 'total_tokens': 547, 'completion_tokens_details': {'accepted_prediction_tokens': 0, 'audio_tokens': 0, 'reasoning_tokens': 0, 'rejected_prediction_tokens': 0}, 'prompt_tokens_details': {'audio_tokens': 0, 'cached_tokens': 0}}, 'model_name': 'gpt-4o-2024-08-06', 'system_fingerprint': 'fp_f9f4fb6dbf', 'finish_reason': 'stop', 'logprobs': None}, id='run-5ece2ab7-8c36-42fa-940b-eaa1fd0129c8-0', usage_metadata={'input_tokens': 527, 'output_tokens': 20, 'total_tokens': 547, 'input_token_details': {'audio': 0, 'cache_read': 0}, 'output_token_details': {'audio': 0, 'reasoning': 0}})]}"
      ]
     },
     "execution_count": 27,
     "metadata": {},
     "output_type": "execute_result"
    }
   ],
   "execution_count": 27
  }
 ],
 "metadata": {
  "kernelspec": {
   "display_name": "Python 3",
   "language": "python",
   "name": "python3"
  },
  "language_info": {
   "codemirror_mode": {
    "name": "ipython",
    "version": 2
   },
   "file_extension": ".py",
   "mimetype": "text/x-python",
   "name": "python",
   "nbconvert_exporter": "python",
   "pygments_lexer": "ipython2",
   "version": "2.7.6"
  }
 },
 "nbformat": 4,
 "nbformat_minor": 5
}
