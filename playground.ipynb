{
 "cells": [
  {
   "cell_type": "code",
   "id": "9b56d4781dd7edb0",
   "metadata": {
    "ExecuteTime": {
     "end_time": "2025-04-11T09:04:04.039263Z",
     "start_time": "2025-04-11T09:04:03.983843Z"
    }
   },
   "source": [
    "%load_ext autoreload\n",
    "%autoreload 2"
   ],
   "outputs": [],
   "execution_count": 1
  },
  {
   "cell_type": "code",
   "id": "b6d3d2ce1c976b06",
   "metadata": {
    "ExecuteTime": {
     "end_time": "2025-04-11T09:04:04.058672Z",
     "start_time": "2025-04-11T09:04:04.047879Z"
    }
   },
   "source": [
    "from dotenv import find_dotenv, load_dotenv\n",
    "\n",
    "load_dotenv(find_dotenv())"
   ],
   "outputs": [
    {
     "data": {
      "text/plain": [
       "True"
      ]
     },
     "execution_count": 2,
     "metadata": {},
     "output_type": "execute_result"
    }
   ],
   "execution_count": 2
  },
  {
   "cell_type": "code",
   "id": "24951f80134b92f8",
   "metadata": {
    "ExecuteTime": {
     "end_time": "2025-04-11T14:55:43.358277Z",
     "start_time": "2025-04-11T14:55:39.022686Z"
    }
   },
   "source": [
    "from farmwise_client import AgentClient\n",
    "\n",
    "client = AgentClient(base_url=\"http://127.0.0.1:8082\")\n",
    "\n",
    "# await client.ainvoke(\"Do you have wifi?\", user_id=\"+254748256530\")\n",
    "await client.ainvoke(\"Is it a boeing?\", user_id=\"+254748256530\")"
   ],
   "outputs": [
    {
     "data": {
      "text/plain": [
       "ChatMessage(type='assistant', content=\"I'm unable to determine whether it's a Boeing plane. Let me transfer you to someone who can help with that.\", tool_calls=[], tool_call_id=None, run_id=None, response_metadata={}, custom_data={})"
      ]
     },
     "execution_count": 53,
     "metadata": {},
     "output_type": "execute_result"
    }
   ],
   "execution_count": 53
  },
  {
   "metadata": {
    "ExecuteTime": {
     "end_time": "2025-04-15T08:01:45.315527Z",
     "start_time": "2025-04-15T08:01:39.462641Z"
    }
   },
   "cell_type": "code",
   "source": [
    "\n",
    "from pydantic import BaseModel\n",
    "import asyncio\n",
    "\n",
    "from agents import Agent, Runner, function_tool\n",
    "\n",
    "\"\"\"This demonstrates usage of the `previous_response_id` parameter to continue a conversation.\n",
    "The second run passes the previous response ID to the model, which allows it to continue the\n",
    "conversation without re-sending the previous messages.\n",
    "\n",
    "Notes:\n",
    "1. This only applies to the OpenAI Responses API. Other models will ignore this parameter.\n",
    "2. Responses are only stored for 30 days as of this writing, so in production you should\n",
    "store the response ID along with an expiration date; if the response is no longer valid,\n",
    "you'll need to re-send the previous conversation history.\n",
    "\"\"\"\n",
    "\n",
    "\n",
    "class Weather(BaseModel):\n",
    "    city: str\n",
    "    temperature_range: str\n",
    "    conditions: str\n",
    "\n",
    "\n",
    "@function_tool\n",
    "def get_weather(city: str) -> Weather:\n",
    "    print(\"[debug] get_weather called\")\n",
    "    return Weather(city=city, temperature_range=\"14-20C\", conditions=\"Sunny with wind.\")\n",
    "\n",
    "\n",
    "async def main():\n",
    "    agent = Agent(\n",
    "        name=\"Hello world\",\n",
    "        instructions=\"You are a helpful agent.\",\n",
    "        tools=[get_weather],\n",
    "    )\n",
    "\n",
    "    result = await Runner.run(agent, input=\"What's the weather in Tokyo?\")\n",
    "    print(result.final_output)\n",
    "    # Brazil\n",
    "\n",
    "    result = await Runner.run(\n",
    "        agent,\n",
    "        \"What is the capital of that country?\",\n",
    "        previous_response_id=result.last_response_id,\n",
    "    )\n",
    "    print(result.final_output)\n",
    "    # Brasilia\n",
    "\n",
    "\n",
    "await main()\n",
    "\n"
   ],
   "id": "5268575e7b968eea",
   "outputs": [
    {
     "name": "stdout",
     "output_type": "stream",
     "text": [
      "[debug] get_weather called\n",
      "The weather in Tokyo is currently sunny with wind, and the temperature ranges from 14°C to 20°C.\n",
      "The capital of Japan, where Tokyo is located, is Tokyo itself.\n"
     ]
    }
   ],
   "execution_count": 55
  }
 ],
 "metadata": {
  "kernelspec": {
   "display_name": "Python 3",
   "language": "python",
   "name": "python3"
  },
  "language_info": {
   "codemirror_mode": {
    "name": "ipython",
    "version": 2
   },
   "file_extension": ".py",
   "mimetype": "text/x-python",
   "name": "python",
   "nbconvert_exporter": "python",
   "pygments_lexer": "ipython2",
   "version": "2.7.6"
  }
 },
 "nbformat": 4,
 "nbformat_minor": 5
}
