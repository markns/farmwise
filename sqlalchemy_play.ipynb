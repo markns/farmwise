{
 "cells": [
  {
   "cell_type": "code",
   "id": "initial_id",
   "metadata": {
    "collapsed": true,
    "ExecuteTime": {
     "end_time": "2025-05-08T06:51:19.909884Z",
     "start_time": "2025-05-08T06:51:19.796661Z"
    }
   },
   "source": [
    "from typing import List\n",
    "from sqlalchemy import create_engine\n",
    "from sqlalchemy import ForeignKey\n",
    "from sqlalchemy.orm import DeclarativeBase\n",
    "from sqlalchemy.orm import Mapped\n",
    "from sqlalchemy.orm import mapped_column\n",
    "from sqlalchemy.orm import relationship\n",
    "from sqlalchemy.orm import Session\n",
    "class Base(DeclarativeBase):\n",
    "    pass\n",
    "class Company(Base):\n",
    "    __tablename__ = \"company\"\n",
    "    id: Mapped[int] = mapped_column(primary_key=True)\n",
    "    name: Mapped[str]\n",
    "    employees: Mapped[List[\"Employee\"]] = relationship(back_populates=\"company\")\n",
    "class Employee(Base):\n",
    "    __tablename__ = \"employee\"\n",
    "    id: Mapped[int] = mapped_column(primary_key=True)\n",
    "    name: Mapped[str]\n",
    "    type: Mapped[str]\n",
    "    company_id: Mapped[int] = mapped_column(ForeignKey(\"company.id\"))\n",
    "    company: Mapped[Company] = relationship(back_populates=\"employees\")\n",
    "    def __repr__(self):\n",
    "        return f\"{self.__class__.__name__}({self.name!r})\"\n",
    "    __mapper_args__ = {\n",
    "        \"polymorphic_identity\": \"employee\",\n",
    "        \"polymorphic_on\": \"type\",\n",
    "    }\n",
    "class Manager(Employee):\n",
    "    __tablename__ = \"manager\"\n",
    "    id: Mapped[int] = mapped_column(ForeignKey(\"employee.id\"), primary_key=True)\n",
    "    manager_name: Mapped[str]\n",
    "    paperwork: Mapped[List[\"Paperwork\"]] = relationship()\n",
    "    __mapper_args__ = {\n",
    "        \"polymorphic_identity\": \"manager\",\n",
    "    }\n",
    "class Paperwork(Base):\n",
    "    __tablename__ = \"paperwork\"\n",
    "    id: Mapped[int] = mapped_column(primary_key=True)\n",
    "    manager_id: Mapped[int] = mapped_column(ForeignKey(\"manager.id\"))\n",
    "    document_name: Mapped[str]\n",
    "    def __repr__(self):\n",
    "        return f\"Paperwork({self.document_name!r})\"\n",
    "class Engineer(Employee):\n",
    "    __tablename__ = \"engineer\"\n",
    "    id: Mapped[int] = mapped_column(ForeignKey(\"employee.id\"), primary_key=True)\n",
    "    engineer_info: Mapped[str]\n",
    "    __mapper_args__ = {\n",
    "        \"polymorphic_identity\": \"engineer\",\n",
    "    }\n",
    "engine = create_engine(\"sqlite:///apps/farmwise.db\", echo=True)\n",
    "Base.metadata.create_all(engine)\n",
    "\n",
    "conn = engine.connect()\n",
    "from sqlalchemy.orm import Session\n",
    "session = Session(conn)\n",
    "session.add(\n",
    "    Company(\n",
    "        name=\"Krusty Krab\",\n",
    "        employees=[\n",
    "            Manager(\n",
    "                name=\"Mr. Krabs\",\n",
    "                manager_name=\"Eugene H. Krabs\",\n",
    "                paperwork=[\n",
    "                    Paperwork(document_name=\"Secret Recipes\"),\n",
    "                    Paperwork(document_name=\"Krabby Patty Orders\"),\n",
    "                ],\n",
    "            ),\n",
    "            Engineer(name=\"SpongeBob\", engineer_info=\"Krabby Patty Master\"),\n",
    "            Engineer(\n",
    "                name=\"Squidward\",\n",
    "                engineer_info=\"Senior Customer Engagement Engineer\",\n",
    "            ),\n",
    "        ],\n",
    "    )\n",
    ")\n",
    "session.commit()"
   ],
   "outputs": [
    {
     "name": "stdout",
     "output_type": "stream",
     "text": [
      "2025-05-08 09:51:19,810 INFO sqlalchemy.engine.Engine BEGIN (implicit)\n",
      "2025-05-08 09:51:19,816 INFO sqlalchemy.engine.Engine PRAGMA main.table_info(\"company\")\n",
      "2025-05-08 09:51:19,823 INFO sqlalchemy.engine.Engine [raw sql] ()\n",
      "2025-05-08 09:51:19,827 INFO sqlalchemy.engine.Engine PRAGMA temp.table_info(\"company\")\n",
      "2025-05-08 09:51:19,830 INFO sqlalchemy.engine.Engine [raw sql] ()\n",
      "2025-05-08 09:51:19,831 INFO sqlalchemy.engine.Engine PRAGMA main.table_info(\"employee\")\n",
      "2025-05-08 09:51:19,832 INFO sqlalchemy.engine.Engine [raw sql] ()\n",
      "2025-05-08 09:51:19,833 INFO sqlalchemy.engine.Engine PRAGMA temp.table_info(\"employee\")\n",
      "2025-05-08 09:51:19,833 INFO sqlalchemy.engine.Engine [raw sql] ()\n",
      "2025-05-08 09:51:19,834 INFO sqlalchemy.engine.Engine PRAGMA main.table_info(\"manager\")\n",
      "2025-05-08 09:51:19,834 INFO sqlalchemy.engine.Engine [raw sql] ()\n",
      "2025-05-08 09:51:19,835 INFO sqlalchemy.engine.Engine PRAGMA temp.table_info(\"manager\")\n",
      "2025-05-08 09:51:19,836 INFO sqlalchemy.engine.Engine [raw sql] ()\n",
      "2025-05-08 09:51:19,836 INFO sqlalchemy.engine.Engine PRAGMA main.table_info(\"paperwork\")\n",
      "2025-05-08 09:51:19,837 INFO sqlalchemy.engine.Engine [raw sql] ()\n",
      "2025-05-08 09:51:19,839 INFO sqlalchemy.engine.Engine PRAGMA temp.table_info(\"paperwork\")\n",
      "2025-05-08 09:51:19,841 INFO sqlalchemy.engine.Engine [raw sql] ()\n",
      "2025-05-08 09:51:19,843 INFO sqlalchemy.engine.Engine PRAGMA main.table_info(\"engineer\")\n",
      "2025-05-08 09:51:19,845 INFO sqlalchemy.engine.Engine [raw sql] ()\n",
      "2025-05-08 09:51:19,847 INFO sqlalchemy.engine.Engine PRAGMA temp.table_info(\"engineer\")\n",
      "2025-05-08 09:51:19,848 INFO sqlalchemy.engine.Engine [raw sql] ()\n",
      "2025-05-08 09:51:19,849 INFO sqlalchemy.engine.Engine \n",
      "CREATE TABLE company (\n",
      "\tid INTEGER NOT NULL, \n",
      "\tname VARCHAR NOT NULL, \n",
      "\tPRIMARY KEY (id)\n",
      ")\n",
      "\n",
      "\n",
      "2025-05-08 09:51:19,849 INFO sqlalchemy.engine.Engine [no key 0.00027s] ()\n",
      "2025-05-08 09:51:19,852 INFO sqlalchemy.engine.Engine \n",
      "CREATE TABLE employee (\n",
      "\tid INTEGER NOT NULL, \n",
      "\tname VARCHAR NOT NULL, \n",
      "\ttype VARCHAR NOT NULL, \n",
      "\tcompany_id INTEGER NOT NULL, \n",
      "\tPRIMARY KEY (id), \n",
      "\tFOREIGN KEY(company_id) REFERENCES company (id)\n",
      ")\n",
      "\n",
      "\n",
      "2025-05-08 09:51:19,853 INFO sqlalchemy.engine.Engine [no key 0.00110s] ()\n",
      "2025-05-08 09:51:19,857 INFO sqlalchemy.engine.Engine \n",
      "CREATE TABLE manager (\n",
      "\tid INTEGER NOT NULL, \n",
      "\tmanager_name VARCHAR NOT NULL, \n",
      "\tPRIMARY KEY (id), \n",
      "\tFOREIGN KEY(id) REFERENCES employee (id)\n",
      ")\n",
      "\n",
      "\n",
      "2025-05-08 09:51:19,859 INFO sqlalchemy.engine.Engine [no key 0.00126s] ()\n",
      "2025-05-08 09:51:19,861 INFO sqlalchemy.engine.Engine \n",
      "CREATE TABLE engineer (\n",
      "\tid INTEGER NOT NULL, \n",
      "\tengineer_info VARCHAR NOT NULL, \n",
      "\tPRIMARY KEY (id), \n",
      "\tFOREIGN KEY(id) REFERENCES employee (id)\n",
      ")\n",
      "\n",
      "\n",
      "2025-05-08 09:51:19,862 INFO sqlalchemy.engine.Engine [no key 0.00139s] ()\n",
      "2025-05-08 09:51:19,865 INFO sqlalchemy.engine.Engine \n",
      "CREATE TABLE paperwork (\n",
      "\tid INTEGER NOT NULL, \n",
      "\tmanager_id INTEGER NOT NULL, \n",
      "\tdocument_name VARCHAR NOT NULL, \n",
      "\tPRIMARY KEY (id), \n",
      "\tFOREIGN KEY(manager_id) REFERENCES manager (id)\n",
      ")\n",
      "\n",
      "\n",
      "2025-05-08 09:51:19,865 INFO sqlalchemy.engine.Engine [no key 0.00043s] ()\n",
      "2025-05-08 09:51:19,867 INFO sqlalchemy.engine.Engine COMMIT\n",
      "2025-05-08 09:51:19,871 INFO sqlalchemy.engine.Engine BEGIN (implicit)\n",
      "2025-05-08 09:51:19,875 INFO sqlalchemy.engine.Engine INSERT INTO company (name) VALUES (?)\n",
      "2025-05-08 09:51:19,876 INFO sqlalchemy.engine.Engine [generated in 0.00116s] ('Krusty Krab',)\n",
      "2025-05-08 09:51:19,879 INFO sqlalchemy.engine.Engine INSERT INTO employee (name, type, company_id) VALUES (?, ?, ?) RETURNING id\n",
      "2025-05-08 09:51:19,883 INFO sqlalchemy.engine.Engine [generated in 0.00006s (insertmanyvalues) 1/3 (ordered; batch not supported)] ('Mr. Krabs', 'manager', 1)\n",
      "2025-05-08 09:51:19,885 INFO sqlalchemy.engine.Engine INSERT INTO employee (name, type, company_id) VALUES (?, ?, ?) RETURNING id\n",
      "2025-05-08 09:51:19,887 INFO sqlalchemy.engine.Engine [insertmanyvalues 2/3 (ordered; batch not supported)] ('SpongeBob', 'engineer', 1)\n",
      "2025-05-08 09:51:19,888 INFO sqlalchemy.engine.Engine INSERT INTO employee (name, type, company_id) VALUES (?, ?, ?) RETURNING id\n",
      "2025-05-08 09:51:19,891 INFO sqlalchemy.engine.Engine [insertmanyvalues 3/3 (ordered; batch not supported)] ('Squidward', 'engineer', 1)\n",
      "2025-05-08 09:51:19,894 INFO sqlalchemy.engine.Engine INSERT INTO manager (id, manager_name) VALUES (?, ?)\n",
      "2025-05-08 09:51:19,895 INFO sqlalchemy.engine.Engine [generated in 0.00132s] (1, 'Eugene H. Krabs')\n",
      "2025-05-08 09:51:19,897 INFO sqlalchemy.engine.Engine INSERT INTO engineer (id, engineer_info) VALUES (?, ?)\n",
      "2025-05-08 09:51:19,897 INFO sqlalchemy.engine.Engine [generated in 0.00035s] [(2, 'Krabby Patty Master'), (3, 'Senior Customer Engagement Engineer')]\n",
      "2025-05-08 09:51:19,899 INFO sqlalchemy.engine.Engine INSERT INTO paperwork (manager_id, document_name) VALUES (?, ?) RETURNING id\n",
      "2025-05-08 09:51:19,901 INFO sqlalchemy.engine.Engine [generated in 0.00005s (insertmanyvalues) 1/2 (ordered; batch not supported)] (1, 'Secret Recipes')\n",
      "2025-05-08 09:51:19,902 INFO sqlalchemy.engine.Engine INSERT INTO paperwork (manager_id, document_name) VALUES (?, ?) RETURNING id\n",
      "2025-05-08 09:51:19,902 INFO sqlalchemy.engine.Engine [insertmanyvalues 2/2 (ordered; batch not supported)] (1, 'Krabby Patty Orders')\n",
      "2025-05-08 09:51:19,905 INFO sqlalchemy.engine.Engine COMMIT\n"
     ]
    }
   ],
   "execution_count": 3
  },
  {
   "metadata": {
    "ExecuteTime": {
     "end_time": "2025-05-08T06:51:59.307132Z",
     "start_time": "2025-05-08T06:51:59.291192Z"
    }
   },
   "cell_type": "code",
   "source": [
    "from sqlalchemy import select\n",
    "stmt = select(Manager).order_by(Manager.id)\n",
    "managers = session.scalars(stmt).all()\n",
    "print(managers)"
   ],
   "id": "331c1ae54605b1a2",
   "outputs": [
    {
     "name": "stdout",
     "output_type": "stream",
     "text": [
      "2025-05-08 09:51:59,296 INFO sqlalchemy.engine.Engine BEGIN (implicit)\n",
      "2025-05-08 09:51:59,300 INFO sqlalchemy.engine.Engine SELECT manager.id, employee.id AS id_1, employee.name, employee.type, employee.company_id, manager.manager_name \n",
      "FROM employee JOIN manager ON employee.id = manager.id ORDER BY manager.id\n",
      "2025-05-08 09:51:59,301 INFO sqlalchemy.engine.Engine [generated in 0.00068s] ()\n",
      "[Manager('Mr. Krabs')]\n"
     ]
    }
   ],
   "execution_count": 4
  },
  {
   "metadata": {
    "ExecuteTime": {
     "end_time": "2025-05-08T06:52:32.053479Z",
     "start_time": "2025-05-08T06:52:32.042861Z"
    }
   },
   "cell_type": "code",
   "source": [
    "from sqlalchemy import select\n",
    "stmt = select(Employee).order_by(Employee.id)\n",
    "objects = session.scalars(stmt).all()\n",
    "print(objects)"
   ],
   "id": "3ddaf5df28e19f5a",
   "outputs": [
    {
     "name": "stdout",
     "output_type": "stream",
     "text": [
      "2025-05-08 09:52:32,048 INFO sqlalchemy.engine.Engine SELECT employee.id, employee.name, employee.type, employee.company_id \n",
      "FROM employee ORDER BY employee.id\n",
      "2025-05-08 09:52:32,049 INFO sqlalchemy.engine.Engine [generated in 0.00154s] ()\n",
      "[Manager('Mr. Krabs'), Engineer('SpongeBob'), Engineer('Squidward')]\n"
     ]
    }
   ],
   "execution_count": 5
  }
 ],
 "metadata": {
  "kernelspec": {
   "display_name": "Python 3",
   "language": "python",
   "name": "python3"
  },
  "language_info": {
   "codemirror_mode": {
    "name": "ipython",
    "version": 2
   },
   "file_extension": ".py",
   "mimetype": "text/x-python",
   "name": "python",
   "nbconvert_exporter": "python",
   "pygments_lexer": "ipython2",
   "version": "2.7.6"
  }
 },
 "nbformat": 4,
 "nbformat_minor": 5
}
