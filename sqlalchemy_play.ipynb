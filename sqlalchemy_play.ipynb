{
 "cells": [
  {
   "metadata": {
    "ExecuteTime": {
     "end_time": "2025-05-13T11:25:24.341608Z",
     "start_time": "2025-05-13T11:25:24.294159Z"
    }
   },
   "cell_type": "code",
   "source": [
    "from sqlalchemy.testing.suite.test_reflection import metadata\n",
    "%load_ext autoreload\n",
    "%autoreload 2"
   ],
   "id": "154a373a97322b34",
   "outputs": [],
   "execution_count": 1
  },
  {
   "metadata": {
    "ExecuteTime": {
     "end_time": "2025-05-13T11:25:46.332157Z",
     "start_time": "2025-05-13T11:25:25.856451Z"
    }
   },
   "cell_type": "code",
   "source": [
    "from agents import gen_trace_id, RunResult, Runner, Agent, function_tool\n",
    "from agents import trace\n",
    "from dotenv import load_dotenv, find_dotenv\n",
    "from openai.types.responses import EasyInputMessageParam, ResponseInputTextParam\n",
    "from openai.types.responses import ResponseInputImageParam\n",
    "\n",
    "from farmbase_client.models import Location\n",
    "from farmwise.agents import triage_agent_instructions\n",
    "from farmwise.context import UserContext\n",
    "\n",
    "load_dotenv(find_dotenv())\n",
    "\n",
    "\n",
    "@function_tool\n",
    "def get_weather(location: str):\n",
    "    return f\"It's sunny and warm in {location}\"\n",
    "\n",
    "\n",
    "weatherman = Agent(\n",
    "    name=\"Weatherman\",\n",
    "    instructions=\"You can look up the weather\",\n",
    "    handoff_description=\"An agent that can look up the weather for a location\",\n",
    "    tools=[get_weather],\n",
    "    model=\"gpt-4.1\",\n",
    ")\n",
    "\n",
    "crop_doctor = Agent(\n",
    "    name=\"Crop disease doctor\",\n",
    "    instructions=\"You provide help with crop diseases. Analyse a photo and tell the user what is causing the disease and what a good treatment is\",\n",
    "    handoff_description=\"An agent that can identify crop pests and diseases from an image\",\n",
    "    handoffs=[weatherman],\n",
    "    model=\"gpt-4.1\",\n",
    ")\n",
    "\n",
    "triage_agent: Agent[UserContext] = Agent(\n",
    "    name=\"Triage Agent\",\n",
    "    handoff_description=\"A triage agent that can delegate a customer's request to the appropriate agent.\",\n",
    "    instructions=triage_agent_instructions,\n",
    "    handoffs=[\n",
    "        crop_doctor,\n",
    "        weatherman\n",
    "    ],\n",
    "    # output_type=WhatsappResponse,\n",
    "    model=\"gpt-4.1\",\n",
    ")\n",
    "\n",
    "weatherman.handoffs.append(triage_agent)\n",
    "crop_doctor.handoffs.append(triage_agent)\n",
    "\n",
    "input_items = [\n",
    "    EasyInputMessageParam(\n",
    "        content=[\n",
    "            ResponseInputTextParam(\n",
    "                text=\"What is going on in this image? Also, what's the weather like in Bungoma today?\",\n",
    "                type=\"input_text\"),\n",
    "            ResponseInputImageParam(\n",
    "                detail=\"auto\",\n",
    "                image_url=\"https://encrypted-tbn3.gstatic.com/images?q=tbn:ANd9GcSGC3jgQd0YVICGXMor-i7mbtlplOB2oQGkCDbmVIA5QT_xek16LDJaV69zpkDlc-oYH9jb7x19c0OZ8mzLAK6BVIhxx44d6OOmhKdu6m4\",\n",
    "                # image_url=f\"data:image/jpeg;base64,{user_input.image}\",\n",
    "                type=\"input_image\"\n",
    "            )\n",
    "        ],\n",
    "        role=\"user\",\n",
    "    )]\n",
    "\n",
    "context = UserContext(user_id=1, name=\"Mark\", phone_number=\"31657775781\",\n",
    "                      location=Location(latitude=1.0, longitude=1.0))\n",
    "\n",
    "\n",
    "async def run_agent():\n",
    "    trace_id = gen_trace_id()\n",
    "    with trace(\"FarmWise\", trace_id=trace_id, group_id=\"31657775781\"):\n",
    "        _result: RunResult = await Runner.run(\n",
    "            triage_agent,\n",
    "            input=input_items,\n",
    "            context=context,\n",
    "            # previous_response_id=chat_state.previous_response_id,\n",
    "        )\n",
    "\n",
    "    print(f\"https://platform.openai.com/traces/trace?trace_id={trace_id}\")\n",
    "    return _result\n",
    "\n",
    "\n",
    "result = await run_agent()\n",
    "result"
   ],
   "id": "3d570174e1db5c6e",
   "outputs": [
    {
     "name": "stdout",
     "output_type": "stream",
     "text": [
      "https://platform.openai.com/traces/trace?trace_id=trace_a0b4f2ed4293444b9aca6f458ed71766\n"
     ]
    },
    {
     "data": {
      "text/plain": [
       "RunResult(input=[{'content': [{'text': \"What is going on in this image? Also, what's the weather like in Bungoma today?\", 'type': 'input_text'}, {'detail': 'auto', 'image_url': 'https://encrypted-tbn3.gstatic.com/images?q=tbn:ANd9GcSGC3jgQd0YVICGXMor-i7mbtlplOB2oQGkCDbmVIA5QT_xek16LDJaV69zpkDlc-oYH9jb7x19c0OZ8mzLAK6BVIhxx44d6OOmhKdu6m4', 'type': 'input_image'}], 'role': 'user'}], new_items=[HandoffCallItem(agent=Agent(name='Triage Agent', instructions=<function triage_agent_instructions at 0x10a05fe20>, handoff_description=\"A triage agent that can delegate a customer's request to the appropriate agent.\", handoffs=[Agent(name='Crop disease doctor', instructions='You provide help with crop diseases. Analyse a photo and tell the user what is causing the disease and what a good treatment is', handoff_description='An agent that can identify crop pests and diseases from an image', handoffs=[Agent(name='Weatherman', instructions='You can look up the weather', handoff_description='An agent that can look up the weather for a location', handoffs=[...], model='gpt-4.1', model_settings=ModelSettings(temperature=None, top_p=None, frequency_penalty=None, presence_penalty=None, tool_choice=None, parallel_tool_calls=None, truncation=None, max_tokens=None, reasoning=None, metadata=None, store=None, include_usage=None, extra_query=None, extra_body=None, extra_headers=None), tools=[FunctionTool(name='get_weather', description='', params_json_schema={'properties': {'location': {'title': 'Location', 'type': 'string'}}, 'required': ['location'], 'title': 'get_weather_args', 'type': 'object', 'additionalProperties': False}, on_invoke_tool=<function function_tool.<locals>._create_function_tool.<locals>._on_invoke_tool at 0x10a05f380>, strict_json_schema=True)], mcp_servers=[], mcp_config={}, input_guardrails=[], output_guardrails=[], output_type=None, hooks=None, tool_use_behavior='run_llm_again', reset_tool_choice=True), ...], model='gpt-4.1', model_settings=ModelSettings(temperature=None, top_p=None, frequency_penalty=None, presence_penalty=None, tool_choice=None, parallel_tool_calls=None, truncation=None, max_tokens=None, reasoning=None, metadata=None, store=None, include_usage=None, extra_query=None, extra_body=None, extra_headers=None), tools=[], mcp_servers=[], mcp_config={}, input_guardrails=[], output_guardrails=[], output_type=None, hooks=None, tool_use_behavior='run_llm_again', reset_tool_choice=True), Agent(name='Weatherman', instructions='You can look up the weather', handoff_description='An agent that can look up the weather for a location', handoffs=[...], model='gpt-4.1', model_settings=ModelSettings(temperature=None, top_p=None, frequency_penalty=None, presence_penalty=None, tool_choice=None, parallel_tool_calls=None, truncation=None, max_tokens=None, reasoning=None, metadata=None, store=None, include_usage=None, extra_query=None, extra_body=None, extra_headers=None), tools=[FunctionTool(name='get_weather', description='', params_json_schema={'properties': {'location': {'title': 'Location', 'type': 'string'}}, 'required': ['location'], 'title': 'get_weather_args', 'type': 'object', 'additionalProperties': False}, on_invoke_tool=<function function_tool.<locals>._create_function_tool.<locals>._on_invoke_tool at 0x10a05f380>, strict_json_schema=True)], mcp_servers=[], mcp_config={}, input_guardrails=[], output_guardrails=[], output_type=None, hooks=None, tool_use_behavior='run_llm_again', reset_tool_choice=True)], model='gpt-4.1', model_settings=ModelSettings(temperature=None, top_p=None, frequency_penalty=None, presence_penalty=None, tool_choice=None, parallel_tool_calls=None, truncation=None, max_tokens=None, reasoning=None, metadata=None, store=None, include_usage=None, extra_query=None, extra_body=None, extra_headers=None), tools=[], mcp_servers=[], mcp_config={}, input_guardrails=[], output_guardrails=[], output_type=None, hooks=None, tool_use_behavior='run_llm_again', reset_tool_choice=True), raw_item=ResponseFunctionToolCall(arguments='{}', call_id='call_0C0vPpzNFKJSepznTPtKsI38', name='transfer_to_crop_disease_doctor', type='function_call', id='fc_68232c29e7fc8198a9d8d381f793509601ecd96cfd4a7bca', status='completed'), type='handoff_call_item'), HandoffCallItem(agent=Agent(name='Triage Agent', instructions=<function triage_agent_instructions at 0x10a05fe20>, handoff_description=\"A triage agent that can delegate a customer's request to the appropriate agent.\", handoffs=[Agent(name='Crop disease doctor', instructions='You provide help with crop diseases. Analyse a photo and tell the user what is causing the disease and what a good treatment is', handoff_description='An agent that can identify crop pests and diseases from an image', handoffs=[Agent(name='Weatherman', instructions='You can look up the weather', handoff_description='An agent that can look up the weather for a location', handoffs=[...], model='gpt-4.1', model_settings=ModelSettings(temperature=None, top_p=None, frequency_penalty=None, presence_penalty=None, tool_choice=None, parallel_tool_calls=None, truncation=None, max_tokens=None, reasoning=None, metadata=None, store=None, include_usage=None, extra_query=None, extra_body=None, extra_headers=None), tools=[FunctionTool(name='get_weather', description='', params_json_schema={'properties': {'location': {'title': 'Location', 'type': 'string'}}, 'required': ['location'], 'title': 'get_weather_args', 'type': 'object', 'additionalProperties': False}, on_invoke_tool=<function function_tool.<locals>._create_function_tool.<locals>._on_invoke_tool at 0x10a05f380>, strict_json_schema=True)], mcp_servers=[], mcp_config={}, input_guardrails=[], output_guardrails=[], output_type=None, hooks=None, tool_use_behavior='run_llm_again', reset_tool_choice=True), ...], model='gpt-4.1', model_settings=ModelSettings(temperature=None, top_p=None, frequency_penalty=None, presence_penalty=None, tool_choice=None, parallel_tool_calls=None, truncation=None, max_tokens=None, reasoning=None, metadata=None, store=None, include_usage=None, extra_query=None, extra_body=None, extra_headers=None), tools=[], mcp_servers=[], mcp_config={}, input_guardrails=[], output_guardrails=[], output_type=None, hooks=None, tool_use_behavior='run_llm_again', reset_tool_choice=True), Agent(name='Weatherman', instructions='You can look up the weather', handoff_description='An agent that can look up the weather for a location', handoffs=[...], model='gpt-4.1', model_settings=ModelSettings(temperature=None, top_p=None, frequency_penalty=None, presence_penalty=None, tool_choice=None, parallel_tool_calls=None, truncation=None, max_tokens=None, reasoning=None, metadata=None, store=None, include_usage=None, extra_query=None, extra_body=None, extra_headers=None), tools=[FunctionTool(name='get_weather', description='', params_json_schema={'properties': {'location': {'title': 'Location', 'type': 'string'}}, 'required': ['location'], 'title': 'get_weather_args', 'type': 'object', 'additionalProperties': False}, on_invoke_tool=<function function_tool.<locals>._create_function_tool.<locals>._on_invoke_tool at 0x10a05f380>, strict_json_schema=True)], mcp_servers=[], mcp_config={}, input_guardrails=[], output_guardrails=[], output_type=None, hooks=None, tool_use_behavior='run_llm_again', reset_tool_choice=True)], model='gpt-4.1', model_settings=ModelSettings(temperature=None, top_p=None, frequency_penalty=None, presence_penalty=None, tool_choice=None, parallel_tool_calls=None, truncation=None, max_tokens=None, reasoning=None, metadata=None, store=None, include_usage=None, extra_query=None, extra_body=None, extra_headers=None), tools=[], mcp_servers=[], mcp_config={}, input_guardrails=[], output_guardrails=[], output_type=None, hooks=None, tool_use_behavior='run_llm_again', reset_tool_choice=True), raw_item=ResponseFunctionToolCall(arguments='{}', call_id='call_gAJchypqqIsMo8Sqhie3fpiT', name='transfer_to_weatherman', type='function_call', id='fc_68232c2a35988198bc39419bc6501da401ecd96cfd4a7bca', status='completed'), type='handoff_call_item'), ToolCallOutputItem(agent=Agent(name='Triage Agent', instructions=<function triage_agent_instructions at 0x10a05fe20>, handoff_description=\"A triage agent that can delegate a customer's request to the appropriate agent.\", handoffs=[Agent(name='Crop disease doctor', instructions='You provide help with crop diseases. Analyse a photo and tell the user what is causing the disease and what a good treatment is', handoff_description='An agent that can identify crop pests and diseases from an image', handoffs=[Agent(name='Weatherman', instructions='You can look up the weather', handoff_description='An agent that can look up the weather for a location', handoffs=[...], model='gpt-4.1', model_settings=ModelSettings(temperature=None, top_p=None, frequency_penalty=None, presence_penalty=None, tool_choice=None, parallel_tool_calls=None, truncation=None, max_tokens=None, reasoning=None, metadata=None, store=None, include_usage=None, extra_query=None, extra_body=None, extra_headers=None), tools=[FunctionTool(name='get_weather', description='', params_json_schema={'properties': {'location': {'title': 'Location', 'type': 'string'}}, 'required': ['location'], 'title': 'get_weather_args', 'type': 'object', 'additionalProperties': False}, on_invoke_tool=<function function_tool.<locals>._create_function_tool.<locals>._on_invoke_tool at 0x10a05f380>, strict_json_schema=True)], mcp_servers=[], mcp_config={}, input_guardrails=[], output_guardrails=[], output_type=None, hooks=None, tool_use_behavior='run_llm_again', reset_tool_choice=True), ...], model='gpt-4.1', model_settings=ModelSettings(temperature=None, top_p=None, frequency_penalty=None, presence_penalty=None, tool_choice=None, parallel_tool_calls=None, truncation=None, max_tokens=None, reasoning=None, metadata=None, store=None, include_usage=None, extra_query=None, extra_body=None, extra_headers=None), tools=[], mcp_servers=[], mcp_config={}, input_guardrails=[], output_guardrails=[], output_type=None, hooks=None, tool_use_behavior='run_llm_again', reset_tool_choice=True), Agent(name='Weatherman', instructions='You can look up the weather', handoff_description='An agent that can look up the weather for a location', handoffs=[...], model='gpt-4.1', model_settings=ModelSettings(temperature=None, top_p=None, frequency_penalty=None, presence_penalty=None, tool_choice=None, parallel_tool_calls=None, truncation=None, max_tokens=None, reasoning=None, metadata=None, store=None, include_usage=None, extra_query=None, extra_body=None, extra_headers=None), tools=[FunctionTool(name='get_weather', description='', params_json_schema={'properties': {'location': {'title': 'Location', 'type': 'string'}}, 'required': ['location'], 'title': 'get_weather_args', 'type': 'object', 'additionalProperties': False}, on_invoke_tool=<function function_tool.<locals>._create_function_tool.<locals>._on_invoke_tool at 0x10a05f380>, strict_json_schema=True)], mcp_servers=[], mcp_config={}, input_guardrails=[], output_guardrails=[], output_type=None, hooks=None, tool_use_behavior='run_llm_again', reset_tool_choice=True)], model='gpt-4.1', model_settings=ModelSettings(temperature=None, top_p=None, frequency_penalty=None, presence_penalty=None, tool_choice=None, parallel_tool_calls=None, truncation=None, max_tokens=None, reasoning=None, metadata=None, store=None, include_usage=None, extra_query=None, extra_body=None, extra_headers=None), tools=[], mcp_servers=[], mcp_config={}, input_guardrails=[], output_guardrails=[], output_type=None, hooks=None, tool_use_behavior='run_llm_again', reset_tool_choice=True), raw_item={'call_id': 'call_gAJchypqqIsMo8Sqhie3fpiT', 'output': 'Multiple handoffs detected, ignoring this one.', 'type': 'function_call_output'}, output='Multiple handoffs detected, ignoring this one.', type='tool_call_output_item'), HandoffOutputItem(agent=Agent(name='Triage Agent', instructions=<function triage_agent_instructions at 0x10a05fe20>, handoff_description=\"A triage agent that can delegate a customer's request to the appropriate agent.\", handoffs=[Agent(name='Crop disease doctor', instructions='You provide help with crop diseases. Analyse a photo and tell the user what is causing the disease and what a good treatment is', handoff_description='An agent that can identify crop pests and diseases from an image', handoffs=[Agent(name='Weatherman', instructions='You can look up the weather', handoff_description='An agent that can look up the weather for a location', handoffs=[...], model='gpt-4.1', model_settings=ModelSettings(temperature=None, top_p=None, frequency_penalty=None, presence_penalty=None, tool_choice=None, parallel_tool_calls=None, truncation=None, max_tokens=None, reasoning=None, metadata=None, store=None, include_usage=None, extra_query=None, extra_body=None, extra_headers=None), tools=[FunctionTool(name='get_weather', description='', params_json_schema={'properties': {'location': {'title': 'Location', 'type': 'string'}}, 'required': ['location'], 'title': 'get_weather_args', 'type': 'object', 'additionalProperties': False}, on_invoke_tool=<function function_tool.<locals>._create_function_tool.<locals>._on_invoke_tool at 0x10a05f380>, strict_json_schema=True)], mcp_servers=[], mcp_config={}, input_guardrails=[], output_guardrails=[], output_type=None, hooks=None, tool_use_behavior='run_llm_again', reset_tool_choice=True), ...], model='gpt-4.1', model_settings=ModelSettings(temperature=None, top_p=None, frequency_penalty=None, presence_penalty=None, tool_choice=None, parallel_tool_calls=None, truncation=None, max_tokens=None, reasoning=None, metadata=None, store=None, include_usage=None, extra_query=None, extra_body=None, extra_headers=None), tools=[], mcp_servers=[], mcp_config={}, input_guardrails=[], output_guardrails=[], output_type=None, hooks=None, tool_use_behavior='run_llm_again', reset_tool_choice=True), Agent(name='Weatherman', instructions='You can look up the weather', handoff_description='An agent that can look up the weather for a location', handoffs=[...], model='gpt-4.1', model_settings=ModelSettings(temperature=None, top_p=None, frequency_penalty=None, presence_penalty=None, tool_choice=None, parallel_tool_calls=None, truncation=None, max_tokens=None, reasoning=None, metadata=None, store=None, include_usage=None, extra_query=None, extra_body=None, extra_headers=None), tools=[FunctionTool(name='get_weather', description='', params_json_schema={'properties': {'location': {'title': 'Location', 'type': 'string'}}, 'required': ['location'], 'title': 'get_weather_args', 'type': 'object', 'additionalProperties': False}, on_invoke_tool=<function function_tool.<locals>._create_function_tool.<locals>._on_invoke_tool at 0x10a05f380>, strict_json_schema=True)], mcp_servers=[], mcp_config={}, input_guardrails=[], output_guardrails=[], output_type=None, hooks=None, tool_use_behavior='run_llm_again', reset_tool_choice=True)], model='gpt-4.1', model_settings=ModelSettings(temperature=None, top_p=None, frequency_penalty=None, presence_penalty=None, tool_choice=None, parallel_tool_calls=None, truncation=None, max_tokens=None, reasoning=None, metadata=None, store=None, include_usage=None, extra_query=None, extra_body=None, extra_headers=None), tools=[], mcp_servers=[], mcp_config={}, input_guardrails=[], output_guardrails=[], output_type=None, hooks=None, tool_use_behavior='run_llm_again', reset_tool_choice=True), raw_item={'call_id': 'call_0C0vPpzNFKJSepznTPtKsI38', 'output': \"{'assistant': 'Crop disease doctor'}\", 'type': 'function_call_output'}, source_agent=Agent(name='Triage Agent', instructions=<function triage_agent_instructions at 0x10a05fe20>, handoff_description=\"A triage agent that can delegate a customer's request to the appropriate agent.\", handoffs=[Agent(name='Crop disease doctor', instructions='You provide help with crop diseases. Analyse a photo and tell the user what is causing the disease and what a good treatment is', handoff_description='An agent that can identify crop pests and diseases from an image', handoffs=[Agent(name='Weatherman', instructions='You can look up the weather', handoff_description='An agent that can look up the weather for a location', handoffs=[...], model='gpt-4.1', model_settings=ModelSettings(temperature=None, top_p=None, frequency_penalty=None, presence_penalty=None, tool_choice=None, parallel_tool_calls=None, truncation=None, max_tokens=None, reasoning=None, metadata=None, store=None, include_usage=None, extra_query=None, extra_body=None, extra_headers=None), tools=[FunctionTool(name='get_weather', description='', params_json_schema={'properties': {'location': {'title': 'Location', 'type': 'string'}}, 'required': ['location'], 'title': 'get_weather_args', 'type': 'object', 'additionalProperties': False}, on_invoke_tool=<function function_tool.<locals>._create_function_tool.<locals>._on_invoke_tool at 0x10a05f380>, strict_json_schema=True)], mcp_servers=[], mcp_config={}, input_guardrails=[], output_guardrails=[], output_type=None, hooks=None, tool_use_behavior='run_llm_again', reset_tool_choice=True), ...], model='gpt-4.1', model_settings=ModelSettings(temperature=None, top_p=None, frequency_penalty=None, presence_penalty=None, tool_choice=None, parallel_tool_calls=None, truncation=None, max_tokens=None, reasoning=None, metadata=None, store=None, include_usage=None, extra_query=None, extra_body=None, extra_headers=None), tools=[], mcp_servers=[], mcp_config={}, input_guardrails=[], output_guardrails=[], output_type=None, hooks=None, tool_use_behavior='run_llm_again', reset_tool_choice=True), Agent(name='Weatherman', instructions='You can look up the weather', handoff_description='An agent that can look up the weather for a location', handoffs=[...], model='gpt-4.1', model_settings=ModelSettings(temperature=None, top_p=None, frequency_penalty=None, presence_penalty=None, tool_choice=None, parallel_tool_calls=None, truncation=None, max_tokens=None, reasoning=None, metadata=None, store=None, include_usage=None, extra_query=None, extra_body=None, extra_headers=None), tools=[FunctionTool(name='get_weather', description='', params_json_schema={'properties': {'location': {'title': 'Location', 'type': 'string'}}, 'required': ['location'], 'title': 'get_weather_args', 'type': 'object', 'additionalProperties': False}, on_invoke_tool=<function function_tool.<locals>._create_function_tool.<locals>._on_invoke_tool at 0x10a05f380>, strict_json_schema=True)], mcp_servers=[], mcp_config={}, input_guardrails=[], output_guardrails=[], output_type=None, hooks=None, tool_use_behavior='run_llm_again', reset_tool_choice=True)], model='gpt-4.1', model_settings=ModelSettings(temperature=None, top_p=None, frequency_penalty=None, presence_penalty=None, tool_choice=None, parallel_tool_calls=None, truncation=None, max_tokens=None, reasoning=None, metadata=None, store=None, include_usage=None, extra_query=None, extra_body=None, extra_headers=None), tools=[], mcp_servers=[], mcp_config={}, input_guardrails=[], output_guardrails=[], output_type=None, hooks=None, tool_use_behavior='run_llm_again', reset_tool_choice=True), target_agent=Agent(name='Crop disease doctor', instructions='You provide help with crop diseases. Analyse a photo and tell the user what is causing the disease and what a good treatment is', handoff_description='An agent that can identify crop pests and diseases from an image', handoffs=[Agent(name='Weatherman', instructions='You can look up the weather', handoff_description='An agent that can look up the weather for a location', handoffs=[Agent(name='Triage Agent', instructions=<function triage_agent_instructions at 0x10a05fe20>, handoff_description=\"A triage agent that can delegate a customer's request to the appropriate agent.\", handoffs=[..., ...], model='gpt-4.1', model_settings=ModelSettings(temperature=None, top_p=None, frequency_penalty=None, presence_penalty=None, tool_choice=None, parallel_tool_calls=None, truncation=None, max_tokens=None, reasoning=None, metadata=None, store=None, include_usage=None, extra_query=None, extra_body=None, extra_headers=None), tools=[], mcp_servers=[], mcp_config={}, input_guardrails=[], output_guardrails=[], output_type=None, hooks=None, tool_use_behavior='run_llm_again', reset_tool_choice=True)], model='gpt-4.1', model_settings=ModelSettings(temperature=None, top_p=None, frequency_penalty=None, presence_penalty=None, tool_choice=None, parallel_tool_calls=None, truncation=None, max_tokens=None, reasoning=None, metadata=None, store=None, include_usage=None, extra_query=None, extra_body=None, extra_headers=None), tools=[FunctionTool(name='get_weather', description='', params_json_schema={'properties': {'location': {'title': 'Location', 'type': 'string'}}, 'required': ['location'], 'title': 'get_weather_args', 'type': 'object', 'additionalProperties': False}, on_invoke_tool=<function function_tool.<locals>._create_function_tool.<locals>._on_invoke_tool at 0x10a05f380>, strict_json_schema=True)], mcp_servers=[], mcp_config={}, input_guardrails=[], output_guardrails=[], output_type=None, hooks=None, tool_use_behavior='run_llm_again', reset_tool_choice=True), Agent(name='Triage Agent', instructions=<function triage_agent_instructions at 0x10a05fe20>, handoff_description=\"A triage agent that can delegate a customer's request to the appropriate agent.\", handoffs=[..., Agent(name='Weatherman', instructions='You can look up the weather', handoff_description='An agent that can look up the weather for a location', handoffs=[...], model='gpt-4.1', model_settings=ModelSettings(temperature=None, top_p=None, frequency_penalty=None, presence_penalty=None, tool_choice=None, parallel_tool_calls=None, truncation=None, max_tokens=None, reasoning=None, metadata=None, store=None, include_usage=None, extra_query=None, extra_body=None, extra_headers=None), tools=[FunctionTool(name='get_weather', description='', params_json_schema={'properties': {'location': {'title': 'Location', 'type': 'string'}}, 'required': ['location'], 'title': 'get_weather_args', 'type': 'object', 'additionalProperties': False}, on_invoke_tool=<function function_tool.<locals>._create_function_tool.<locals>._on_invoke_tool at 0x10a05f380>, strict_json_schema=True)], mcp_servers=[], mcp_config={}, input_guardrails=[], output_guardrails=[], output_type=None, hooks=None, tool_use_behavior='run_llm_again', reset_tool_choice=True)], model='gpt-4.1', model_settings=ModelSettings(temperature=None, top_p=None, frequency_penalty=None, presence_penalty=None, tool_choice=None, parallel_tool_calls=None, truncation=None, max_tokens=None, reasoning=None, metadata=None, store=None, include_usage=None, extra_query=None, extra_body=None, extra_headers=None), tools=[], mcp_servers=[], mcp_config={}, input_guardrails=[], output_guardrails=[], output_type=None, hooks=None, tool_use_behavior='run_llm_again', reset_tool_choice=True)], model='gpt-4.1', model_settings=ModelSettings(temperature=None, top_p=None, frequency_penalty=None, presence_penalty=None, tool_choice=None, parallel_tool_calls=None, truncation=None, max_tokens=None, reasoning=None, metadata=None, store=None, include_usage=None, extra_query=None, extra_body=None, extra_headers=None), tools=[], mcp_servers=[], mcp_config={}, input_guardrails=[], output_guardrails=[], output_type=None, hooks=None, tool_use_behavior='run_llm_again', reset_tool_choice=True), type='handoff_output_item'), MessageOutputItem(agent=Agent(name='Crop disease doctor', instructions='You provide help with crop diseases. Analyse a photo and tell the user what is causing the disease and what a good treatment is', handoff_description='An agent that can identify crop pests and diseases from an image', handoffs=[Agent(name='Weatherman', instructions='You can look up the weather', handoff_description='An agent that can look up the weather for a location', handoffs=[Agent(name='Triage Agent', instructions=<function triage_agent_instructions at 0x10a05fe20>, handoff_description=\"A triage agent that can delegate a customer's request to the appropriate agent.\", handoffs=[..., ...], model='gpt-4.1', model_settings=ModelSettings(temperature=None, top_p=None, frequency_penalty=None, presence_penalty=None, tool_choice=None, parallel_tool_calls=None, truncation=None, max_tokens=None, reasoning=None, metadata=None, store=None, include_usage=None, extra_query=None, extra_body=None, extra_headers=None), tools=[], mcp_servers=[], mcp_config={}, input_guardrails=[], output_guardrails=[], output_type=None, hooks=None, tool_use_behavior='run_llm_again', reset_tool_choice=True)], model='gpt-4.1', model_settings=ModelSettings(temperature=None, top_p=None, frequency_penalty=None, presence_penalty=None, tool_choice=None, parallel_tool_calls=None, truncation=None, max_tokens=None, reasoning=None, metadata=None, store=None, include_usage=None, extra_query=None, extra_body=None, extra_headers=None), tools=[FunctionTool(name='get_weather', description='', params_json_schema={'properties': {'location': {'title': 'Location', 'type': 'string'}}, 'required': ['location'], 'title': 'get_weather_args', 'type': 'object', 'additionalProperties': False}, on_invoke_tool=<function function_tool.<locals>._create_function_tool.<locals>._on_invoke_tool at 0x10a05f380>, strict_json_schema=True)], mcp_servers=[], mcp_config={}, input_guardrails=[], output_guardrails=[], output_type=None, hooks=None, tool_use_behavior='run_llm_again', reset_tool_choice=True), Agent(name='Triage Agent', instructions=<function triage_agent_instructions at 0x10a05fe20>, handoff_description=\"A triage agent that can delegate a customer's request to the appropriate agent.\", handoffs=[..., Agent(name='Weatherman', instructions='You can look up the weather', handoff_description='An agent that can look up the weather for a location', handoffs=[...], model='gpt-4.1', model_settings=ModelSettings(temperature=None, top_p=None, frequency_penalty=None, presence_penalty=None, tool_choice=None, parallel_tool_calls=None, truncation=None, max_tokens=None, reasoning=None, metadata=None, store=None, include_usage=None, extra_query=None, extra_body=None, extra_headers=None), tools=[FunctionTool(name='get_weather', description='', params_json_schema={'properties': {'location': {'title': 'Location', 'type': 'string'}}, 'required': ['location'], 'title': 'get_weather_args', 'type': 'object', 'additionalProperties': False}, on_invoke_tool=<function function_tool.<locals>._create_function_tool.<locals>._on_invoke_tool at 0x10a05f380>, strict_json_schema=True)], mcp_servers=[], mcp_config={}, input_guardrails=[], output_guardrails=[], output_type=None, hooks=None, tool_use_behavior='run_llm_again', reset_tool_choice=True)], model='gpt-4.1', model_settings=ModelSettings(temperature=None, top_p=None, frequency_penalty=None, presence_penalty=None, tool_choice=None, parallel_tool_calls=None, truncation=None, max_tokens=None, reasoning=None, metadata=None, store=None, include_usage=None, extra_query=None, extra_body=None, extra_headers=None), tools=[], mcp_servers=[], mcp_config={}, input_guardrails=[], output_guardrails=[], output_type=None, hooks=None, tool_use_behavior='run_llm_again', reset_tool_choice=True)], model='gpt-4.1', model_settings=ModelSettings(temperature=None, top_p=None, frequency_penalty=None, presence_penalty=None, tool_choice=None, parallel_tool_calls=None, truncation=None, max_tokens=None, reasoning=None, metadata=None, store=None, include_usage=None, extra_query=None, extra_body=None, extra_headers=None), tools=[], mcp_servers=[], mcp_config={}, input_guardrails=[], output_guardrails=[], output_type=None, hooks=None, tool_use_behavior='run_llm_again', reset_tool_choice=True), raw_item=ResponseOutputMessage(id='msg_68232c2c5fc48198ab8f87e30ba012a101ecd96cfd4a7bca', content=[ResponseOutputText(annotations=[], text='From the image, it appears that the maize (corn) plants are showing symptoms of Maize Lethal Necrosis Disease (MLND) or possibly Maize Streak Virus. The leaves have streaky yellow and pale green striping, which can indicate viral infection transmitted by insects like thrips or leafhoppers.\\n\\nCommon symptoms:\\n- Yellow streaks running parallel to the veins\\n- Eventually, leaves dry up and die\\n- Stunted plant growth and poor grain formation\\n\\nTreatment and management:\\n1. Use certified virus-free seeds.\\n2. Practice crop rotation; avoid planting maize after other cereal crops.\\n3. Control insect vectors with appropriate insecticides.\\n4. Remove and destroy infected plants to prevent spread.\\n5. Plant maize varieties that show resistance to viral diseases, if available.\\n\\nFor the current weather in Bungoma today, I will check that information for you.', type='output_text')], role='assistant', status='completed', type='message'), type='message_output_item'), HandoffCallItem(agent=Agent(name='Crop disease doctor', instructions='You provide help with crop diseases. Analyse a photo and tell the user what is causing the disease and what a good treatment is', handoff_description='An agent that can identify crop pests and diseases from an image', handoffs=[Agent(name='Weatherman', instructions='You can look up the weather', handoff_description='An agent that can look up the weather for a location', handoffs=[Agent(name='Triage Agent', instructions=<function triage_agent_instructions at 0x10a05fe20>, handoff_description=\"A triage agent that can delegate a customer's request to the appropriate agent.\", handoffs=[..., ...], model='gpt-4.1', model_settings=ModelSettings(temperature=None, top_p=None, frequency_penalty=None, presence_penalty=None, tool_choice=None, parallel_tool_calls=None, truncation=None, max_tokens=None, reasoning=None, metadata=None, store=None, include_usage=None, extra_query=None, extra_body=None, extra_headers=None), tools=[], mcp_servers=[], mcp_config={}, input_guardrails=[], output_guardrails=[], output_type=None, hooks=None, tool_use_behavior='run_llm_again', reset_tool_choice=True)], model='gpt-4.1', model_settings=ModelSettings(temperature=None, top_p=None, frequency_penalty=None, presence_penalty=None, tool_choice=None, parallel_tool_calls=None, truncation=None, max_tokens=None, reasoning=None, metadata=None, store=None, include_usage=None, extra_query=None, extra_body=None, extra_headers=None), tools=[FunctionTool(name='get_weather', description='', params_json_schema={'properties': {'location': {'title': 'Location', 'type': 'string'}}, 'required': ['location'], 'title': 'get_weather_args', 'type': 'object', 'additionalProperties': False}, on_invoke_tool=<function function_tool.<locals>._create_function_tool.<locals>._on_invoke_tool at 0x10a05f380>, strict_json_schema=True)], mcp_servers=[], mcp_config={}, input_guardrails=[], output_guardrails=[], output_type=None, hooks=None, tool_use_behavior='run_llm_again', reset_tool_choice=True), Agent(name='Triage Agent', instructions=<function triage_agent_instructions at 0x10a05fe20>, handoff_description=\"A triage agent that can delegate a customer's request to the appropriate agent.\", handoffs=[..., Agent(name='Weatherman', instructions='You can look up the weather', handoff_description='An agent that can look up the weather for a location', handoffs=[...], model='gpt-4.1', model_settings=ModelSettings(temperature=None, top_p=None, frequency_penalty=None, presence_penalty=None, tool_choice=None, parallel_tool_calls=None, truncation=None, max_tokens=None, reasoning=None, metadata=None, store=None, include_usage=None, extra_query=None, extra_body=None, extra_headers=None), tools=[FunctionTool(name='get_weather', description='', params_json_schema={'properties': {'location': {'title': 'Location', 'type': 'string'}}, 'required': ['location'], 'title': 'get_weather_args', 'type': 'object', 'additionalProperties': False}, on_invoke_tool=<function function_tool.<locals>._create_function_tool.<locals>._on_invoke_tool at 0x10a05f380>, strict_json_schema=True)], mcp_servers=[], mcp_config={}, input_guardrails=[], output_guardrails=[], output_type=None, hooks=None, tool_use_behavior='run_llm_again', reset_tool_choice=True)], model='gpt-4.1', model_settings=ModelSettings(temperature=None, top_p=None, frequency_penalty=None, presence_penalty=None, tool_choice=None, parallel_tool_calls=None, truncation=None, max_tokens=None, reasoning=None, metadata=None, store=None, include_usage=None, extra_query=None, extra_body=None, extra_headers=None), tools=[], mcp_servers=[], mcp_config={}, input_guardrails=[], output_guardrails=[], output_type=None, hooks=None, tool_use_behavior='run_llm_again', reset_tool_choice=True)], model='gpt-4.1', model_settings=ModelSettings(temperature=None, top_p=None, frequency_penalty=None, presence_penalty=None, tool_choice=None, parallel_tool_calls=None, truncation=None, max_tokens=None, reasoning=None, metadata=None, store=None, include_usage=None, extra_query=None, extra_body=None, extra_headers=None), tools=[], mcp_servers=[], mcp_config={}, input_guardrails=[], output_guardrails=[], output_type=None, hooks=None, tool_use_behavior='run_llm_again', reset_tool_choice=True), raw_item=ResponseFunctionToolCall(arguments='{}', call_id='call_4NtOGc1pQV7UOeVT9B1HjQue', name='transfer_to_weatherman', type='function_call', id='fc_68232c3157ec8198a8e7a414de9a094501ecd96cfd4a7bca', status='completed'), type='handoff_call_item'), HandoffOutputItem(agent=Agent(name='Crop disease doctor', instructions='You provide help with crop diseases. Analyse a photo and tell the user what is causing the disease and what a good treatment is', handoff_description='An agent that can identify crop pests and diseases from an image', handoffs=[Agent(name='Weatherman', instructions='You can look up the weather', handoff_description='An agent that can look up the weather for a location', handoffs=[Agent(name='Triage Agent', instructions=<function triage_agent_instructions at 0x10a05fe20>, handoff_description=\"A triage agent that can delegate a customer's request to the appropriate agent.\", handoffs=[..., ...], model='gpt-4.1', model_settings=ModelSettings(temperature=None, top_p=None, frequency_penalty=None, presence_penalty=None, tool_choice=None, parallel_tool_calls=None, truncation=None, max_tokens=None, reasoning=None, metadata=None, store=None, include_usage=None, extra_query=None, extra_body=None, extra_headers=None), tools=[], mcp_servers=[], mcp_config={}, input_guardrails=[], output_guardrails=[], output_type=None, hooks=None, tool_use_behavior='run_llm_again', reset_tool_choice=True)], model='gpt-4.1', model_settings=ModelSettings(temperature=None, top_p=None, frequency_penalty=None, presence_penalty=None, tool_choice=None, parallel_tool_calls=None, truncation=None, max_tokens=None, reasoning=None, metadata=None, store=None, include_usage=None, extra_query=None, extra_body=None, extra_headers=None), tools=[FunctionTool(name='get_weather', description='', params_json_schema={'properties': {'location': {'title': 'Location', 'type': 'string'}}, 'required': ['location'], 'title': 'get_weather_args', 'type': 'object', 'additionalProperties': False}, on_invoke_tool=<function function_tool.<locals>._create_function_tool.<locals>._on_invoke_tool at 0x10a05f380>, strict_json_schema=True)], mcp_servers=[], mcp_config={}, input_guardrails=[], output_guardrails=[], output_type=None, hooks=None, tool_use_behavior='run_llm_again', reset_tool_choice=True), Agent(name='Triage Agent', instructions=<function triage_agent_instructions at 0x10a05fe20>, handoff_description=\"A triage agent that can delegate a customer's request to the appropriate agent.\", handoffs=[..., Agent(name='Weatherman', instructions='You can look up the weather', handoff_description='An agent that can look up the weather for a location', handoffs=[...], model='gpt-4.1', model_settings=ModelSettings(temperature=None, top_p=None, frequency_penalty=None, presence_penalty=None, tool_choice=None, parallel_tool_calls=None, truncation=None, max_tokens=None, reasoning=None, metadata=None, store=None, include_usage=None, extra_query=None, extra_body=None, extra_headers=None), tools=[FunctionTool(name='get_weather', description='', params_json_schema={'properties': {'location': {'title': 'Location', 'type': 'string'}}, 'required': ['location'], 'title': 'get_weather_args', 'type': 'object', 'additionalProperties': False}, on_invoke_tool=<function function_tool.<locals>._create_function_tool.<locals>._on_invoke_tool at 0x10a05f380>, strict_json_schema=True)], mcp_servers=[], mcp_config={}, input_guardrails=[], output_guardrails=[], output_type=None, hooks=None, tool_use_behavior='run_llm_again', reset_tool_choice=True)], model='gpt-4.1', model_settings=ModelSettings(temperature=None, top_p=None, frequency_penalty=None, presence_penalty=None, tool_choice=None, parallel_tool_calls=None, truncation=None, max_tokens=None, reasoning=None, metadata=None, store=None, include_usage=None, extra_query=None, extra_body=None, extra_headers=None), tools=[], mcp_servers=[], mcp_config={}, input_guardrails=[], output_guardrails=[], output_type=None, hooks=None, tool_use_behavior='run_llm_again', reset_tool_choice=True)], model='gpt-4.1', model_settings=ModelSettings(temperature=None, top_p=None, frequency_penalty=None, presence_penalty=None, tool_choice=None, parallel_tool_calls=None, truncation=None, max_tokens=None, reasoning=None, metadata=None, store=None, include_usage=None, extra_query=None, extra_body=None, extra_headers=None), tools=[], mcp_servers=[], mcp_config={}, input_guardrails=[], output_guardrails=[], output_type=None, hooks=None, tool_use_behavior='run_llm_again', reset_tool_choice=True), raw_item={'call_id': 'call_4NtOGc1pQV7UOeVT9B1HjQue', 'output': \"{'assistant': 'Weatherman'}\", 'type': 'function_call_output'}, source_agent=Agent(name='Crop disease doctor', instructions='You provide help with crop diseases. Analyse a photo and tell the user what is causing the disease and what a good treatment is', handoff_description='An agent that can identify crop pests and diseases from an image', handoffs=[Agent(name='Weatherman', instructions='You can look up the weather', handoff_description='An agent that can look up the weather for a location', handoffs=[Agent(name='Triage Agent', instructions=<function triage_agent_instructions at 0x10a05fe20>, handoff_description=\"A triage agent that can delegate a customer's request to the appropriate agent.\", handoffs=[..., ...], model='gpt-4.1', model_settings=ModelSettings(temperature=None, top_p=None, frequency_penalty=None, presence_penalty=None, tool_choice=None, parallel_tool_calls=None, truncation=None, max_tokens=None, reasoning=None, metadata=None, store=None, include_usage=None, extra_query=None, extra_body=None, extra_headers=None), tools=[], mcp_servers=[], mcp_config={}, input_guardrails=[], output_guardrails=[], output_type=None, hooks=None, tool_use_behavior='run_llm_again', reset_tool_choice=True)], model='gpt-4.1', model_settings=ModelSettings(temperature=None, top_p=None, frequency_penalty=None, presence_penalty=None, tool_choice=None, parallel_tool_calls=None, truncation=None, max_tokens=None, reasoning=None, metadata=None, store=None, include_usage=None, extra_query=None, extra_body=None, extra_headers=None), tools=[FunctionTool(name='get_weather', description='', params_json_schema={'properties': {'location': {'title': 'Location', 'type': 'string'}}, 'required': ['location'], 'title': 'get_weather_args', 'type': 'object', 'additionalProperties': False}, on_invoke_tool=<function function_tool.<locals>._create_function_tool.<locals>._on_invoke_tool at 0x10a05f380>, strict_json_schema=True)], mcp_servers=[], mcp_config={}, input_guardrails=[], output_guardrails=[], output_type=None, hooks=None, tool_use_behavior='run_llm_again', reset_tool_choice=True), Agent(name='Triage Agent', instructions=<function triage_agent_instructions at 0x10a05fe20>, handoff_description=\"A triage agent that can delegate a customer's request to the appropriate agent.\", handoffs=[..., Agent(name='Weatherman', instructions='You can look up the weather', handoff_description='An agent that can look up the weather for a location', handoffs=[...], model='gpt-4.1', model_settings=ModelSettings(temperature=None, top_p=None, frequency_penalty=None, presence_penalty=None, tool_choice=None, parallel_tool_calls=None, truncation=None, max_tokens=None, reasoning=None, metadata=None, store=None, include_usage=None, extra_query=None, extra_body=None, extra_headers=None), tools=[FunctionTool(name='get_weather', description='', params_json_schema={'properties': {'location': {'title': 'Location', 'type': 'string'}}, 'required': ['location'], 'title': 'get_weather_args', 'type': 'object', 'additionalProperties': False}, on_invoke_tool=<function function_tool.<locals>._create_function_tool.<locals>._on_invoke_tool at 0x10a05f380>, strict_json_schema=True)], mcp_servers=[], mcp_config={}, input_guardrails=[], output_guardrails=[], output_type=None, hooks=None, tool_use_behavior='run_llm_again', reset_tool_choice=True)], model='gpt-4.1', model_settings=ModelSettings(temperature=None, top_p=None, frequency_penalty=None, presence_penalty=None, tool_choice=None, parallel_tool_calls=None, truncation=None, max_tokens=None, reasoning=None, metadata=None, store=None, include_usage=None, extra_query=None, extra_body=None, extra_headers=None), tools=[], mcp_servers=[], mcp_config={}, input_guardrails=[], output_guardrails=[], output_type=None, hooks=None, tool_use_behavior='run_llm_again', reset_tool_choice=True)], model='gpt-4.1', model_settings=ModelSettings(temperature=None, top_p=None, frequency_penalty=None, presence_penalty=None, tool_choice=None, parallel_tool_calls=None, truncation=None, max_tokens=None, reasoning=None, metadata=None, store=None, include_usage=None, extra_query=None, extra_body=None, extra_headers=None), tools=[], mcp_servers=[], mcp_config={}, input_guardrails=[], output_guardrails=[], output_type=None, hooks=None, tool_use_behavior='run_llm_again', reset_tool_choice=True), target_agent=Agent(name='Weatherman', instructions='You can look up the weather', handoff_description='An agent that can look up the weather for a location', handoffs=[Agent(name='Triage Agent', instructions=<function triage_agent_instructions at 0x10a05fe20>, handoff_description=\"A triage agent that can delegate a customer's request to the appropriate agent.\", handoffs=[Agent(name='Crop disease doctor', instructions='You provide help with crop diseases. Analyse a photo and tell the user what is causing the disease and what a good treatment is', handoff_description='An agent that can identify crop pests and diseases from an image', handoffs=[..., ...], model='gpt-4.1', model_settings=ModelSettings(temperature=None, top_p=None, frequency_penalty=None, presence_penalty=None, tool_choice=None, parallel_tool_calls=None, truncation=None, max_tokens=None, reasoning=None, metadata=None, store=None, include_usage=None, extra_query=None, extra_body=None, extra_headers=None), tools=[], mcp_servers=[], mcp_config={}, input_guardrails=[], output_guardrails=[], output_type=None, hooks=None, tool_use_behavior='run_llm_again', reset_tool_choice=True), ...], model='gpt-4.1', model_settings=ModelSettings(temperature=None, top_p=None, frequency_penalty=None, presence_penalty=None, tool_choice=None, parallel_tool_calls=None, truncation=None, max_tokens=None, reasoning=None, metadata=None, store=None, include_usage=None, extra_query=None, extra_body=None, extra_headers=None), tools=[], mcp_servers=[], mcp_config={}, input_guardrails=[], output_guardrails=[], output_type=None, hooks=None, tool_use_behavior='run_llm_again', reset_tool_choice=True)], model='gpt-4.1', model_settings=ModelSettings(temperature=None, top_p=None, frequency_penalty=None, presence_penalty=None, tool_choice=None, parallel_tool_calls=None, truncation=None, max_tokens=None, reasoning=None, metadata=None, store=None, include_usage=None, extra_query=None, extra_body=None, extra_headers=None), tools=[FunctionTool(name='get_weather', description='', params_json_schema={'properties': {'location': {'title': 'Location', 'type': 'string'}}, 'required': ['location'], 'title': 'get_weather_args', 'type': 'object', 'additionalProperties': False}, on_invoke_tool=<function function_tool.<locals>._create_function_tool.<locals>._on_invoke_tool at 0x10a05f380>, strict_json_schema=True)], mcp_servers=[], mcp_config={}, input_guardrails=[], output_guardrails=[], output_type=None, hooks=None, tool_use_behavior='run_llm_again', reset_tool_choice=True), type='handoff_output_item'), ToolCallItem(agent=Agent(name='Weatherman', instructions='You can look up the weather', handoff_description='An agent that can look up the weather for a location', handoffs=[Agent(name='Triage Agent', instructions=<function triage_agent_instructions at 0x10a05fe20>, handoff_description=\"A triage agent that can delegate a customer's request to the appropriate agent.\", handoffs=[Agent(name='Crop disease doctor', instructions='You provide help with crop diseases. Analyse a photo and tell the user what is causing the disease and what a good treatment is', handoff_description='An agent that can identify crop pests and diseases from an image', handoffs=[..., ...], model='gpt-4.1', model_settings=ModelSettings(temperature=None, top_p=None, frequency_penalty=None, presence_penalty=None, tool_choice=None, parallel_tool_calls=None, truncation=None, max_tokens=None, reasoning=None, metadata=None, store=None, include_usage=None, extra_query=None, extra_body=None, extra_headers=None), tools=[], mcp_servers=[], mcp_config={}, input_guardrails=[], output_guardrails=[], output_type=None, hooks=None, tool_use_behavior='run_llm_again', reset_tool_choice=True), ...], model='gpt-4.1', model_settings=ModelSettings(temperature=None, top_p=None, frequency_penalty=None, presence_penalty=None, tool_choice=None, parallel_tool_calls=None, truncation=None, max_tokens=None, reasoning=None, metadata=None, store=None, include_usage=None, extra_query=None, extra_body=None, extra_headers=None), tools=[], mcp_servers=[], mcp_config={}, input_guardrails=[], output_guardrails=[], output_type=None, hooks=None, tool_use_behavior='run_llm_again', reset_tool_choice=True)], model='gpt-4.1', model_settings=ModelSettings(temperature=None, top_p=None, frequency_penalty=None, presence_penalty=None, tool_choice=None, parallel_tool_calls=None, truncation=None, max_tokens=None, reasoning=None, metadata=None, store=None, include_usage=None, extra_query=None, extra_body=None, extra_headers=None), tools=[FunctionTool(name='get_weather', description='', params_json_schema={'properties': {'location': {'title': 'Location', 'type': 'string'}}, 'required': ['location'], 'title': 'get_weather_args', 'type': 'object', 'additionalProperties': False}, on_invoke_tool=<function function_tool.<locals>._create_function_tool.<locals>._on_invoke_tool at 0x10a05f380>, strict_json_schema=True)], mcp_servers=[], mcp_config={}, input_guardrails=[], output_guardrails=[], output_type=None, hooks=None, tool_use_behavior='run_llm_again', reset_tool_choice=True), raw_item=ResponseFunctionToolCall(arguments='{\"location\":\"Bungoma\"}', call_id='call_GTUN5V8xF18u6oJU5LeISYDY', name='get_weather', type='function_call', id='fc_68232c341cc48198aa4919810988db1501ecd96cfd4a7bca', status='completed'), type='tool_call_item'), ToolCallOutputItem(agent=Agent(name='Weatherman', instructions='You can look up the weather', handoff_description='An agent that can look up the weather for a location', handoffs=[Agent(name='Triage Agent', instructions=<function triage_agent_instructions at 0x10a05fe20>, handoff_description=\"A triage agent that can delegate a customer's request to the appropriate agent.\", handoffs=[Agent(name='Crop disease doctor', instructions='You provide help with crop diseases. Analyse a photo and tell the user what is causing the disease and what a good treatment is', handoff_description='An agent that can identify crop pests and diseases from an image', handoffs=[..., ...], model='gpt-4.1', model_settings=ModelSettings(temperature=None, top_p=None, frequency_penalty=None, presence_penalty=None, tool_choice=None, parallel_tool_calls=None, truncation=None, max_tokens=None, reasoning=None, metadata=None, store=None, include_usage=None, extra_query=None, extra_body=None, extra_headers=None), tools=[], mcp_servers=[], mcp_config={}, input_guardrails=[], output_guardrails=[], output_type=None, hooks=None, tool_use_behavior='run_llm_again', reset_tool_choice=True), ...], model='gpt-4.1', model_settings=ModelSettings(temperature=None, top_p=None, frequency_penalty=None, presence_penalty=None, tool_choice=None, parallel_tool_calls=None, truncation=None, max_tokens=None, reasoning=None, metadata=None, store=None, include_usage=None, extra_query=None, extra_body=None, extra_headers=None), tools=[], mcp_servers=[], mcp_config={}, input_guardrails=[], output_guardrails=[], output_type=None, hooks=None, tool_use_behavior='run_llm_again', reset_tool_choice=True)], model='gpt-4.1', model_settings=ModelSettings(temperature=None, top_p=None, frequency_penalty=None, presence_penalty=None, tool_choice=None, parallel_tool_calls=None, truncation=None, max_tokens=None, reasoning=None, metadata=None, store=None, include_usage=None, extra_query=None, extra_body=None, extra_headers=None), tools=[FunctionTool(name='get_weather', description='', params_json_schema={'properties': {'location': {'title': 'Location', 'type': 'string'}}, 'required': ['location'], 'title': 'get_weather_args', 'type': 'object', 'additionalProperties': False}, on_invoke_tool=<function function_tool.<locals>._create_function_tool.<locals>._on_invoke_tool at 0x10a05f380>, strict_json_schema=True)], mcp_servers=[], mcp_config={}, input_guardrails=[], output_guardrails=[], output_type=None, hooks=None, tool_use_behavior='run_llm_again', reset_tool_choice=True), raw_item={'call_id': 'call_GTUN5V8xF18u6oJU5LeISYDY', 'output': \"It's sunny and warm in Bungoma\", 'type': 'function_call_output'}, output=\"It's sunny and warm in Bungoma\", type='tool_call_output_item'), MessageOutputItem(agent=Agent(name='Weatherman', instructions='You can look up the weather', handoff_description='An agent that can look up the weather for a location', handoffs=[Agent(name='Triage Agent', instructions=<function triage_agent_instructions at 0x10a05fe20>, handoff_description=\"A triage agent that can delegate a customer's request to the appropriate agent.\", handoffs=[Agent(name='Crop disease doctor', instructions='You provide help with crop diseases. Analyse a photo and tell the user what is causing the disease and what a good treatment is', handoff_description='An agent that can identify crop pests and diseases from an image', handoffs=[..., ...], model='gpt-4.1', model_settings=ModelSettings(temperature=None, top_p=None, frequency_penalty=None, presence_penalty=None, tool_choice=None, parallel_tool_calls=None, truncation=None, max_tokens=None, reasoning=None, metadata=None, store=None, include_usage=None, extra_query=None, extra_body=None, extra_headers=None), tools=[], mcp_servers=[], mcp_config={}, input_guardrails=[], output_guardrails=[], output_type=None, hooks=None, tool_use_behavior='run_llm_again', reset_tool_choice=True), ...], model='gpt-4.1', model_settings=ModelSettings(temperature=None, top_p=None, frequency_penalty=None, presence_penalty=None, tool_choice=None, parallel_tool_calls=None, truncation=None, max_tokens=None, reasoning=None, metadata=None, store=None, include_usage=None, extra_query=None, extra_body=None, extra_headers=None), tools=[], mcp_servers=[], mcp_config={}, input_guardrails=[], output_guardrails=[], output_type=None, hooks=None, tool_use_behavior='run_llm_again', reset_tool_choice=True)], model='gpt-4.1', model_settings=ModelSettings(temperature=None, top_p=None, frequency_penalty=None, presence_penalty=None, tool_choice=None, parallel_tool_calls=None, truncation=None, max_tokens=None, reasoning=None, metadata=None, store=None, include_usage=None, extra_query=None, extra_body=None, extra_headers=None), tools=[FunctionTool(name='get_weather', description='', params_json_schema={'properties': {'location': {'title': 'Location', 'type': 'string'}}, 'required': ['location'], 'title': 'get_weather_args', 'type': 'object', 'additionalProperties': False}, on_invoke_tool=<function function_tool.<locals>._create_function_tool.<locals>._on_invoke_tool at 0x10a05f380>, strict_json_schema=True)], mcp_servers=[], mcp_config={}, input_guardrails=[], output_guardrails=[], output_type=None, hooks=None, tool_use_behavior='run_llm_again', reset_tool_choice=True), raw_item=ResponseOutputMessage(id='msg_68232c37e4cc819885bfff63a9cc88e801ecd96cfd4a7bca', content=[ResponseOutputText(annotations=[], text=\"The image shows maize plants likely affected by a viral disease like Maize Streak Virus or Maize Lethal Necrosis Disease (MLND), as indicated by the yellow streaks and overall unhealthy leaf appearance. This can reduce crop yields and should be managed by using clean seed, removing infected plants, and controlling insect vectors.\\n\\nFor Bungoma, today's weather is sunny and warm. If you have crops in the area, this is generally good growing weather, but remember to monitor your maize for pest or disease spread, especially under such conditions.\", type='output_text')], role='assistant', status='completed', type='message'), type='message_output_item')], raw_responses=[ModelResponse(output=[ResponseFunctionToolCall(arguments='{}', call_id='call_0C0vPpzNFKJSepznTPtKsI38', name='transfer_to_crop_disease_doctor', type='function_call', id='fc_68232c29e7fc8198a9d8d381f793509601ecd96cfd4a7bca', status='completed'), ResponseFunctionToolCall(arguments='{}', call_id='call_gAJchypqqIsMo8Sqhie3fpiT', name='transfer_to_weatherman', type='function_call', id='fc_68232c2a35988198bc39419bc6501da401ecd96cfd4a7bca', status='completed')], usage=Usage(requests=1, input_tokens=0, output_tokens=0, total_tokens=0), response_id='resp_68232c2826288198b2f19bcb186c62c001ecd96cfd4a7bca'), ModelResponse(output=[ResponseOutputMessage(id='msg_68232c2c5fc48198ab8f87e30ba012a101ecd96cfd4a7bca', content=[ResponseOutputText(annotations=[], text='From the image, it appears that the maize (corn) plants are showing symptoms of Maize Lethal Necrosis Disease (MLND) or possibly Maize Streak Virus. The leaves have streaky yellow and pale green striping, which can indicate viral infection transmitted by insects like thrips or leafhoppers.\\n\\nCommon symptoms:\\n- Yellow streaks running parallel to the veins\\n- Eventually, leaves dry up and die\\n- Stunted plant growth and poor grain formation\\n\\nTreatment and management:\\n1. Use certified virus-free seeds.\\n2. Practice crop rotation; avoid planting maize after other cereal crops.\\n3. Control insect vectors with appropriate insecticides.\\n4. Remove and destroy infected plants to prevent spread.\\n5. Plant maize varieties that show resistance to viral diseases, if available.\\n\\nFor the current weather in Bungoma today, I will check that information for you.', type='output_text')], role='assistant', status='completed', type='message'), ResponseFunctionToolCall(arguments='{}', call_id='call_4NtOGc1pQV7UOeVT9B1HjQue', name='transfer_to_weatherman', type='function_call', id='fc_68232c3157ec8198a8e7a414de9a094501ecd96cfd4a7bca', status='completed')], usage=Usage(requests=1, input_tokens=1100, output_tokens=192, total_tokens=1292), response_id='resp_68232c2ac1a88198b83f0c8ca4de425501ecd96cfd4a7bca'), ModelResponse(output=[ResponseFunctionToolCall(arguments='{\"location\":\"Bungoma\"}', call_id='call_GTUN5V8xF18u6oJU5LeISYDY', name='get_weather', type='function_call', id='fc_68232c341cc48198aa4919810988db1501ecd96cfd4a7bca', status='completed')], usage=Usage(requests=1, input_tokens=640, output_tokens=17, total_tokens=657), response_id='resp_68232c31dc708198b011d435088537a201ecd96cfd4a7bca'), ModelResponse(output=[ResponseOutputMessage(id='msg_68232c37e4cc819885bfff63a9cc88e801ecd96cfd4a7bca', content=[ResponseOutputText(annotations=[], text=\"The image shows maize plants likely affected by a viral disease like Maize Streak Virus or Maize Lethal Necrosis Disease (MLND), as indicated by the yellow streaks and overall unhealthy leaf appearance. This can reduce crop yields and should be managed by using clean seed, removing infected plants, and controlling insect vectors.\\n\\nFor Bungoma, today's weather is sunny and warm. If you have crops in the area, this is generally good growing weather, but remember to monitor your maize for pest or disease spread, especially under such conditions.\", type='output_text')], role='assistant', status='completed', type='message')], usage=Usage(requests=1, input_tokens=672, output_tokens=111, total_tokens=783), response_id='resp_68232c363c748198869e2012bef886ec01ecd96cfd4a7bca')], final_output=\"The image shows maize plants likely affected by a viral disease like Maize Streak Virus or Maize Lethal Necrosis Disease (MLND), as indicated by the yellow streaks and overall unhealthy leaf appearance. This can reduce crop yields and should be managed by using clean seed, removing infected plants, and controlling insect vectors.\\n\\nFor Bungoma, today's weather is sunny and warm. If you have crops in the area, this is generally good growing weather, but remember to monitor your maize for pest or disease spread, especially under such conditions.\", input_guardrail_results=[], output_guardrail_results=[], context_wrapper=RunContextWrapper(context=UserContext(user_id=1, name='Mark', phone_number='31657775781', organization='default', location=Location(latitude=1.0, longitude=1.0)), usage=Usage(requests=4, input_tokens=2412, output_tokens=320, total_tokens=2732)), _last_agent=Agent(name='Weatherman', instructions='You can look up the weather', handoff_description='An agent that can look up the weather for a location', handoffs=[Agent(name='Triage Agent', instructions=<function triage_agent_instructions at 0x10a05fe20>, handoff_description=\"A triage agent that can delegate a customer's request to the appropriate agent.\", handoffs=[Agent(name='Crop disease doctor', instructions='You provide help with crop diseases. Analyse a photo and tell the user what is causing the disease and what a good treatment is', handoff_description='An agent that can identify crop pests and diseases from an image', handoffs=[..., ...], model='gpt-4.1', model_settings=ModelSettings(temperature=None, top_p=None, frequency_penalty=None, presence_penalty=None, tool_choice=None, parallel_tool_calls=None, truncation=None, max_tokens=None, reasoning=None, metadata=None, store=None, include_usage=None, extra_query=None, extra_body=None, extra_headers=None), tools=[], mcp_servers=[], mcp_config={}, input_guardrails=[], output_guardrails=[], output_type=None, hooks=None, tool_use_behavior='run_llm_again', reset_tool_choice=True), ...], model='gpt-4.1', model_settings=ModelSettings(temperature=None, top_p=None, frequency_penalty=None, presence_penalty=None, tool_choice=None, parallel_tool_calls=None, truncation=None, max_tokens=None, reasoning=None, metadata=None, store=None, include_usage=None, extra_query=None, extra_body=None, extra_headers=None), tools=[], mcp_servers=[], mcp_config={}, input_guardrails=[], output_guardrails=[], output_type=None, hooks=None, tool_use_behavior='run_llm_again', reset_tool_choice=True)], model='gpt-4.1', model_settings=ModelSettings(temperature=None, top_p=None, frequency_penalty=None, presence_penalty=None, tool_choice=None, parallel_tool_calls=None, truncation=None, max_tokens=None, reasoning=None, metadata=None, store=None, include_usage=None, extra_query=None, extra_body=None, extra_headers=None), tools=[FunctionTool(name='get_weather', description='', params_json_schema={'properties': {'location': {'title': 'Location', 'type': 'string'}}, 'required': ['location'], 'title': 'get_weather_args', 'type': 'object', 'additionalProperties': False}, on_invoke_tool=<function function_tool.<locals>._create_function_tool.<locals>._on_invoke_tool at 0x10a05f380>, strict_json_schema=True)], mcp_servers=[], mcp_config={}, input_guardrails=[], output_guardrails=[], output_type=None, hooks=None, tool_use_behavior='run_llm_again', reset_tool_choice=True))"
      ]
     },
     "execution_count": 2,
     "metadata": {},
     "output_type": "execute_result"
    }
   ],
   "execution_count": 2
  },
  {
   "metadata": {
    "ExecuteTime": {
     "end_time": "2025-05-13T11:33:42.540002Z",
     "start_time": "2025-05-13T11:33:42.485169Z"
    }
   },
   "cell_type": "code",
   "source": [
    "from farmbase.database.core import Base\n",
    "from sqlalchemy import create_engine\n",
    "from farmbase.messages.models import RunResult\n",
    "from sqlalchemy.orm import Session\n",
    "\n",
    "engine = create_engine(\"sqlite:///sqlalchemy_play.db\", echo=True)\n",
    "Base.metadata.drop_all(engine)\n",
    "Base.metadata.create_all(engine)\n",
    "\n",
    "# conn = engine.connect()"
   ],
   "id": "1548fa17e80cda84",
   "outputs": [
    {
     "name": "stdout",
     "output_type": "stream",
     "text": [
      "2025-05-13 14:33:42,502 INFO sqlalchemy.engine.Engine BEGIN (implicit)\n",
      "2025-05-13 14:33:42,503 INFO sqlalchemy.engine.Engine PRAGMA main.table_info(\"agent\")\n",
      "2025-05-13 14:33:42,504 INFO sqlalchemy.engine.Engine [raw sql] ()\n",
      "2025-05-13 14:33:42,505 INFO sqlalchemy.engine.Engine PRAGMA main.table_info(\"run_result\")\n",
      "2025-05-13 14:33:42,505 INFO sqlalchemy.engine.Engine [raw sql] ()\n",
      "2025-05-13 14:33:42,506 INFO sqlalchemy.engine.Engine PRAGMA main.table_info(\"model_response\")\n",
      "2025-05-13 14:33:42,506 INFO sqlalchemy.engine.Engine [raw sql] ()\n",
      "2025-05-13 14:33:42,507 INFO sqlalchemy.engine.Engine PRAGMA main.table_info(\"run_item\")\n",
      "2025-05-13 14:33:42,507 INFO sqlalchemy.engine.Engine [raw sql] ()\n",
      "2025-05-13 14:33:42,508 INFO sqlalchemy.engine.Engine \n",
      "DROP TABLE run_item\n",
      "2025-05-13 14:33:42,509 INFO sqlalchemy.engine.Engine [no key 0.00029s] ()\n",
      "2025-05-13 14:33:42,510 INFO sqlalchemy.engine.Engine \n",
      "DROP TABLE model_response\n",
      "2025-05-13 14:33:42,511 INFO sqlalchemy.engine.Engine [no key 0.00035s] ()\n",
      "2025-05-13 14:33:42,512 INFO sqlalchemy.engine.Engine \n",
      "DROP TABLE run_result\n",
      "2025-05-13 14:33:42,513 INFO sqlalchemy.engine.Engine [no key 0.00033s] ()\n",
      "2025-05-13 14:33:42,517 INFO sqlalchemy.engine.Engine \n",
      "DROP TABLE agent\n",
      "2025-05-13 14:33:42,517 INFO sqlalchemy.engine.Engine [no key 0.00043s] ()\n",
      "2025-05-13 14:33:42,520 INFO sqlalchemy.engine.Engine COMMIT\n",
      "2025-05-13 14:33:42,521 INFO sqlalchemy.engine.Engine BEGIN (implicit)\n",
      "2025-05-13 14:33:42,521 INFO sqlalchemy.engine.Engine PRAGMA main.table_info(\"agent\")\n",
      "2025-05-13 14:33:42,522 INFO sqlalchemy.engine.Engine [raw sql] ()\n",
      "2025-05-13 14:33:42,522 INFO sqlalchemy.engine.Engine PRAGMA temp.table_info(\"agent\")\n",
      "2025-05-13 14:33:42,522 INFO sqlalchemy.engine.Engine [raw sql] ()\n",
      "2025-05-13 14:33:42,523 INFO sqlalchemy.engine.Engine PRAGMA main.table_info(\"run_result\")\n",
      "2025-05-13 14:33:42,523 INFO sqlalchemy.engine.Engine [raw sql] ()\n",
      "2025-05-13 14:33:42,523 INFO sqlalchemy.engine.Engine PRAGMA temp.table_info(\"run_result\")\n",
      "2025-05-13 14:33:42,524 INFO sqlalchemy.engine.Engine [raw sql] ()\n",
      "2025-05-13 14:33:42,524 INFO sqlalchemy.engine.Engine PRAGMA main.table_info(\"model_response\")\n",
      "2025-05-13 14:33:42,524 INFO sqlalchemy.engine.Engine [raw sql] ()\n",
      "2025-05-13 14:33:42,525 INFO sqlalchemy.engine.Engine PRAGMA temp.table_info(\"model_response\")\n",
      "2025-05-13 14:33:42,525 INFO sqlalchemy.engine.Engine [raw sql] ()\n",
      "2025-05-13 14:33:42,525 INFO sqlalchemy.engine.Engine PRAGMA main.table_info(\"run_item\")\n",
      "2025-05-13 14:33:42,526 INFO sqlalchemy.engine.Engine [raw sql] ()\n",
      "2025-05-13 14:33:42,526 INFO sqlalchemy.engine.Engine PRAGMA temp.table_info(\"run_item\")\n",
      "2025-05-13 14:33:42,526 INFO sqlalchemy.engine.Engine [raw sql] ()\n",
      "2025-05-13 14:33:42,527 INFO sqlalchemy.engine.Engine \n",
      "CREATE TABLE agent (\n",
      "\tid INTEGER NOT NULL, \n",
      "\tname VARCHAR(120) NOT NULL, \n",
      "\tmetadata JSON NOT NULL, \n",
      "\tPRIMARY KEY (id), \n",
      "\tUNIQUE (name)\n",
      ")\n",
      "\n",
      "\n",
      "2025-05-13 14:33:42,528 INFO sqlalchemy.engine.Engine [no key 0.00029s] ()\n",
      "2025-05-13 14:33:42,529 INFO sqlalchemy.engine.Engine \n",
      "CREATE TABLE run_result (\n",
      "\tid INTEGER NOT NULL, \n",
      "\tcreated_at DATETIME NOT NULL, \n",
      "\tinput JSON NOT NULL, \n",
      "\tfinal_output JSON, \n",
      "\tinput_guardrails JSON, \n",
      "\toutput_guardrails JSON, \n",
      "\tlast_agent_id INTEGER, \n",
      "\tinput_list JSON NOT NULL, \n",
      "\tPRIMARY KEY (id), \n",
      "\tFOREIGN KEY(last_agent_id) REFERENCES agent (id) ON DELETE SET NULL\n",
      ")\n",
      "\n",
      "\n",
      "2025-05-13 14:33:42,529 INFO sqlalchemy.engine.Engine [no key 0.00026s] ()\n",
      "2025-05-13 14:33:42,530 INFO sqlalchemy.engine.Engine \n",
      "CREATE TABLE model_response (\n",
      "\tid INTEGER NOT NULL, \n",
      "\trun_result_id INTEGER NOT NULL, \n",
      "\tresponse_id VARCHAR(64) NOT NULL, \n",
      "\toutput JSON, \n",
      "\tusage JSON, \n",
      "\tcreated_at DATETIME NOT NULL, \n",
      "\tPRIMARY KEY (id), \n",
      "\tFOREIGN KEY(run_result_id) REFERENCES run_result (id) ON DELETE CASCADE\n",
      ")\n",
      "\n",
      "\n",
      "2025-05-13 14:33:42,531 INFO sqlalchemy.engine.Engine [no key 0.00032s] ()\n",
      "2025-05-13 14:33:42,532 INFO sqlalchemy.engine.Engine CREATE UNIQUE INDEX ix_model_response_response_id ON model_response (response_id)\n",
      "2025-05-13 14:33:42,532 INFO sqlalchemy.engine.Engine [no key 0.00019s] ()\n",
      "2025-05-13 14:33:42,534 INFO sqlalchemy.engine.Engine \n",
      "CREATE TABLE run_item (\n",
      "\tid INTEGER NOT NULL, \n",
      "\trun_result_id INTEGER NOT NULL, \n",
      "\tagent_id INTEGER, \n",
      "\traw_item JSON NOT NULL, \n",
      "\ttype VARCHAR(40) NOT NULL, \n",
      "\tcontent VARCHAR, \n",
      "\tfunction_name VARCHAR, \n",
      "\tsource_agent_id INTEGER, \n",
      "\ttarget_agent_id INTEGER, \n",
      "\toutput VARCHAR, \n",
      "\trationale VARCHAR, \n",
      "\tPRIMARY KEY (id), \n",
      "\tFOREIGN KEY(run_result_id) REFERENCES run_result (id) ON DELETE CASCADE, \n",
      "\tFOREIGN KEY(agent_id) REFERENCES agent (id) ON DELETE SET NULL, \n",
      "\tFOREIGN KEY(source_agent_id) REFERENCES agent (id) ON DELETE SET NULL, \n",
      "\tFOREIGN KEY(target_agent_id) REFERENCES agent (id) ON DELETE SET NULL\n",
      ")\n",
      "\n",
      "\n",
      "2025-05-13 14:33:42,534 INFO sqlalchemy.engine.Engine [no key 0.00039s] ()\n",
      "2025-05-13 14:33:42,536 INFO sqlalchemy.engine.Engine CREATE INDEX ix_run_item_type ON run_item (type)\n",
      "2025-05-13 14:33:42,536 INFO sqlalchemy.engine.Engine [no key 0.00028s] ()\n",
      "2025-05-13 14:33:42,537 INFO sqlalchemy.engine.Engine CREATE INDEX ix_run_item_run_result_id ON run_item (run_result_id)\n",
      "2025-05-13 14:33:42,537 INFO sqlalchemy.engine.Engine [no key 0.00042s] ()\n",
      "2025-05-13 14:33:42,538 INFO sqlalchemy.engine.Engine COMMIT\n"
     ]
    }
   ],
   "execution_count": 26
  },
  {
   "metadata": {
    "ExecuteTime": {
     "end_time": "2025-05-13T11:33:43.594048Z",
     "start_time": "2025-05-13T11:33:43.562656Z"
    }
   },
   "cell_type": "code",
   "source": [
    "from farmbase.messages import models\n",
    "with Session(engine) as session:\n",
    "    crop_doctor_model = models.Agent(name=crop_doctor.name)\n",
    "    triage_model = models.Agent(name=triage_agent.name)\n",
    "    weatherman_model = models.Agent(name=weatherman.name)\n",
    "    # session.reload()\n",
    "    session.add_all([crop_doctor_model, triage_model, weatherman_model])\n",
    "    session.commit()\n",
    "\n",
    "    agents_dict = {\n",
    "        crop_doctor.name: crop_doctor_model,\n",
    "        triage_model.name: triage_model,\n",
    "        weatherman_model.name: weatherman_model,\n",
    "    }\n",
    "\n"
   ],
   "id": "223809e686ff702",
   "outputs": [
    {
     "name": "stdout",
     "output_type": "stream",
     "text": [
      "2025-05-13 14:33:43,581 INFO sqlalchemy.engine.Engine BEGIN (implicit)\n",
      "2025-05-13 14:33:43,583 INFO sqlalchemy.engine.Engine INSERT INTO agent (name, metadata) VALUES (?, ?) RETURNING id\n",
      "2025-05-13 14:33:43,584 INFO sqlalchemy.engine.Engine [generated in 0.00013s (insertmanyvalues) 1/3 (ordered; batch not supported)] ('Crop disease doctor', '{}')\n",
      "2025-05-13 14:33:43,584 INFO sqlalchemy.engine.Engine INSERT INTO agent (name, metadata) VALUES (?, ?) RETURNING id\n",
      "2025-05-13 14:33:43,585 INFO sqlalchemy.engine.Engine [insertmanyvalues 2/3 (ordered; batch not supported)] ('Triage Agent', '{}')\n",
      "2025-05-13 14:33:43,585 INFO sqlalchemy.engine.Engine INSERT INTO agent (name, metadata) VALUES (?, ?) RETURNING id\n",
      "2025-05-13 14:33:43,586 INFO sqlalchemy.engine.Engine [insertmanyvalues 3/3 (ordered; batch not supported)] ('Weatherman', '{}')\n",
      "2025-05-13 14:33:43,587 INFO sqlalchemy.engine.Engine COMMIT\n",
      "2025-05-13 14:33:43,588 INFO sqlalchemy.engine.Engine BEGIN (implicit)\n",
      "2025-05-13 14:33:43,589 INFO sqlalchemy.engine.Engine SELECT agent.id AS agent_id, agent.name AS agent_name, agent.metadata AS agent_metadata \n",
      "FROM agent \n",
      "WHERE agent.id = ?\n",
      "2025-05-13 14:33:43,589 INFO sqlalchemy.engine.Engine [generated in 0.00035s] (2,)\n",
      "2025-05-13 14:33:43,590 INFO sqlalchemy.engine.Engine SELECT agent.id AS agent_id, agent.name AS agent_name, agent.metadata AS agent_metadata \n",
      "FROM agent \n",
      "WHERE agent.id = ?\n",
      "2025-05-13 14:33:43,591 INFO sqlalchemy.engine.Engine [cached since 0.001883s ago] (3,)\n",
      "2025-05-13 14:33:43,592 INFO sqlalchemy.engine.Engine ROLLBACK\n"
     ]
    }
   ],
   "execution_count": 27
  },
  {
   "metadata": {
    "ExecuteTime": {
     "end_time": "2025-05-13T11:33:51.705937Z",
     "start_time": "2025-05-13T11:33:51.645690Z"
    }
   },
   "cell_type": "code",
   "source": [
    "\n",
    "\n",
    "with Session(engine) as session:\n",
    "    res = models.RunResult(\n",
    "        input_=result.input,\n",
    "        final_output=result.final_output,\n",
    "        input_guardrails=None,\n",
    "        output_guardrails=None,\n",
    "        last_agent=agents_dict[result.last_agent.name],\n",
    "        raw_responses=[\n",
    "            models.ModelResponse(\n",
    "                response_id=r.response_id,\n",
    "                output=[[r.model_dump() for r in raw_resp.output] for raw_resp in result.raw_responses],\n",
    "                usage=[asdict(raw_resp.usage) for raw_resp in result.raw_responses]\n",
    "            ) for r in result.raw_responses],\n",
    "        new_items=[get_run_item_model(i) for i in result.new_items],\n",
    "        input_list=result.to_input_list(),\n",
    "    )\n",
    "    session.add(res)\n",
    "    session.commit()\n",
    "    # session.refresh()"
   ],
   "id": "1af27d5397350563",
   "outputs": [
    {
     "name": "stdout",
     "output_type": "stream",
     "text": [
      "2025-05-13 14:33:51,666 INFO sqlalchemy.engine.Engine BEGIN (implicit)\n",
      "2025-05-13 14:33:51,668 INFO sqlalchemy.engine.Engine SELECT agent.id AS agent_id, agent.name AS agent_name, agent.metadata AS agent_metadata \n",
      "FROM agent \n",
      "WHERE agent.id = ?\n",
      "2025-05-13 14:33:51,669 INFO sqlalchemy.engine.Engine [cached since 6.252s ago] (3,)\n",
      "2025-05-13 14:33:51,670 INFO sqlalchemy.engine.Engine SELECT agent.id AS agent_id, agent.name AS agent_name, agent.metadata AS agent_metadata \n",
      "FROM agent \n",
      "WHERE agent.id = ?\n",
      "2025-05-13 14:33:51,671 INFO sqlalchemy.engine.Engine [cached since 6.254s ago] (2,)\n",
      "2025-05-13 14:33:51,671 INFO sqlalchemy.engine.Engine SELECT agent.id AS agent_id, agent.name AS agent_name, agent.metadata AS agent_metadata \n",
      "FROM agent \n",
      "WHERE agent.id = ?\n",
      "2025-05-13 14:33:51,672 INFO sqlalchemy.engine.Engine [cached since 6.256s ago] (1,)\n",
      "2025-05-13 14:33:51,674 INFO sqlalchemy.engine.Engine INSERT INTO run_result (created_at, input, final_output, input_guardrails, output_guardrails, last_agent_id, input_list) VALUES (?, ?, ?, ?, ?, ?, ?)\n",
      "2025-05-13 14:33:51,675 INFO sqlalchemy.engine.Engine [generated in 0.00094s] ('2025-05-13 11:33:51.674325', '[{\"content\": [{\"text\": \"What is going on in this image? Also, what\\'s the weather like in Bungoma today?\", \"type\": \"input_text\"}, {\"detail\": \"auto\",  ... (68 characters truncated) ... SGC3jgQd0YVICGXMor-i7mbtlplOB2oQGkCDbmVIA5QT_xek16LDJaV69zpkDlc-oYH9jb7x19c0OZ8mzLAK6BVIhxx44d6OOmhKdu6m4\", \"type\": \"input_image\"}], \"role\": \"user\"}]', '\"The image shows maize plants likely affected by a viral disease like Maize Streak Virus or Maize Lethal Necrosis Disease (MLND), as indicated by the ... (257 characters truncated) ... n the area, this is generally good growing weather, but remember to monitor your maize for pest or disease spread, especially under such conditions.\"', 'null', 'null', 3, '[{\"content\": [{\"text\": \"What is going on in this image? Also, what\\'s the weather like in Bungoma today?\", \"type\": \"input_text\"}, {\"detail\": \"auto\",  ... (3265 characters truncated) ...  pest or disease spread, especially under such conditions.\", \"type\": \"output_text\"}], \"role\": \"assistant\", \"status\": \"completed\", \"type\": \"message\"}]')\n",
      "2025-05-13 14:33:51,678 INFO sqlalchemy.engine.Engine INSERT INTO model_response (run_result_id, response_id, output, usage, created_at) VALUES (?, ?, ?, ?, ?) RETURNING id\n",
      "2025-05-13 14:33:51,678 INFO sqlalchemy.engine.Engine [generated in 0.00023s (insertmanyvalues) 1/4 (ordered; batch not supported)] (1, 'resp_68232c2826288198b2f19bcb186c62c001ecd96cfd4a7bca', '[[{\"arguments\": \"{}\", \"call_id\": \"call_0C0vPpzNFKJSepznTPtKsI38\", \"name\": \"transfer_to_crop_disease_doctor\", \"type\": \"function_call\", \"id\": \"fc_68232 ... (2391 characters truncated) ... pest or disease spread, especially under such conditions.\", \"type\": \"output_text\"}], \"role\": \"assistant\", \"status\": \"completed\", \"type\": \"message\"}]]', '[{\"requests\": 1, \"input_tokens\": 0, \"output_tokens\": 0, \"total_tokens\": 0}, {\"requests\": 1, \"input_tokens\": 1100, \"output_tokens\": 192, \"total_tokens ... (21 characters truncated) ... : 1, \"input_tokens\": 640, \"output_tokens\": 17, \"total_tokens\": 657}, {\"requests\": 1, \"input_tokens\": 672, \"output_tokens\": 111, \"total_tokens\": 783}]', '2025-05-13 11:33:51.677938')\n",
      "2025-05-13 14:33:51,679 INFO sqlalchemy.engine.Engine INSERT INTO model_response (run_result_id, response_id, output, usage, created_at) VALUES (?, ?, ?, ?, ?) RETURNING id\n",
      "2025-05-13 14:33:51,679 INFO sqlalchemy.engine.Engine [insertmanyvalues 2/4 (ordered; batch not supported)] (1, 'resp_68232c2ac1a88198b83f0c8ca4de425501ecd96cfd4a7bca', '[[{\"arguments\": \"{}\", \"call_id\": \"call_0C0vPpzNFKJSepznTPtKsI38\", \"name\": \"transfer_to_crop_disease_doctor\", \"type\": \"function_call\", \"id\": \"fc_68232 ... (2391 characters truncated) ... pest or disease spread, especially under such conditions.\", \"type\": \"output_text\"}], \"role\": \"assistant\", \"status\": \"completed\", \"type\": \"message\"}]]', '[{\"requests\": 1, \"input_tokens\": 0, \"output_tokens\": 0, \"total_tokens\": 0}, {\"requests\": 1, \"input_tokens\": 1100, \"output_tokens\": 192, \"total_tokens ... (21 characters truncated) ... : 1, \"input_tokens\": 640, \"output_tokens\": 17, \"total_tokens\": 657}, {\"requests\": 1, \"input_tokens\": 672, \"output_tokens\": 111, \"total_tokens\": 783}]', '2025-05-13 11:33:51.677941')\n",
      "2025-05-13 14:33:51,680 INFO sqlalchemy.engine.Engine INSERT INTO model_response (run_result_id, response_id, output, usage, created_at) VALUES (?, ?, ?, ?, ?) RETURNING id\n",
      "2025-05-13 14:33:51,680 INFO sqlalchemy.engine.Engine [insertmanyvalues 3/4 (ordered; batch not supported)] (1, 'resp_68232c31dc708198b011d435088537a201ecd96cfd4a7bca', '[[{\"arguments\": \"{}\", \"call_id\": \"call_0C0vPpzNFKJSepznTPtKsI38\", \"name\": \"transfer_to_crop_disease_doctor\", \"type\": \"function_call\", \"id\": \"fc_68232 ... (2391 characters truncated) ... pest or disease spread, especially under such conditions.\", \"type\": \"output_text\"}], \"role\": \"assistant\", \"status\": \"completed\", \"type\": \"message\"}]]', '[{\"requests\": 1, \"input_tokens\": 0, \"output_tokens\": 0, \"total_tokens\": 0}, {\"requests\": 1, \"input_tokens\": 1100, \"output_tokens\": 192, \"total_tokens ... (21 characters truncated) ... : 1, \"input_tokens\": 640, \"output_tokens\": 17, \"total_tokens\": 657}, {\"requests\": 1, \"input_tokens\": 672, \"output_tokens\": 111, \"total_tokens\": 783}]', '2025-05-13 11:33:51.677943')\n",
      "2025-05-13 14:33:51,681 INFO sqlalchemy.engine.Engine INSERT INTO model_response (run_result_id, response_id, output, usage, created_at) VALUES (?, ?, ?, ?, ?) RETURNING id\n",
      "2025-05-13 14:33:51,681 INFO sqlalchemy.engine.Engine [insertmanyvalues 4/4 (ordered; batch not supported)] (1, 'resp_68232c363c748198869e2012bef886ec01ecd96cfd4a7bca', '[[{\"arguments\": \"{}\", \"call_id\": \"call_0C0vPpzNFKJSepznTPtKsI38\", \"name\": \"transfer_to_crop_disease_doctor\", \"type\": \"function_call\", \"id\": \"fc_68232 ... (2391 characters truncated) ... pest or disease spread, especially under such conditions.\", \"type\": \"output_text\"}], \"role\": \"assistant\", \"status\": \"completed\", \"type\": \"message\"}]]', '[{\"requests\": 1, \"input_tokens\": 0, \"output_tokens\": 0, \"total_tokens\": 0}, {\"requests\": 1, \"input_tokens\": 1100, \"output_tokens\": 192, \"total_tokens ... (21 characters truncated) ... : 1, \"input_tokens\": 640, \"output_tokens\": 17, \"total_tokens\": 657}, {\"requests\": 1, \"input_tokens\": 672, \"output_tokens\": 111, \"total_tokens\": 783}]', '2025-05-13 11:33:51.677944')\n",
      "2025-05-13 14:33:51,684 INFO sqlalchemy.engine.Engine INSERT INTO run_item (run_result_id, agent_id, raw_item, type, function_name) VALUES (?, ?, ?, ?, ?) RETURNING id\n",
      "2025-05-13 14:33:51,684 INFO sqlalchemy.engine.Engine [generated in 0.00012s (insertmanyvalues) 1/2 (ordered; batch not supported)] (1, 2, '{\"arguments\": \"{}\", \"call_id\": \"call_0C0vPpzNFKJSepznTPtKsI38\", \"name\": \"transfer_to_crop_disease_doctor\", \"type\": \"function_call\", \"id\": \"fc_68232c29e7fc8198a9d8d381f793509601ecd96cfd4a7bca\", \"status\": \"completed\"}', 'handoff_call_item', None)\n",
      "2025-05-13 14:33:51,686 INFO sqlalchemy.engine.Engine INSERT INTO run_item (run_result_id, agent_id, raw_item, type, function_name) VALUES (?, ?, ?, ?, ?) RETURNING id\n",
      "2025-05-13 14:33:51,687 INFO sqlalchemy.engine.Engine [insertmanyvalues 2/2 (ordered; batch not supported)] (1, 2, '{\"arguments\": \"{}\", \"call_id\": \"call_gAJchypqqIsMo8Sqhie3fpiT\", \"name\": \"transfer_to_weatherman\", \"type\": \"function_call\", \"id\": \"fc_68232c2a35988198bc39419bc6501da401ecd96cfd4a7bca\", \"status\": \"completed\"}', 'handoff_call_item', None)\n",
      "2025-05-13 14:33:51,689 INFO sqlalchemy.engine.Engine INSERT INTO run_item (run_result_id, agent_id, raw_item, type, output) VALUES (?, ?, ?, ?, ?)\n",
      "2025-05-13 14:33:51,690 INFO sqlalchemy.engine.Engine [generated in 0.00096s] (1, 2, '{\"call_id\": \"call_gAJchypqqIsMo8Sqhie3fpiT\", \"output\": \"Multiple handoffs detected, ignoring this one.\", \"type\": \"function_call_output\"}', 'tool_call_output_item', 'Multiple handoffs detected, ignoring this one.')\n",
      "2025-05-13 14:33:51,691 INFO sqlalchemy.engine.Engine INSERT INTO run_item (run_result_id, agent_id, raw_item, type, source_agent_id, target_agent_id) VALUES (?, ?, ?, ?, ?, ?)\n",
      "2025-05-13 14:33:51,691 INFO sqlalchemy.engine.Engine [generated in 0.00034s] (1, None, '{\"call_id\": \"call_0C0vPpzNFKJSepznTPtKsI38\", \"output\": \"{\\'assistant\\': \\'Crop disease doctor\\'}\", \"type\": \"function_call_output\"}', 'handoff_output_item', 2, 1)\n",
      "2025-05-13 14:33:51,693 INFO sqlalchemy.engine.Engine INSERT INTO run_item (run_result_id, agent_id, raw_item, type, content) VALUES (?, ?, ?, ?, ?)\n",
      "2025-05-13 14:33:51,693 INFO sqlalchemy.engine.Engine [generated in 0.00042s] (1, 1, '[{\"annotations\": [], \"text\": \"From the image, it appears that the maize (corn) plants are showing symptoms of Maize Lethal Necrosis Disease (MLND) or ... (636 characters truncated) ... ance to viral diseases, if available.\\\\n\\\\nFor the current weather in Bungoma today, I will check that information for you.\", \"type\": \"output_text\"}]', 'message_output_item', 'From the image, it appears that the maize (corn) plants are showing symptoms of Maize Lethal Necrosis Disease (MLND) or possibly Maize Streak Virus.  ... (566 characters truncated) ... e varieties that show resistance to viral diseases, if available.\\n\\nFor the current weather in Bungoma today, I will check that information for you.')\n",
      "2025-05-13 14:33:51,695 INFO sqlalchemy.engine.Engine INSERT INTO run_item (run_result_id, agent_id, raw_item, type, function_name) VALUES (?, ?, ?, ?, ?)\n",
      "2025-05-13 14:33:51,695 INFO sqlalchemy.engine.Engine [generated in 0.00041s] (1, 1, '{\"arguments\": \"{}\", \"call_id\": \"call_4NtOGc1pQV7UOeVT9B1HjQue\", \"name\": \"transfer_to_weatherman\", \"type\": \"function_call\", \"id\": \"fc_68232c3157ec8198a8e7a414de9a094501ecd96cfd4a7bca\", \"status\": \"completed\"}', 'handoff_call_item', None)\n",
      "2025-05-13 14:33:51,696 INFO sqlalchemy.engine.Engine INSERT INTO run_item (run_result_id, agent_id, raw_item, type, source_agent_id, target_agent_id) VALUES (?, ?, ?, ?, ?, ?)\n",
      "2025-05-13 14:33:51,697 INFO sqlalchemy.engine.Engine [cached since 0.005516s ago] (1, None, '{\"call_id\": \"call_4NtOGc1pQV7UOeVT9B1HjQue\", \"output\": \"{\\'assistant\\': \\'Weatherman\\'}\", \"type\": \"function_call_output\"}', 'handoff_output_item', 1, 3)\n",
      "2025-05-13 14:33:51,698 INFO sqlalchemy.engine.Engine INSERT INTO run_item (run_result_id, agent_id, raw_item, type) VALUES (?, ?, ?, ?)\n",
      "2025-05-13 14:33:51,698 INFO sqlalchemy.engine.Engine [generated in 0.00052s] (1, 3, '{\"arguments\": \"{\\\\\"location\\\\\":\\\\\"Bungoma\\\\\"}\", \"call_id\": \"call_GTUN5V8xF18u6oJU5LeISYDY\", \"name\": \"get_weather\", \"type\": \"function_call\", \"id\": \"fc_68232c341cc48198aa4919810988db1501ecd96cfd4a7bca\", \"status\": \"completed\"}', 'tool_call_item')\n",
      "2025-05-13 14:33:51,699 INFO sqlalchemy.engine.Engine INSERT INTO run_item (run_result_id, agent_id, raw_item, type, output) VALUES (?, ?, ?, ?, ?)\n",
      "2025-05-13 14:33:51,700 INFO sqlalchemy.engine.Engine [cached since 0.01078s ago] (1, 3, '{\"call_id\": \"call_GTUN5V8xF18u6oJU5LeISYDY\", \"output\": \"It\\'s sunny and warm in Bungoma\", \"type\": \"function_call_output\"}', 'tool_call_output_item', \"It's sunny and warm in Bungoma\")\n",
      "2025-05-13 14:33:51,700 INFO sqlalchemy.engine.Engine INSERT INTO run_item (run_result_id, agent_id, raw_item, type, content) VALUES (?, ?, ?, ?, ?)\n",
      "2025-05-13 14:33:51,701 INFO sqlalchemy.engine.Engine [cached since 0.007968s ago] (1, 3, '[{\"annotations\": [], \"text\": \"The image shows maize plants likely affected by a viral disease like Maize Streak Virus or Maize Lethal Necrosis Diseas ... (311 characters truncated) ... ally good growing weather, but remember to monitor your maize for pest or disease spread, especially under such conditions.\", \"type\": \"output_text\"}]', 'message_output_item', \"The image shows maize plants likely affected by a viral disease like Maize Streak Virus or Maize Lethal Necrosis Disease (MLND), as indicated by the  ... (252 characters truncated) ... in the area, this is generally good growing weather, but remember to monitor your maize for pest or disease spread, especially under such conditions.\")\n",
      "2025-05-13 14:33:51,702 INFO sqlalchemy.engine.Engine COMMIT\n"
     ]
    }
   ],
   "execution_count": 29
  },
  {
   "metadata": {
    "ExecuteTime": {
     "end_time": "2025-05-13T11:38:35.672980Z",
     "start_time": "2025-05-13T11:38:35.634401Z"
    }
   },
   "cell_type": "code",
   "source": "agents_dict",
   "id": "aa2a9a76166b69d9",
   "outputs": [
    {
     "data": {
      "text/plain": [
       "{'Crop disease doctor': <Agent #1>,\n",
       " 'Triage Agent': <Agent #2>,\n",
       " 'Weatherman': <Agent #3>}"
      ]
     },
     "execution_count": 30,
     "metadata": {},
     "output_type": "execute_result"
    }
   ],
   "execution_count": 30
  },
  {
   "metadata": {
    "ExecuteTime": {
     "end_time": "2025-05-13T14:33:35.118849Z",
     "start_time": "2025-05-13T14:33:33.350869Z"
    }
   },
   "cell_type": "code",
   "source": [
    "\n",
    "from datetime import UTC\n",
    "from datetime import datetime\n",
    "from farmwise.items import get_run_item_model\n",
    "from farmbase_client.models import RunResultCreate, AgentBase\n",
    "from farmbase_client import AuthenticatedClient\n",
    "from farmbase_client.api.messages import messages_create_run_result\n",
    "\n",
    "token = \"fsdfds\"\n",
    "\n",
    "\n",
    "#     res = models.RunResult(\n",
    "#         input_=result.input,\n",
    "#         final_output=result.final_output,\n",
    "#         input_guardrails=None,\n",
    "#         output_guardrails=None,\n",
    "#         last_agent=agents_dict[result.last_agent.name],\n",
    "#         raw_responses=[\n",
    "#             models.ModelResponse(\n",
    "#                 response_id=r.response_id,\n",
    "#                 output=[[r.model_dump() for r in raw_resp.output] for raw_resp in result.raw_responses],\n",
    "#                 usage=[asdict(raw_resp.usage) for raw_resp in result.raw_responses]\n",
    "#             ) for r in result.raw_responses],\n",
    "#         new_items=[get_run_item_model(i) for i in result.new_items],\n",
    "#         input_list=result.to_input_list(),\n",
    "#     )\n",
    "\n",
    "\n",
    "\n",
    "with AuthenticatedClient(base_url=\"http://127.0.0.1:8000/api/v1\", token=token) as client:\n",
    "    response = await messages_create_run_result.asyncio(\n",
    "        client=client, organization='default',\n",
    "        body=RunResultCreate(\n",
    "            contact_id=1,\n",
    "            created_at=datetime.now(UTC),\n",
    "            input=result.input,\n",
    "            final_output=result.final_output,\n",
    "            input_guardrails=None,\n",
    "            output_guardrails=None,\n",
    "            last_agent=AgentBase(\n",
    "                name=result.last_agent.name\n",
    "            ),\n",
    "            # new_items=[get_run_item_model(i) for i in result.new_items],\n",
    "            new_items=[],\n",
    "            raw_responses=[],\n",
    "            input_list=result.to_input_list()\n",
    "        ))\n",
    "    print(response)"
   ],
   "id": "862194c16ab48dff",
   "outputs": [
    {
     "ename": "JSONDecodeError",
     "evalue": "Expecting value: line 1 column 1 (char 0)",
     "output_type": "error",
     "traceback": [
      "\u001B[31m---------------------------------------------------------------------------\u001B[39m",
      "\u001B[31mJSONDecodeError\u001B[39m                           Traceback (most recent call last)",
      "\u001B[36mCell\u001B[39m\u001B[36m \u001B[39m\u001B[32mIn[48]\u001B[39m\u001B[32m, line 30\u001B[39m\n\u001B[32m     11\u001B[39m \u001B[38;5;66;03m#     res = models.RunResult(\u001B[39;00m\n\u001B[32m     12\u001B[39m \u001B[38;5;66;03m#         input_=result.input,\u001B[39;00m\n\u001B[32m     13\u001B[39m \u001B[38;5;66;03m#         final_output=result.final_output,\u001B[39;00m\n\u001B[32m   (...)\u001B[39m\u001B[32m     24\u001B[39m \u001B[38;5;66;03m#         input_list=result.to_input_list(),\u001B[39;00m\n\u001B[32m     25\u001B[39m \u001B[38;5;66;03m#     )\u001B[39;00m\n\u001B[32m     29\u001B[39m \u001B[38;5;28;01mwith\u001B[39;00m AuthenticatedClient(base_url=\u001B[33m\"\u001B[39m\u001B[33mhttp://127.0.0.1:8000/api/v1\u001B[39m\u001B[33m\"\u001B[39m, token=token) \u001B[38;5;28;01mas\u001B[39;00m client:\n\u001B[32m---> \u001B[39m\u001B[32m30\u001B[39m     response = \u001B[38;5;28;01mawait\u001B[39;00m messages_create_run_result.asyncio(\n\u001B[32m     31\u001B[39m         client=client, organization=\u001B[33m'\u001B[39m\u001B[33mdefault\u001B[39m\u001B[33m'\u001B[39m,\n\u001B[32m     32\u001B[39m         body=RunResultCreate(\n\u001B[32m     33\u001B[39m             contact_id=\u001B[32m1\u001B[39m,\n\u001B[32m     34\u001B[39m             created_at=datetime.now(UTC),\n\u001B[32m     35\u001B[39m             \u001B[38;5;28minput\u001B[39m=result.input,\n\u001B[32m     36\u001B[39m             final_output=result.final_output,\n\u001B[32m     37\u001B[39m             input_guardrails=\u001B[38;5;28;01mNone\u001B[39;00m,\n\u001B[32m     38\u001B[39m             output_guardrails=\u001B[38;5;28;01mNone\u001B[39;00m,\n\u001B[32m     39\u001B[39m             last_agent=AgentBase(\n\u001B[32m     40\u001B[39m                 name=result.last_agent.name\n\u001B[32m     41\u001B[39m             ),\n\u001B[32m     42\u001B[39m             \u001B[38;5;66;03m# new_items=[get_run_item_model(i) for i in result.new_items],\u001B[39;00m\n\u001B[32m     43\u001B[39m             new_items=[],\n\u001B[32m     44\u001B[39m             raw_responses=[],\n\u001B[32m     45\u001B[39m             input_list=result.to_input_list()\n\u001B[32m     46\u001B[39m         ))\n\u001B[32m     47\u001B[39m     \u001B[38;5;28mprint\u001B[39m(response)\n",
      "\u001B[36mFile \u001B[39m\u001B[32m~/workspace/farmwise/libs/farmbase-client/src/farmbase_client/api/messages/messages_create_run_result.py:205\u001B[39m, in \u001B[36masyncio\u001B[39m\u001B[34m(organization, client, body)\u001B[39m\n\u001B[32m    182\u001B[39m \u001B[38;5;28;01masync\u001B[39;00m \u001B[38;5;28;01mdef\u001B[39;00m\u001B[38;5;250m \u001B[39m\u001B[34masyncio\u001B[39m(\n\u001B[32m    183\u001B[39m     organization: \u001B[38;5;28mstr\u001B[39m,\n\u001B[32m    184\u001B[39m     *,\n\u001B[32m    185\u001B[39m     client: Union[AuthenticatedClient, Client],\n\u001B[32m    186\u001B[39m     body: RunResultCreate,\n\u001B[32m    187\u001B[39m ) -> Optional[Union[ErrorResponse, HTTPValidationError, \u001B[38;5;28mstr\u001B[39m]]:\n\u001B[32m    188\u001B[39m \u001B[38;5;250m    \u001B[39m\u001B[33;03m\"\"\"Create a new run_result.\u001B[39;00m\n\u001B[32m    189\u001B[39m \n\u001B[32m    190\u001B[39m \u001B[33;03m     Create a new run_result.\u001B[39;00m\n\u001B[32m   (...)\u001B[39m\u001B[32m    201\u001B[39m \u001B[33;03m        Union[ErrorResponse, HTTPValidationError, str]\u001B[39;00m\n\u001B[32m    202\u001B[39m \u001B[33;03m    \"\"\"\u001B[39;00m\n\u001B[32m    204\u001B[39m     \u001B[38;5;28;01mreturn\u001B[39;00m (\n\u001B[32m--> \u001B[39m\u001B[32m205\u001B[39m         \u001B[38;5;28;01mawait\u001B[39;00m asyncio_detailed(\n\u001B[32m    206\u001B[39m             organization=organization,\n\u001B[32m    207\u001B[39m             client=client,\n\u001B[32m    208\u001B[39m             body=body,\n\u001B[32m    209\u001B[39m         )\n\u001B[32m    210\u001B[39m     ).parsed\n",
      "\u001B[36mFile \u001B[39m\u001B[32m~/workspace/farmwise/libs/farmbase-client/src/farmbase_client/api/messages/messages_create_run_result.py:179\u001B[39m, in \u001B[36masyncio_detailed\u001B[39m\u001B[34m(organization, client, body)\u001B[39m\n\u001B[32m    172\u001B[39m kwargs = _get_kwargs(\n\u001B[32m    173\u001B[39m     organization=organization,\n\u001B[32m    174\u001B[39m     body=body,\n\u001B[32m    175\u001B[39m )\n\u001B[32m    177\u001B[39m response = \u001B[38;5;28;01mawait\u001B[39;00m client.get_async_httpx_client().request(**kwargs)\n\u001B[32m--> \u001B[39m\u001B[32m179\u001B[39m \u001B[38;5;28;01mreturn\u001B[39;00m \u001B[43m_build_response\u001B[49m\u001B[43m(\u001B[49m\u001B[43mclient\u001B[49m\u001B[43m=\u001B[49m\u001B[43mclient\u001B[49m\u001B[43m,\u001B[49m\u001B[43m \u001B[49m\u001B[43mresponse\u001B[49m\u001B[43m=\u001B[49m\u001B[43mresponse\u001B[49m\u001B[43m)\u001B[49m\n",
      "\u001B[36mFile \u001B[39m\u001B[32m~/workspace/farmwise/libs/farmbase-client/src/farmbase_client/api/messages/messages_create_run_result.py:83\u001B[39m, in \u001B[36m_build_response\u001B[39m\u001B[34m(client, response)\u001B[39m\n\u001B[32m     76\u001B[39m \u001B[38;5;28;01mdef\u001B[39;00m\u001B[38;5;250m \u001B[39m\u001B[34m_build_response\u001B[39m(\n\u001B[32m     77\u001B[39m     *, client: Union[AuthenticatedClient, Client], response: httpx.Response\n\u001B[32m     78\u001B[39m ) -> Response[Union[ErrorResponse, HTTPValidationError, \u001B[38;5;28mstr\u001B[39m]]:\n\u001B[32m     79\u001B[39m     \u001B[38;5;28;01mreturn\u001B[39;00m Response(\n\u001B[32m     80\u001B[39m         status_code=HTTPStatus(response.status_code),\n\u001B[32m     81\u001B[39m         content=response.content,\n\u001B[32m     82\u001B[39m         headers=response.headers,\n\u001B[32m---> \u001B[39m\u001B[32m83\u001B[39m         parsed=\u001B[43m_parse_response\u001B[49m\u001B[43m(\u001B[49m\u001B[43mclient\u001B[49m\u001B[43m=\u001B[49m\u001B[43mclient\u001B[49m\u001B[43m,\u001B[49m\u001B[43m \u001B[49m\u001B[43mresponse\u001B[49m\u001B[43m=\u001B[49m\u001B[43mresponse\u001B[49m\u001B[43m)\u001B[49m,\n\u001B[32m     84\u001B[39m     )\n",
      "\u001B[36mFile \u001B[39m\u001B[32m~/workspace/farmwise/libs/farmbase-client/src/farmbase_client/api/messages/messages_create_run_result.py:63\u001B[39m, in \u001B[36m_parse_response\u001B[39m\u001B[34m(client, response)\u001B[39m\n\u001B[32m     61\u001B[39m     \u001B[38;5;28;01mreturn\u001B[39;00m response_404\n\u001B[32m     62\u001B[39m \u001B[38;5;28;01mif\u001B[39;00m response.status_code == \u001B[32m500\u001B[39m:\n\u001B[32m---> \u001B[39m\u001B[32m63\u001B[39m     response_500 = ErrorResponse.model_validate(\u001B[43mresponse\u001B[49m\u001B[43m.\u001B[49m\u001B[43mjson\u001B[49m\u001B[43m(\u001B[49m\u001B[43m)\u001B[49m)\n\u001B[32m     65\u001B[39m     \u001B[38;5;28;01mreturn\u001B[39;00m response_500\n\u001B[32m     66\u001B[39m \u001B[38;5;28;01mif\u001B[39;00m response.status_code == \u001B[32m422\u001B[39m:\n",
      "\u001B[36mFile \u001B[39m\u001B[32m~/workspace/farmwise/.venv/lib/python3.12/site-packages/httpx/_models.py:832\u001B[39m, in \u001B[36mResponse.json\u001B[39m\u001B[34m(self, **kwargs)\u001B[39m\n\u001B[32m    831\u001B[39m \u001B[38;5;28;01mdef\u001B[39;00m\u001B[38;5;250m \u001B[39m\u001B[34mjson\u001B[39m(\u001B[38;5;28mself\u001B[39m, **kwargs: typing.Any) -> typing.Any:\n\u001B[32m--> \u001B[39m\u001B[32m832\u001B[39m     \u001B[38;5;28;01mreturn\u001B[39;00m \u001B[43mjsonlib\u001B[49m\u001B[43m.\u001B[49m\u001B[43mloads\u001B[49m\u001B[43m(\u001B[49m\u001B[38;5;28;43mself\u001B[39;49m\u001B[43m.\u001B[49m\u001B[43mcontent\u001B[49m\u001B[43m,\u001B[49m\u001B[43m \u001B[49m\u001B[43m*\u001B[49m\u001B[43m*\u001B[49m\u001B[43mkwargs\u001B[49m\u001B[43m)\u001B[49m\n",
      "\u001B[36mFile \u001B[39m\u001B[32m~/.local/share/uv/python/cpython-3.12.9-macos-aarch64-none/lib/python3.12/json/__init__.py:346\u001B[39m, in \u001B[36mloads\u001B[39m\u001B[34m(s, cls, object_hook, parse_float, parse_int, parse_constant, object_pairs_hook, **kw)\u001B[39m\n\u001B[32m    341\u001B[39m     s = s.decode(detect_encoding(s), \u001B[33m'\u001B[39m\u001B[33msurrogatepass\u001B[39m\u001B[33m'\u001B[39m)\n\u001B[32m    343\u001B[39m \u001B[38;5;28;01mif\u001B[39;00m (\u001B[38;5;28mcls\u001B[39m \u001B[38;5;129;01mis\u001B[39;00m \u001B[38;5;28;01mNone\u001B[39;00m \u001B[38;5;129;01mand\u001B[39;00m object_hook \u001B[38;5;129;01mis\u001B[39;00m \u001B[38;5;28;01mNone\u001B[39;00m \u001B[38;5;129;01mand\u001B[39;00m\n\u001B[32m    344\u001B[39m         parse_int \u001B[38;5;129;01mis\u001B[39;00m \u001B[38;5;28;01mNone\u001B[39;00m \u001B[38;5;129;01mand\u001B[39;00m parse_float \u001B[38;5;129;01mis\u001B[39;00m \u001B[38;5;28;01mNone\u001B[39;00m \u001B[38;5;129;01mand\u001B[39;00m\n\u001B[32m    345\u001B[39m         parse_constant \u001B[38;5;129;01mis\u001B[39;00m \u001B[38;5;28;01mNone\u001B[39;00m \u001B[38;5;129;01mand\u001B[39;00m object_pairs_hook \u001B[38;5;129;01mis\u001B[39;00m \u001B[38;5;28;01mNone\u001B[39;00m \u001B[38;5;129;01mand\u001B[39;00m \u001B[38;5;129;01mnot\u001B[39;00m kw):\n\u001B[32m--> \u001B[39m\u001B[32m346\u001B[39m     \u001B[38;5;28;01mreturn\u001B[39;00m \u001B[43m_default_decoder\u001B[49m\u001B[43m.\u001B[49m\u001B[43mdecode\u001B[49m\u001B[43m(\u001B[49m\u001B[43ms\u001B[49m\u001B[43m)\u001B[49m\n\u001B[32m    347\u001B[39m \u001B[38;5;28;01mif\u001B[39;00m \u001B[38;5;28mcls\u001B[39m \u001B[38;5;129;01mis\u001B[39;00m \u001B[38;5;28;01mNone\u001B[39;00m:\n\u001B[32m    348\u001B[39m     \u001B[38;5;28mcls\u001B[39m = JSONDecoder\n",
      "\u001B[36mFile \u001B[39m\u001B[32m~/.local/share/uv/python/cpython-3.12.9-macos-aarch64-none/lib/python3.12/json/decoder.py:338\u001B[39m, in \u001B[36mJSONDecoder.decode\u001B[39m\u001B[34m(self, s, _w)\u001B[39m\n\u001B[32m    333\u001B[39m \u001B[38;5;28;01mdef\u001B[39;00m\u001B[38;5;250m \u001B[39m\u001B[34mdecode\u001B[39m(\u001B[38;5;28mself\u001B[39m, s, _w=WHITESPACE.match):\n\u001B[32m    334\u001B[39m \u001B[38;5;250m    \u001B[39m\u001B[33;03m\"\"\"Return the Python representation of ``s`` (a ``str`` instance\u001B[39;00m\n\u001B[32m    335\u001B[39m \u001B[33;03m    containing a JSON document).\u001B[39;00m\n\u001B[32m    336\u001B[39m \n\u001B[32m    337\u001B[39m \u001B[33;03m    \"\"\"\u001B[39;00m\n\u001B[32m--> \u001B[39m\u001B[32m338\u001B[39m     obj, end = \u001B[38;5;28;43mself\u001B[39;49m\u001B[43m.\u001B[49m\u001B[43mraw_decode\u001B[49m\u001B[43m(\u001B[49m\u001B[43ms\u001B[49m\u001B[43m,\u001B[49m\u001B[43m \u001B[49m\u001B[43midx\u001B[49m\u001B[43m=\u001B[49m\u001B[43m_w\u001B[49m\u001B[43m(\u001B[49m\u001B[43ms\u001B[49m\u001B[43m,\u001B[49m\u001B[43m \u001B[49m\u001B[32;43m0\u001B[39;49m\u001B[43m)\u001B[49m\u001B[43m.\u001B[49m\u001B[43mend\u001B[49m\u001B[43m(\u001B[49m\u001B[43m)\u001B[49m\u001B[43m)\u001B[49m\n\u001B[32m    339\u001B[39m     end = _w(s, end).end()\n\u001B[32m    340\u001B[39m     \u001B[38;5;28;01mif\u001B[39;00m end != \u001B[38;5;28mlen\u001B[39m(s):\n",
      "\u001B[36mFile \u001B[39m\u001B[32m~/.local/share/uv/python/cpython-3.12.9-macos-aarch64-none/lib/python3.12/json/decoder.py:356\u001B[39m, in \u001B[36mJSONDecoder.raw_decode\u001B[39m\u001B[34m(self, s, idx)\u001B[39m\n\u001B[32m    354\u001B[39m     obj, end = \u001B[38;5;28mself\u001B[39m.scan_once(s, idx)\n\u001B[32m    355\u001B[39m \u001B[38;5;28;01mexcept\u001B[39;00m \u001B[38;5;167;01mStopIteration\u001B[39;00m \u001B[38;5;28;01mas\u001B[39;00m err:\n\u001B[32m--> \u001B[39m\u001B[32m356\u001B[39m     \u001B[38;5;28;01mraise\u001B[39;00m JSONDecodeError(\u001B[33m\"\u001B[39m\u001B[33mExpecting value\u001B[39m\u001B[33m\"\u001B[39m, s, err.value) \u001B[38;5;28;01mfrom\u001B[39;00m\u001B[38;5;250m \u001B[39m\u001B[38;5;28;01mNone\u001B[39;00m\n\u001B[32m    357\u001B[39m \u001B[38;5;28;01mreturn\u001B[39;00m obj, end\n",
      "\u001B[31mJSONDecodeError\u001B[39m: Expecting value: line 1 column 1 (char 0)"
     ]
    }
   ],
   "execution_count": 48
  },
  {
   "metadata": {
    "ExecuteTime": {
     "end_time": "2025-05-14T03:39:25.353096Z",
     "start_time": "2025-05-14T03:39:17.634591Z"
    }
   },
   "cell_type": "code",
   "source": [
    "from farmbase_client.api.messages import messages_get_input_list\n",
    "\n",
    "with AuthenticatedClient(base_url=\"http://127.0.0.1:8000/api/v1\", token=token) as client:\n",
    "    response = await messages_get_input_list.asyncio(client=client, organization='default', contact_id=1)\n",
    "    print(response)"
   ],
   "id": "ebde3cc6f55dbe65",
   "outputs": [
    {
     "name": "stdout",
     "output_type": "stream",
     "text": [
      "None\n"
     ]
    }
   ],
   "execution_count": 53
  }
 ],
 "metadata": {
  "kernelspec": {
   "display_name": "Python 3",
   "language": "python",
   "name": "python3"
  },
  "language_info": {
   "codemirror_mode": {
    "name": "ipython",
    "version": 2
   },
   "file_extension": ".py",
   "mimetype": "text/x-python",
   "name": "python",
   "nbconvert_exporter": "python",
   "pygments_lexer": "ipython2",
   "version": "2.7.6"
  }
 },
 "nbformat": 4,
 "nbformat_minor": 5
}
