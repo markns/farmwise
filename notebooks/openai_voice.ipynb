{
 "cells": [
  {
   "cell_type": "code",
   "id": "initial_id",
   "metadata": {
    "collapsed": true,
    "ExecuteTime": {
     "end_time": "2025-05-28T07:15:26.504552Z",
     "start_time": "2025-05-28T07:15:06.059285Z"
    }
   },
   "source": [
    "from agents.voice import (\n",
    "    SingleAgentVoiceWorkflow,\n",
    "    VoicePipeline, VoicePipelineConfig, TTSModelSettings, )\n",
    "from dotenv import load_dotenv, find_dotenv\n",
    "\n",
    "from farmwise.agents.triage_agent import triage_agent\n",
    "from farmwise.audio import load_oga_as_audio_input, write_stream_to_ogg\n",
    "\n",
    "load_dotenv(find_dotenv())\n",
    "\n",
    "\n",
    "async def main():\n",
    "    audio_input = load_oga_as_audio_input(\n",
    "        \"/Users/markns/Documents/farmwise_media/voice/15d5c9d981f4979573c15f97569695e5bd7588cd10b264432290307a1012bd58.oga\")\n",
    "\n",
    "    print(f\"loaded audio input {audio_input}\")\n",
    "    pipeline = VoicePipeline(workflow=SingleAgentVoiceWorkflow(triage_agent),\n",
    "                             config=VoicePipelineConfig(\n",
    "                                 workflow_name=\"FarmWise\",\n",
    "                                 tts_settings=TTSModelSettings(voice=\"onyx\")\n",
    "                             ))\n",
    "\n",
    "    result = await pipeline.run(audio_input)\n",
    "    await write_stream_to_ogg(result.stream(), \"/Users/markns/Documents/farmwise_media/voice/15d5c9d981f4979573c15f97569695e5bd7588cd10b264432290307a1012bd58_response.oga\")\n",
    "\n",
    "await main()"
   ],
   "outputs": [
    {
     "name": "stdout",
     "output_type": "stream",
     "text": [
      "loaded audio input AudioInput(buffer=array([-1, -1, -1, ..., 50, 48, 47], dtype=int16), frame_rate=24000, sample_width=2, channels=1)\n"
     ]
    }
   ],
   "execution_count": 1
  }
 ],
 "metadata": {
  "kernelspec": {
   "display_name": "Python 3",
   "language": "python",
   "name": "python3"
  },
  "language_info": {
   "codemirror_mode": {
    "name": "ipython",
    "version": 2
   },
   "file_extension": ".py",
   "mimetype": "text/x-python",
   "name": "python",
   "nbconvert_exporter": "python",
   "pygments_lexer": "ipython2",
   "version": "2.7.6"
  }
 },
 "nbformat": 4,
 "nbformat_minor": 5
}
