{
 "cells": [
  {
   "cell_type": "code",
   "id": "9b56d4781dd7edb0",
   "metadata": {
    "ExecuteTime": {
     "end_time": "2025-05-23T10:14:34.228263Z",
     "start_time": "2025-05-23T10:14:34.180287Z"
    }
   },
   "source": [
    "%load_ext autoreload\n",
    "%autoreload 2"
   ],
   "outputs": [],
   "execution_count": 1
  },
  {
   "metadata": {
    "ExecuteTime": {
     "end_time": "2025-05-23T10:31:20.023063Z",
     "start_time": "2025-05-23T10:31:18.461906Z"
    }
   },
   "cell_type": "code",
   "source": [
    "from farmbase_client.models import ContactCreate, ContactPatch\n",
    "ContactPatch(name=\"bob\")\n",
    "# ContactCreate(name=\"bob\", phone_number=\"23432\")"
   ],
   "id": "1bde9d5542273440",
   "outputs": [
    {
     "data": {
      "text/plain": [
       "ContactPatch(name='bob', location=None, preferred_form_of_address=None, date_of_birth=None, estimated_age=None, role=None, email=None)"
      ]
     },
     "execution_count": 11,
     "metadata": {},
     "output_type": "execute_result"
    }
   ],
   "execution_count": 11
  }
 ],
 "metadata": {
  "kernelspec": {
   "display_name": "Python 3",
   "language": "python",
   "name": "python3"
  },
  "language_info": {
   "codemirror_mode": {
    "name": "ipython",
    "version": 2
   },
   "file_extension": ".py",
   "mimetype": "text/x-python",
   "name": "python",
   "nbconvert_exporter": "python",
   "pygments_lexer": "ipython2",
   "version": "2.7.6"
  }
 },
 "nbformat": 4,
 "nbformat_minor": 5
}
