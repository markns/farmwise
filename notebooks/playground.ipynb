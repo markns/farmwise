{
 "cells": [
  {
   "cell_type": "code",
   "execution_count": 1,
   "id": "9b56d4781dd7edb0",
   "metadata": {
    "ExecuteTime": {
     "end_time": "2025-05-23T10:14:34.228263Z",
     "start_time": "2025-05-23T10:14:34.180287Z"
    }
   },
   "outputs": [],
   "source": [
    "%load_ext autoreload\n",
    "%autoreload 2"
   ]
  },
  {
   "cell_type": "code",
   "execution_count": 11,
   "id": "1bde9d5542273440",
   "metadata": {
    "ExecuteTime": {
     "end_time": "2025-05-23T10:31:20.023063Z",
     "start_time": "2025-05-23T10:31:18.461906Z"
    }
   },
   "outputs": [
    {
     "data": {
      "text/plain": [
       "ContactPatch(name='bob', location=None, preferred_form_of_address=None, date_of_birth=None, estimated_age=None, role=None, email=None)"
      ]
     },
     "execution_count": 11,
     "metadata": {},
     "output_type": "execute_result"
    }
   ],
   "source": [
    "from farmbase_client.models import ContactPatch\n",
    "\n",
    "ContactPatch(name=\"bob\")\n",
    "# ContactCreate(name=\"bob\", phone_number=\"23432\")"
   ]
  }
 ],
 "metadata": {
  "kernelspec": {
   "display_name": "Python 3",
   "language": "python",
   "name": "python3"
  },
  "language_info": {
   "codemirror_mode": {
    "name": "ipython",
    "version": 2
   },
   "file_extension": ".py",
   "mimetype": "text/x-python",
   "name": "python",
   "nbconvert_exporter": "python",
   "pygments_lexer": "ipython2",
   "version": "2.7.6"
  }
 },
 "nbformat": 4,
 "nbformat_minor": 5
}
