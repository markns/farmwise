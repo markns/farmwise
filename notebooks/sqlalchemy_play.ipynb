{
 "cells": [
  {
   "cell_type": "code",
   "execution_count": 1,
   "id": "154a373a97322b34",
   "metadata": {
    "ExecuteTime": {
     "end_time": "2025-05-28T12:54:37.012393Z",
     "start_time": "2025-05-28T12:54:36.962674Z"
    }
   },
   "outputs": [],
   "source": [
    "%load_ext autoreload\n",
    "%autoreload 2"
   ]
  },
  {
   "cell_type": "code",
   "id": "ebde3cc6f55dbe65",
   "metadata": {
    "ExecuteTime": {
     "end_time": "2025-06-16T11:11:34.272872Z",
     "start_time": "2025-06-16T11:11:34.023692Z"
    }
   },
   "source": [
    "from farmbase.auth.models import FarmbaseUserOrganization, FarmbaseUser\n",
    "from farmbase.contact.models import Contact\n",
    "from farmbase.database.core import engine\n",
    "from farmbase.farm.models import Farm, FarmContact\n",
    "from sqlalchemy import select\n",
    "from sqlalchemy.ext.asyncio import async_sessionmaker\n",
    "from sqlalchemy.orm import selectinload\n",
    "\n",
    "schema_engine = engine.execution_options(\n",
    "    schema_translate_map={\n",
    "        None: \"farmbase_organization_default\",\n",
    "    }\n",
    ")\n",
    "\n",
    "# session = sessionmaker(bind=engine)\n",
    "\n",
    "async_session_factory = async_sessionmaker(\n",
    "    bind=schema_engine,\n",
    "    expire_on_commit=False,\n",
    ")\n",
    "\n",
    "\n",
    "async with async_session_factory.begin() as db_session:\n",
    "    stmt = (\n",
    "        select(FarmbaseUser).where(FarmbaseUser.id == 1)\n",
    "    )\n",
    "\n",
    "    result = await db_session.execute(stmt)\n",
    "\n",
    "    user = result.scalar_one_or_none()\n",
    "    print(user)\n",
    "    user.set_password(\"blahblah\")\n",
    "    await db_session.commit()"
   ],
   "outputs": [
    {
     "name": "stdout",
     "output_type": "stream",
     "text": [
      "2025-06-16 14:11:34,025 INFO sqlalchemy.engine.Engine BEGIN (implicit)\n",
      "2025-06-16 14:11:34,026 INFO sqlalchemy.engine.Engine SELECT farmbase_core.farmbase_user.id, farmbase_core.farmbase_user.email, farmbase_core.farmbase_user.password, farmbase_core.farmbase_user.last_mfa_time, farmbase_core.farmbase_user.experimental_features, farmbase_core.farmbase_user.search_vector, farmbase_core.farmbase_user.created_at, farmbase_core.farmbase_user.updated_at \n",
      "FROM farmbase_core.farmbase_user \n",
      "WHERE farmbase_core.farmbase_user.id = $1::INTEGER\n",
      "2025-06-16 14:11:34,026 INFO sqlalchemy.engine.Engine [cached since 90.97s ago] (1,)\n",
      "<FarmbaseUser #1>\n",
      "2025-06-16 14:11:34,267 INFO sqlalchemy.engine.Engine UPDATE farmbase_core.farmbase_user SET password=$1::BYTEA, updated_at=now() WHERE farmbase_core.farmbase_user.id = $2::INTEGER\n",
      "2025-06-16 14:11:34,267 INFO sqlalchemy.engine.Engine [cached since 6.879s ago] (b'$2b$12$y/D4qf2Eq0EWkbaj53lGl.v76/dFWhhFo841kNh1Seu33PrIspERi', 1)\n",
      "2025-06-16 14:11:34,269 INFO sqlalchemy.engine.Engine COMMIT\n"
     ]
    }
   ],
   "execution_count": 10
  },
  {
   "cell_type": "code",
   "execution_count": null,
   "id": "6f2e5aa71d75df2a",
   "metadata": {},
   "outputs": [],
   "source": []
  }
 ],
 "metadata": {
  "kernelspec": {
   "display_name": "Python 3",
   "language": "python",
   "name": "python3"
  },
  "language_info": {
   "codemirror_mode": {
    "name": "ipython",
    "version": 2
   },
   "file_extension": ".py",
   "mimetype": "text/x-python",
   "name": "python",
   "nbconvert_exporter": "python",
   "pygments_lexer": "ipython2",
   "version": "2.7.6"
  }
 },
 "nbformat": 4,
 "nbformat_minor": 5
}
