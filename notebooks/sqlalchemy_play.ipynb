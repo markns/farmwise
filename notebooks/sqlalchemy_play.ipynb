{
 "cells": [
  {
   "metadata": {
    "ExecuteTime": {
     "end_time": "2025-05-28T12:54:37.012393Z",
     "start_time": "2025-05-28T12:54:36.962674Z"
    }
   },
   "cell_type": "code",
   "source": [
    "\n",
    "%load_ext autoreload\n",
    "%autoreload 2"
   ],
   "id": "154a373a97322b34",
   "outputs": [],
   "execution_count": 1
  },
  {
   "metadata": {
    "ExecuteTime": {
     "end_time": "2025-05-28T13:11:34.198267Z",
     "start_time": "2025-05-28T13:11:34.180551Z"
    }
   },
   "cell_type": "code",
   "source": [
    "from sqlalchemy import select\n",
    "from sqlalchemy.ext.asyncio import async_sessionmaker\n",
    "from sqlalchemy.orm import selectinload\n",
    "\n",
    "from farmbase.auth.models import FarmbaseUserOrganization\n",
    "from farmbase.contact.models import Contact\n",
    "from farmbase.database.core import engine\n",
    "from farmbase.farm.models import FarmContact, Farm\n",
    "\n",
    "schema_engine = engine.execution_options(\n",
    "    schema_translate_map={\n",
    "        None: \"farmbase_organization_default\",\n",
    "    }\n",
    ")\n",
    "\n",
    "# session = sessionmaker(bind=engine)\n",
    "\n",
    "async_session_factory = async_sessionmaker(\n",
    "    bind=schema_engine,\n",
    "    expire_on_commit=False,\n",
    ")\n",
    "\n",
    "FarmbaseUserOrganization.farmbase_user_id\n",
    "FarmContact.id\n",
    "\n",
    "async with async_session_factory.begin() as db_session:\n",
    "\n",
    "    stmt = (\n",
    "        select(Contact, Farm)\n",
    "        .join(Contact.farm_associations)\n",
    "        .join(FarmContact.farm)\n",
    "        .where(Farm.location.is_not(None))\n",
    "        .options(\n",
    "            selectinload(Contact.farm_associations).selectinload(FarmContact.farm)\n",
    "        )\n",
    "        .distinct()\n",
    "    )\n",
    "\n",
    "    result = await db_session.execute(stmt)\n",
    "\n",
    "for contact, farm in result.all():\n",
    "    print(contact.name, farm.farm_name)"
   ],
   "id": "ebde3cc6f55dbe65",
   "outputs": [
    {
     "name": "stdout",
     "output_type": "stream",
     "text": [
      "2025-05-28 16:11:34,182 INFO sqlalchemy.engine.Engine BEGIN (implicit)\n",
      "2025-05-28 16:11:34,183 INFO sqlalchemy.engine.Engine SELECT DISTINCT farmbase_organization_default.contact.id, farmbase_organization_default.contact.name, farmbase_organization_default.contact.phone_number, farmbase_organization_default.contact.preferred_form_of_address, farmbase_organization_default.contact.gender, farmbase_organization_default.contact.date_of_birth, farmbase_organization_default.contact.estimated_age, farmbase_organization_default.contact.role, farmbase_organization_default.contact.experience, farmbase_organization_default.contact.email, farmbase_organization_default.contact.organization_id, farmbase_organization_default.contact.created_at, farmbase_organization_default.contact.updated_at, farmbase_organization_default.farm.id AS id_1, farmbase_organization_default.farm.farm_name, ST_AsEWKB(farmbase_organization_default.farm.location) AS location, farmbase_organization_default.farm.created_at AS created_at_1, farmbase_organization_default.farm.updated_at AS updated_at_1 \n",
      "FROM farmbase_organization_default.contact JOIN farmbase_organization_default.farm_contact ON farmbase_organization_default.contact.id = farmbase_organization_default.farm_contact.contact_id JOIN farmbase_organization_default.farm ON farmbase_organization_default.farm.id = farmbase_organization_default.farm_contact.farm_id \n",
      "WHERE farmbase_organization_default.farm.location IS NOT NULL\n",
      "2025-05-28 16:11:34,184 INFO sqlalchemy.engine.Engine [cached since 63.82s ago] ()\n",
      "2025-05-28 16:11:34,190 INFO sqlalchemy.engine.Engine SELECT farmbase_organization_default.farm_contact.contact_id AS farm_contact_contact_id, farmbase_organization_default.farm_contact.id AS farm_contact_id, farmbase_organization_default.farm_contact.farm_id AS farm_contact_farm_id, farmbase_organization_default.farm_contact.role AS farm_contact_role \n",
      "FROM farmbase_organization_default.farm_contact \n",
      "WHERE farmbase_organization_default.farm_contact.contact_id IN ($1::INTEGER, $2::INTEGER)\n",
      "2025-05-28 16:11:34,190 INFO sqlalchemy.engine.Engine [cached since 576.7s ago] (1, 2)\n",
      "2025-05-28 16:11:34,192 INFO sqlalchemy.engine.Engine SELECT farmbase_organization_default.farm.id AS farm_id, farmbase_organization_default.farm.farm_name AS farm_farm_name, ST_AsEWKB(farmbase_organization_default.farm.location) AS farm_location, farmbase_organization_default.farm.created_at AS farm_created_at, farmbase_organization_default.farm.updated_at AS farm_updated_at \n",
      "FROM farmbase_organization_default.farm \n",
      "WHERE farmbase_organization_default.farm.id IN ($1::INTEGER, $2::INTEGER)\n",
      "2025-05-28 16:11:34,193 INFO sqlalchemy.engine.Engine [cached since 576.7s ago] (1, 2)\n",
      "2025-05-28 16:11:34,195 INFO sqlalchemy.engine.Engine COMMIT\n",
      "Mark Nuttall-Smith Rafiki farm\n",
      "Hudson Ndege Ndege farm\n"
     ]
    }
   ],
   "execution_count": 14
  },
  {
   "metadata": {},
   "cell_type": "code",
   "outputs": [],
   "execution_count": null,
   "source": "",
   "id": "6f2e5aa71d75df2a"
  }
 ],
 "metadata": {
  "kernelspec": {
   "display_name": "Python 3",
   "language": "python",
   "name": "python3"
  },
  "language_info": {
   "codemirror_mode": {
    "name": "ipython",
    "version": 2
   },
   "file_extension": ".py",
   "mimetype": "text/x-python",
   "name": "python",
   "nbconvert_exporter": "python",
   "pygments_lexer": "ipython2",
   "version": "2.7.6"
  }
 },
 "nbformat": 4,
 "nbformat_minor": 5
}
