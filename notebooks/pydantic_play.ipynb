{
 "cells": [
  {
   "cell_type": "code",
   "execution_count": null,
   "id": "initial_id",
   "metadata": {
    "collapsed": true
   },
   "outputs": [],
   "source": [
    ""
   ]
  },
  {
   "metadata": {
    "ExecuteTime": {
     "end_time": "2025-06-13T13:25:12.293341Z",
     "start_time": "2025-06-13T13:25:12.283162Z"
    }
   },
   "cell_type": "code",
   "source": [
    "from typing import Annotated, Literal\n",
    "\n",
    "from pydantic import BaseModel, Discriminator, Field, Tag\n",
    "\n",
    "\n",
    "class Cat(BaseModel):\n",
    "    pet_type: Literal['cat']\n",
    "    age: int\n",
    "\n",
    "\n",
    "class Dog(BaseModel):\n",
    "    pet_kind: Literal['dog']\n",
    "    age: int\n",
    "\n",
    "\n",
    "def pet_discriminator(v):\n",
    "    if isinstance(v, dict):\n",
    "        return v.get('pet_type', v.get('pet_kind'))\n",
    "    return getattr(v, 'pet_type', getattr(v, 'pet_kind', None))\n",
    "\n",
    "\n",
    "class Model(BaseModel):\n",
    "    pet: Annotated[Cat, Tag('cat')] | Annotated[Dog, Tag('dog')] = Field(\n",
    "        discriminator=Discriminator(pet_discriminator)\n",
    "    )\n",
    "\n",
    "\n",
    "print(repr(Model.model_validate({'pet': {'pet_type': 'cat', 'age': 12}})))\n",
    "#> Model(pet=Cat(pet_type='cat', age=12))\n",
    "\n",
    "print(repr(Model.model_validate({'pet': {'pet_kind': 'dog', 'age': 12}})))\n",
    "\n",
    "Model.model_json_schema()\n",
    "\n",
    "#> Model(pet=Dog(pet_kind='dog', age=12))"
   ],
   "id": "c3d5c19b6c44b416",
   "outputs": [
    {
     "name": "stdout",
     "output_type": "stream",
     "text": [
      "Model(pet=Cat(pet_type='cat', age=12))\n",
      "Model(pet=Dog(pet_kind='dog', age=12))\n"
     ]
    },
    {
     "data": {
      "text/plain": [
       "{'$defs': {'Cat': {'properties': {'pet_type': {'const': 'cat',\n",
       "     'title': 'Pet Type',\n",
       "     'type': 'string'},\n",
       "    'age': {'title': 'Age', 'type': 'integer'}},\n",
       "   'required': ['pet_type', 'age'],\n",
       "   'title': 'Cat',\n",
       "   'type': 'object'},\n",
       "  'Dog': {'properties': {'pet_kind': {'const': 'dog',\n",
       "     'title': 'Pet Kind',\n",
       "     'type': 'string'},\n",
       "    'age': {'title': 'Age', 'type': 'integer'}},\n",
       "   'required': ['pet_kind', 'age'],\n",
       "   'title': 'Dog',\n",
       "   'type': 'object'}},\n",
       " 'properties': {'pet': {'oneOf': [{'$ref': '#/$defs/Cat'},\n",
       "    {'$ref': '#/$defs/Dog'}],\n",
       "   'title': 'Pet'}},\n",
       " 'required': ['pet'],\n",
       " 'title': 'Model',\n",
       " 'type': 'object'}"
      ]
     },
     "execution_count": 2,
     "metadata": {},
     "output_type": "execute_result"
    }
   ],
   "execution_count": 2
  }
 ],
 "metadata": {
  "kernelspec": {
   "display_name": "Python 3",
   "language": "python",
   "name": "python3"
  },
  "language_info": {
   "codemirror_mode": {
    "name": "ipython",
    "version": 2
   },
   "file_extension": ".py",
   "mimetype": "text/x-python",
   "name": "python",
   "nbconvert_exporter": "python",
   "pygments_lexer": "ipython2",
   "version": "2.7.6"
  }
 },
 "nbformat": 4,
 "nbformat_minor": 5
}
