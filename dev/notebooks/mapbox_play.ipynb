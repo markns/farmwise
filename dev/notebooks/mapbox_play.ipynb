{
 "cells": [
  {
   "metadata": {
    "ExecuteTime": {
     "end_time": "2025-07-09T08:41:13.248024Z",
     "start_time": "2025-07-09T08:41:12.691180Z"
    }
   },
   "cell_type": "code",
   "source": [
    "\n",
    "import numpy as np\n",
    "from dotenv import load_dotenv, find_dotenv\n",
    "from geographiclib.geodesic import Geodesic\n",
    "import plotly.graph_objects as go\n",
    "\n",
    "import plotly.express as px, plotly.io as pio\n",
    "pio.renderers.default = \"browser\"\n",
    "\n",
    "load_dotenv(find_dotenv())\n",
    "\n",
    "# ------------------------------------------\n",
    "points = [\n",
    "\n",
    "{\"name\": \"Mark Kimau's Farm\", \"lat\": -0.595679, \"lon\": 36.473514},\n",
    "{\"name\": \"\", \"lat\": -0.575014, \"lon\": 36.471924},\n",
    "{\"name\": \"\", \"lat\": -0.575014, \"lon\": 36.511924},\n",
    "{\"name\": \"\", \"lat\": -0.591482, \"lon\": 36.474332},\n",
    "{\"name\": \"\", \"lat\": -0.598134, \"lon\": 36.484567},\n",
    "{\"name\": \"\", \"lat\": -0.615909, \"lon\": 36.505871},\n",
    "\n",
    "{\"name\": \"\", \"lat\": -0.607418, \"lon\": 36.469568},\n",
    "\n",
    "{\"name\": \"\", \"lat\": -0.598469, \"lon\": 36.505680},\n",
    "]\n",
    "\n",
    "fig = go.Figure()\n",
    "\n",
    "# 2️⃣  Farm markers (Maki “farm” icon)\n",
    "fig.add_trace(\n",
    "    go.Scattermap(\n",
    "        lat=[p[\"lat\"] for p in points],\n",
    "        lon=[p[\"lon\"] for p in points],\n",
    "        mode=\"markers+text\",\n",
    "        marker=dict(\n",
    "            size=20,\n",
    "            # symbol=\"farm\",          # MapLibre Maki icon\n",
    "            color=\"green\",\n",
    "        ),\n",
    "        text=[p[\"name\"] for p in points],\n",
    "        textposition=\"top center\",\n",
    "        name=\"Farms\",\n",
    "    )\n",
    ")\n",
    "\n",
    "# 3️⃣  5-km dotted ring around the first farm, simulated with tiny markers\n",
    "centre = points[0]\n",
    "geod = Geodesic.WGS84\n",
    "angles = np.arange(0, 361, 2)            # every 2° → 180 dots ⇒ smooth\n",
    "circle_lat, circle_lon = [], []\n",
    "for az in angles:\n",
    "    g = geod.Direct(centre[\"lat\"], centre[\"lon\"], az, 5_000)  # 5 000 m\n",
    "    circle_lat.append(g[\"lat2\"])\n",
    "    circle_lon.append(g[\"lon2\"])\n",
    "\n",
    "fig.add_trace(\n",
    "    go.Scattermap(\n",
    "        lat=circle_lat,\n",
    "        lon=circle_lon,\n",
    "        mode=\"markers\",\n",
    "        marker=dict(size=4, color=\"royalblue\"),\n",
    "        hoverinfo=\"skip\",          # keep tool-tips off the ring\n",
    "        name=\"5 km radius\",\n",
    "    )\n",
    ")\n",
    "\n",
    "# 4️⃣  Layout for MapLibre\n",
    "fig.update_layout(\n",
    "    map=dict(\n",
    "        style=\"open-street-map\",   # free, no token required\n",
    "        center=dict(lat=centre[\"lat\"], lon=centre[\"lon\"]),\n",
    "        zoom=9,\n",
    "    ),\n",
    "    margin=dict(l=0, r=0, t=0, b=0),\n",
    ")\n",
    "\n",
    "fig.show()"
   ],
   "id": "1d4823d185f8c23b",
   "outputs": [],
   "execution_count": 14
  },
  {
   "metadata": {
    "ExecuteTime": {
     "end_time": "2025-07-09T08:39:36.112760Z",
     "start_time": "2025-07-09T08:39:35.536835Z"
    }
   },
   "cell_type": "code",
   "source": [
    "\n",
    "import plotly.express as px, plotly.io as pio\n",
    "pio.renderers.default = \"browser\"\n",
    "px.scatter(x=[1,2,3], y=[1,3,2]).show()"
   ],
   "id": "fade4e46645c08fd",
   "outputs": [],
   "execution_count": 10
  }
 ],
 "metadata": {
  "kernelspec": {
   "display_name": "Python 3",
   "language": "python",
   "name": "python3"
  },
  "language_info": {
   "codemirror_mode": {
    "name": "ipython",
    "version": 2
   },
   "file_extension": ".py",
   "mimetype": "text/x-python",
   "name": "python",
   "nbconvert_exporter": "python",
   "pygments_lexer": "ipython2",
   "version": "2.7.6"
  }
 },
 "nbformat": 4,
 "nbformat_minor": 5
}
