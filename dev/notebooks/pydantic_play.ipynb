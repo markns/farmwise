{
 "cells": [
  {
   "cell_type": "code",
   "execution_count": null,
   "id": "initial_id",
   "metadata": {
    "collapsed": true
   },
   "outputs": [],
   "source": [
    ""
   ]
  },
  {
   "metadata": {
    "ExecuteTime": {
     "end_time": "2025-06-13T13:25:12.293341Z",
     "start_time": "2025-06-13T13:25:12.283162Z"
    }
   },
   "cell_type": "code",
   "source": [
    "from typing import Annotated, Literal\n",
    "\n",
    "from pydantic import BaseModel, Discriminator, Field, Tag\n",
    "\n",
    "\n",
    "class Cat(BaseModel):\n",
    "    pet_type: Literal['cat']\n",
    "    age: int\n",
    "\n",
    "\n",
    "class Dog(BaseModel):\n",
    "    pet_kind: Literal['dog']\n",
    "    age: int\n",
    "\n",
    "\n",
    "def pet_discriminator(v):\n",
    "    if isinstance(v, dict):\n",
    "        return v.get('pet_type', v.get('pet_kind'))\n",
    "    return getattr(v, 'pet_type', getattr(v, 'pet_kind', None))\n",
    "\n",
    "\n",
    "class Model(BaseModel):\n",
    "    pet: Annotated[Cat, Tag('cat')] | Annotated[Dog, Tag('dog')] = Field(\n",
    "        discriminator=Discriminator(pet_discriminator)\n",
    "    )\n",
    "\n",
    "\n",
    "print(repr(Model.model_validate({'pet': {'pet_type': 'cat', 'age': 12}})))\n",
    "#> Model(pet=Cat(pet_type='cat', age=12))\n",
    "\n",
    "print(repr(Model.model_validate({'pet': {'pet_kind': 'dog', 'age': 12}})))\n",
    "\n",
    "Model.model_json_schema()\n",
    "\n",
    "#> Model(pet=Dog(pet_kind='dog', age=12))"
   ],
   "id": "c3d5c19b6c44b416",
   "outputs": [
    {
     "name": "stdout",
     "output_type": "stream",
     "text": [
      "Model(pet=Cat(pet_type='cat', age=12))\n",
      "Model(pet=Dog(pet_kind='dog', age=12))\n"
     ]
    },
    {
     "data": {
      "text/plain": [
       "{'$defs': {'Cat': {'properties': {'pet_type': {'const': 'cat',\n",
       "     'title': 'Pet Type',\n",
       "     'type': 'string'},\n",
       "    'age': {'title': 'Age', 'type': 'integer'}},\n",
       "   'required': ['pet_type', 'age'],\n",
       "   'title': 'Cat',\n",
       "   'type': 'object'},\n",
       "  'Dog': {'properties': {'pet_kind': {'const': 'dog',\n",
       "     'title': 'Pet Kind',\n",
       "     'type': 'string'},\n",
       "    'age': {'title': 'Age', 'type': 'integer'}},\n",
       "   'required': ['pet_kind', 'age'],\n",
       "   'title': 'Dog',\n",
       "   'type': 'object'}},\n",
       " 'properties': {'pet': {'oneOf': [{'$ref': '#/$defs/Cat'},\n",
       "    {'$ref': '#/$defs/Dog'}],\n",
       "   'title': 'Pet'}},\n",
       " 'required': ['pet'],\n",
       " 'title': 'Model',\n",
       " 'type': 'object'}"
      ]
     },
     "execution_count": 2,
     "metadata": {},
     "output_type": "execute_result"
    }
   ],
   "execution_count": 2
  },
  {
   "metadata": {
    "ExecuteTime": {
     "end_time": "2025-06-30T11:50:45.972404Z",
     "start_time": "2025-06-30T11:50:45.961274Z"
    }
   },
   "cell_type": "code",
   "source": [
    "\n",
    "from dataclasses import dataclass, asdict, fields\n",
    "\n",
    "@dataclass\n",
    "class Product:\n",
    "    product_id: int\n",
    "    name: str\n",
    "    internal_notes: str  # Field to be excluded\n",
    "    price: float\n",
    "    _client: str\n",
    "\n",
    "def excluding_dict_factory(data, excluded_fields):\n",
    "    \"\"\"\n",
    "    A dict_factory that excludes specified fields.\n",
    "    \"\"\"\n",
    "    return dict(item for item in data if item[0] not in excluded_fields)\n",
    "\n",
    "# Usage\n",
    "product = Product(product_id=101, name=\"Laptop\", _client=\"blah\", internal_notes=\"High margin item\", price=1200.00)\n",
    "excluded = {\"_client\"} # Use a set for efficient lookups\n",
    "\n",
    "# We need to wrap the factory to pass the excluded fields\n",
    "from functools import partial\n",
    "custom_factory = partial(excluding_dict_factory, excluded_fields=excluded)\n",
    "\n",
    "product_dict = asdict(product, dict_factory=custom_factory)\n",
    "\n",
    "print(product_dict)"
   ],
   "id": "b4dc0a0cab981921",
   "outputs": [
    {
     "name": "stdout",
     "output_type": "stream",
     "text": [
      "{'product_id': 101, 'name': 'Laptop', 'internal_notes': 'High margin item', 'price': 1200.0}\n"
     ]
    }
   ],
   "execution_count": 3
  },
  {
   "metadata": {
    "ExecuteTime": {
     "end_time": "2025-07-03T13:58:20.966866Z",
     "start_time": "2025-07-03T13:58:20.954781Z"
    }
   },
   "cell_type": "code",
   "source": [
    "\n",
    "from pydantic import BaseModel, Field, ConfigDict\n",
    "from pywa.types import Button, SectionList\n",
    "\n",
    "\n",
    "class TextResponse(BaseModel):\n",
    "    model_config = ConfigDict(arbitrary_types_allowed=True)\n",
    "    content: str | None = Field(description=\"Content of the response.\")\n",
    "    buttons: list[Button] = Field(\n",
    "        default=[],\n",
    "        description=\"Buttons that can be added to the response. Should be left empty unless specified.\",\n",
    "    )\n",
    "    section_list: SectionList | None = Field(\n",
    "        default=None, description=\"Section list with multiple choice options. Should be left null unless specified.\"\n",
    "    )\n",
    "\n",
    "response = TextResponse(content=\"blah\", buttons=[Button(\"do\", \"something\")])\n",
    "response\n",
    "\n",
    "\n",
    "response.model_json_schema()"
   ],
   "id": "5193367e2e69c06d",
   "outputs": [
    {
     "data": {
      "text/plain": [
       "{'$defs': {'Button': {'properties': {'title': {'title': 'Title',\n",
       "     'type': 'string'},\n",
       "    'callback_data': {'title': 'Callback Data', 'type': 'string'}},\n",
       "   'required': ['title', 'callback_data'],\n",
       "   'title': 'Button',\n",
       "   'type': 'object'},\n",
       "  'Section': {'properties': {'title': {'title': 'Title', 'type': 'string'},\n",
       "    'rows': {'items': {'$ref': '#/$defs/SectionRow'},\n",
       "     'title': 'Rows',\n",
       "     'type': 'array'}},\n",
       "   'required': ['title', 'rows'],\n",
       "   'title': 'Section',\n",
       "   'type': 'object'},\n",
       "  'SectionList': {'properties': {'button_title': {'title': 'Button Title',\n",
       "     'type': 'string'},\n",
       "    'sections': {'items': {'$ref': '#/$defs/Section'},\n",
       "     'title': 'Sections',\n",
       "     'type': 'array'}},\n",
       "   'required': ['button_title', 'sections'],\n",
       "   'title': 'SectionList',\n",
       "   'type': 'object'},\n",
       "  'SectionRow': {'properties': {'title': {'title': 'Title', 'type': 'string'},\n",
       "    'callback_data': {'title': 'Callback Data', 'type': 'string'},\n",
       "    'description': {'anyOf': [{'type': 'string'}, {'type': 'null'}],\n",
       "     'default': None,\n",
       "     'title': 'Description'}},\n",
       "   'required': ['title', 'callback_data'],\n",
       "   'title': 'SectionRow',\n",
       "   'type': 'object'}},\n",
       " 'properties': {'content': {'anyOf': [{'type': 'string'}, {'type': 'null'}],\n",
       "   'description': 'Content of the response.',\n",
       "   'title': 'Content'},\n",
       "  'buttons': {'default': [],\n",
       "   'description': 'Buttons that can be added to the response. Should be left empty unless specified.',\n",
       "   'items': {'$ref': '#/$defs/Button'},\n",
       "   'title': 'Buttons',\n",
       "   'type': 'array'},\n",
       "  'section_list': {'anyOf': [{'$ref': '#/$defs/SectionList'},\n",
       "    {'type': 'null'}],\n",
       "   'default': None,\n",
       "   'description': 'Section list with multiple choice options. Should be left null unless specified.'}},\n",
       " 'required': ['content'],\n",
       " 'title': 'TextResponse',\n",
       " 'type': 'object'}"
      ]
     },
     "execution_count": 10,
     "metadata": {},
     "output_type": "execute_result"
    }
   ],
   "execution_count": 10
  }
 ],
 "metadata": {
  "kernelspec": {
   "display_name": "Python 3",
   "language": "python",
   "name": "python3"
  },
  "language_info": {
   "codemirror_mode": {
    "name": "ipython",
    "version": 2
   },
   "file_extension": ".py",
   "mimetype": "text/x-python",
   "name": "python",
   "nbconvert_exporter": "python",
   "pygments_lexer": "ipython2",
   "version": "2.7.6"
  }
 },
 "nbformat": 4,
 "nbformat_minor": 5
}
