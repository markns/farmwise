{
 "cells": [
  {
   "cell_type": "code",
   "execution_count": 1,
   "id": "initial_id",
   "metadata": {
    "ExecuteTime": {
     "end_time": "2025-06-05T11:14:32.891098Z",
     "start_time": "2025-06-05T11:14:31.204391Z"
    },
    "collapsed": true
   },
   "outputs": [
    {
     "data": {
      "text/plain": [
       "SentMessage(id='wamid.HBgLMzE2NTc3NzU3ODEVAgARGBIzMkZBRTQ3QUE0QTgwOTI3NjIA', to_user=User(wa_id='31657775781', name=None), from_phone_id='678292782029018')"
      ]
     },
     "execution_count": 1,
     "metadata": {},
     "output_type": "execute_result"
    }
   ],
   "source": [
    "from pywa import WhatsApp\n",
    "\n",
    "from farmwise.settings import settings\n",
    "\n",
    "wa = WhatsApp(\n",
    "    phone_id=settings.WHATSAPP_PHONE_ID,  # The phone id you got from the API Setup\n",
    "    token=settings.WHATSAPP_TOKEN,  # The token you got from the API Setup\n",
    "    # server=app,\n",
    "    # callback_url=settings.WHATSAPP_CALLBACK_URL,\n",
    "    # verify_token=\"xyz123fdsfds\",\n",
    "    app_id=1392339421934377,\n",
    "    app_secret=\"b8a5543a9bf425a0e87676641569b2b4\",\n",
    "    # handlers_modules=[handlers],\n",
    ")\n",
    "\n",
    "\n",
    "wa.send_message(to=\"31657775781\", text=\"hello\\ngoodbye\\\\n I love you\")"
   ]
  }
 ],
 "metadata": {
  "kernelspec": {
   "display_name": "Python 3",
   "language": "python",
   "name": "python3"
  },
  "language_info": {
   "codemirror_mode": {
    "name": "ipython",
    "version": 2
   },
   "file_extension": ".py",
   "mimetype": "text/x-python",
   "name": "python",
   "nbconvert_exporter": "python",
   "pygments_lexer": "ipython2",
   "version": "2.7.6"
  }
 },
 "nbformat": 4,
 "nbformat_minor": 5
}
