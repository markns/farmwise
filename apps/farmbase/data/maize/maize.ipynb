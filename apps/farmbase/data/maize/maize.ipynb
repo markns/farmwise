{
 "cells": [
  {
   "cell_type": "code",
   "execution_count": 1,
   "id": "initial_id",
   "metadata": {
    "ExecuteTime": {
     "end_time": "2025-04-23T11:35:55.489072Z",
     "start_time": "2025-04-23T11:35:55.217669Z"
    },
    "collapsed": true
   },
   "outputs": [],
   "source": [
    "import pandas as pd"
   ]
  },
  {
   "cell_type": "code",
   "execution_count": 48,
   "id": "69bb0e16e01ef9ce",
   "metadata": {
    "ExecuteTime": {
     "end_time": "2025-04-23T11:59:18.100986Z",
     "start_time": "2025-04-23T11:59:18.086334Z"
    }
   },
   "outputs": [
    {
     "data": {
      "text/html": [
       "<div>\n",
       "<style scoped>\n",
       "    .dataframe tbody tr th:only-of-type {\n",
       "        vertical-align: middle;\n",
       "    }\n",
       "\n",
       "    .dataframe tbody tr th {\n",
       "        vertical-align: top;\n",
       "    }\n",
       "\n",
       "    .dataframe thead th {\n",
       "        text-align: right;\n",
       "    }\n",
       "</style>\n",
       "<table border=\"1\" class=\"dataframe\">\n",
       "  <thead>\n",
       "    <tr style=\"text-align: right;\">\n",
       "      <th></th>\n",
       "      <th>name</th>\n",
       "      <th>producer</th>\n",
       "      <th>website</th>\n",
       "      <th>description</th>\n",
       "      <th>desc2</th>\n",
       "    </tr>\n",
       "  </thead>\n",
       "  <tbody>\n",
       "    <tr>\n",
       "      <th>0</th>\n",
       "      <td>DK777</td>\n",
       "      <td>Monsanto</td>\n",
       "      <td>https://www.cropscience.bayer.africa/ke/en-ke/...</td>\n",
       "      <td>An medium transitional hybrid maize variety wi...</td>\n",
       "      <td>High and stable yielder with potential of up t...</td>\n",
       "    </tr>\n",
       "    <tr>\n",
       "      <th>1</th>\n",
       "      <td>DK8031</td>\n",
       "      <td>Monsanto</td>\n",
       "      <td>https://www.cropscience.bayer.africa/ke/en-ke/...</td>\n",
       "      <td>A medium maturing hybrid maize variety with a ...</td>\n",
       "      <td>Stable yielder with potential of up to 7tons/H...</td>\n",
       "    </tr>\n",
       "    <tr>\n",
       "      <th>2</th>\n",
       "      <td>SC Duma 43</td>\n",
       "      <td>Seed Co</td>\n",
       "      <td>https://seedcogroup.com/ke/fieldcrops/sc-partn...</td>\n",
       "      <td>SC Duma 43 is a very early maturing variety wi...</td>\n",
       "      <td>Very early maturing white hybrid\\nExcellent dr...</td>\n",
       "    </tr>\n",
       "    <tr>\n",
       "      <th>3</th>\n",
       "      <td>Haraka WH101</td>\n",
       "      <td>Western Seed Co.</td>\n",
       "      <td>https://westernseedcompany.com/home/maizeseed</td>\n",
       "      <td>NaN</td>\n",
       "      <td>Haraka WH101\\nVariety\\nEarly : Haraka\\n\\nAgro-...</td>\n",
       "    </tr>\n",
       "    <tr>\n",
       "      <th>4</th>\n",
       "      <td>PH 4</td>\n",
       "      <td>Kenya Seed Co.</td>\n",
       "      <td>NaN</td>\n",
       "      <td>NaN</td>\n",
       "      <td>Pwani Hybrid 4 (PH4) is a fairly new\\nvariety ...</td>\n",
       "    </tr>\n",
       "  </tbody>\n",
       "</table>\n",
       "</div>"
      ],
      "text/plain": [
       "           name          producer  \\\n",
       "0         DK777          Monsanto   \n",
       "1        DK8031          Monsanto   \n",
       "2    SC Duma 43           Seed Co   \n",
       "3  Haraka WH101  Western Seed Co.   \n",
       "4          PH 4    Kenya Seed Co.   \n",
       "\n",
       "                                             website  \\\n",
       "0  https://www.cropscience.bayer.africa/ke/en-ke/...   \n",
       "1  https://www.cropscience.bayer.africa/ke/en-ke/...   \n",
       "2  https://seedcogroup.com/ke/fieldcrops/sc-partn...   \n",
       "3      https://westernseedcompany.com/home/maizeseed   \n",
       "4                                                NaN   \n",
       "\n",
       "                                         description  \\\n",
       "0  An medium transitional hybrid maize variety wi...   \n",
       "1  A medium maturing hybrid maize variety with a ...   \n",
       "2  SC Duma 43 is a very early maturing variety wi...   \n",
       "3                                                NaN   \n",
       "4                                                NaN   \n",
       "\n",
       "                                               desc2  \n",
       "0  High and stable yielder with potential of up t...  \n",
       "1  Stable yielder with potential of up to 7tons/H...  \n",
       "2  Very early maturing white hybrid\\nExcellent dr...  \n",
       "3  Haraka WH101\\nVariety\\nEarly : Haraka\\n\\nAgro-...  \n",
       "4  Pwani Hybrid 4 (PH4) is a fairly new\\nvariety ...  "
      ]
     },
     "execution_count": 48,
     "metadata": {},
     "output_type": "execute_result"
    }
   ],
   "source": []
  },
  {
   "cell_type": "code",
   "execution_count": 101,
   "id": "4f124debb57f6d25",
   "metadata": {
    "ExecuteTime": {
     "end_time": "2025-04-24T07:42:39.342246Z",
     "start_time": "2025-04-24T07:42:39.325106Z"
    }
   },
   "outputs": [],
   "source": [
    "# pd.concat([mz['Description'], \"\\n\", mz['Characteristics']])\n",
    "\n",
    "mz = pd.read_csv(\"maize.csv\")\n",
    "nat_var_mz = pd.read_csv(\"kalro/national_crop_variety_list/split_csv/08_MAIZE.csv\")\n",
    "nat_var_mz = nat_var_mz.dropna(subset=[\"Optimal production altitude range (Masl)\"])\n",
    "nat_var_mz[\"optimal_altitude\"] = nat_var_mz[\"Optimal production altitude range (Masl)\"].str.replace(\"\\n\", \" \")\n",
    "\n",
    "mz[\"description\"] = mz.description.fillna(\"\").str.cat(mz.desc2.fillna(\"\"), sep=\"\\n\")\n",
    "mz.drop(columns=[\"desc2\"], inplace=True)\n",
    "\n",
    "mz[\"name_clean\"] = mz[\"name\"].str.replace(\"\\n\", \"\").str.replace(\" \", \"\").str.lower()\n",
    "nat_var_mz[\"name_clean\"] = nat_var_mz[\"Offici al Rele ase Name\"].str.replace(\"\\n\", \"\").str.replace(\" \", \"\").str.lower()\n",
    "\n",
    "df = pd.merge(mz, nat_var_mz, on=\"name_clean\", how=\"left\")\n",
    "\n",
    "df[\"description\"] = df.description.str.cat(\n",
    "    df[\"Special attributes\"].fillna(\"\").str.replace(\"\\n\", \" \").str.replace(\"\", \"\\n-\"), sep=\"\\n\"\n",
    ")\n",
    "\n",
    "df = df[\n",
    "    [\n",
    "        \"name\",\n",
    "        \"producer\",\n",
    "        \"website\",\n",
    "        \"description\",\n",
    "        \"Optimal production altitude range (Masl)\",\n",
    "        \"Duration to maturity (months)\",\n",
    "        \"Grain yield (t ha-1)\",\n",
    "    ]\n",
    "]\n",
    "df.columns = [\"variety\", \"producer\", \"website\", \"description\", \"altitude_masl\", \"maturity_months\", \"yield_tons_ha\"]\n",
    "df.to_csv(\"maize_clean.csv\", index=False)\n",
    "# df\n",
    "# mz\n",
    "# mz[[\"Description\", \"Characteristics\"]].apply(\"\\n\".join, axis=1)"
   ]
  }
 ],
 "metadata": {
  "kernelspec": {
   "display_name": "Python 3",
   "language": "python",
   "name": "python3"
  },
  "language_info": {
   "codemirror_mode": {
    "name": "ipython",
    "version": 2
   },
   "file_extension": ".py",
   "mimetype": "text/x-python",
   "name": "python",
   "nbconvert_exporter": "python",
   "pygments_lexer": "ipython2",
   "version": "2.7.6"
  }
 },
 "nbformat": 4,
 "nbformat_minor": 5
}
