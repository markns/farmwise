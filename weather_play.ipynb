{
 "cells": [
  {
   "cell_type": "code",
   "id": "initial_id",
   "metadata": {
    "collapsed": true,
    "ExecuteTime": {
     "end_time": "2025-05-14T11:49:27.508003Z",
     "start_time": "2025-05-14T11:49:24.793718Z"
    }
   },
   "source": [
    "from more_itertools import flatten\n",
    "from openai import OpenAI\n",
    "# Python script to get weather forecast using the free 'python-weather' library.\n",
    "import python_weather\n",
    "\n",
    "from dotenv import load_dotenv, find_dotenv\n",
    "load_dotenv(find_dotenv())\n",
    "\n",
    "async def summarize_forecast(forecast):\n",
    "\n",
    "    client = OpenAI()\n",
    "\n",
    "    forecast_description = [[f\"{daily.date} {hourly.time} {hourly.description}\" for hourly in daily] for daily in forecast]\n",
    "\n",
    "    response = client.responses.create(\n",
    "      model=\"gpt-4.1-nano\",\n",
    "      input=f\"\"\"\n",
    "Summarise the weather forecast for the next 3 days using the details below.\n",
    "The forecast is to be sent to farmers in {forecast.location}, {forecast.country}.\n",
    "Use one summary emoji at the start of each line.\n",
    "\n",
    "{list(flatten(forecast_description))}\n",
    "      \"\"\"\n",
    "    )\n",
    "\n",
    "    return response\n",
    "\n",
    "\n",
    "\n",
    "\n",
    "\n",
    "async def get_weather_forecast(location_query: str):\n",
    "    \"\"\"\n",
    "    Fetches and displays the current weather and a 3-day forecast for a given location.\n",
    "    The location can be a city name or a \"latitude,longitude\" string.\n",
    "\n",
    "    Args:\n",
    "        location_query (str): The name of the city or \"latitude,longitude\" string.\n",
    "    \"\"\"\n",
    "\n",
    "    async with python_weather.Client(unit=python_weather.METRIC) as client:\n",
    "        try:\n",
    "            # Fetch a weather forecast for the given location query\n",
    "            return await client.get(location_query)\n",
    "        except Exception as e:\n",
    "            print(f\"Could not retrieve weather for '{location_query}'. Error: {e}\")\n",
    "\n",
    "\n",
    "location_input = \"0.5635, 34.5606\"\n",
    "\n",
    "forecast = await get_weather_forecast(location_input)\n",
    "response = await summarize_forecast(forecast)\n",
    "print(response.output[0].content[0].text)"
   ],
   "outputs": [
    {
     "name": "stdout",
     "output_type": "stream",
     "text": [
      "🌤️ May 14: Expect fog in the early hours, followed by partly cloudy skies and mostly sunny conditions during the day. There will be some light rain in the evening.\n",
      "\n",
      "🌧️ May 15: The day starts with patchy rain, with chances of light rain and thunder in the afternoon; heavy rain showers are expected in the evening. Early morning will be misty.\n",
      "\n",
      "☀️ May 16: Clear skies in the early morning, followed by sunshine. However, there will be patchy rain later in the day, especially in the evening.\n"
     ]
    }
   ],
   "execution_count": 32
  }
 ],
 "metadata": {
  "kernelspec": {
   "display_name": "Python 3",
   "language": "python",
   "name": "python3"
  },
  "language_info": {
   "codemirror_mode": {
    "name": "ipython",
    "version": 2
   },
   "file_extension": ".py",
   "mimetype": "text/x-python",
   "name": "python",
   "nbconvert_exporter": "python",
   "pygments_lexer": "ipython2",
   "version": "2.7.6"
  }
 },
 "nbformat": 4,
 "nbformat_minor": 5
}
