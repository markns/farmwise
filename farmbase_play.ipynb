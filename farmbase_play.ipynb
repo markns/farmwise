{
 "cells": [
  {
   "metadata": {
    "ExecuteTime": {
     "end_time": "2025-05-06T13:18:31.348425Z",
     "start_time": "2025-03-20T12:41:34.595574Z"
    }
   },
   "cell_type": "code",
   "source": [
    "import httpx\n",
    "%load_ext autoreload\n",
    "%autoreload 2"
   ],
   "id": "3fef55e88b08c10c",
   "outputs": [],
   "execution_count": 1
  },
  {
   "metadata": {
    "ExecuteTime": {
     "end_time": "2025-05-06T13:28:31.151011Z",
     "start_time": "2025-05-06T13:28:30.275812Z"
    }
   },
   "cell_type": "code",
   "source": [
    "\n",
    "from farmbase_client.api.farmers import farmers_get_farmer\n",
    "from farmbase_client.api.gaez import gaez_aez_classification\n",
    "from farmbase_client import AuthenticatedClient\n",
    "\n",
    "token = \"fsdfds\"\n",
    "\n",
    "latitude=0.14743243681250168\n",
    "longitude=35.08145448691857\n",
    "\n",
    "with AuthenticatedClient(base_url=\"http://127.0.0.1:8000/api/v1\", token=token) as client:\n",
    "    response = await farmers_get_farmer.asyncio(client=client, organization=\"default\", farmer_id=1)\n",
    "    print(response)\n",
    "\n",
    "with AuthenticatedClient(base_url=\"http://127.0.0.1:8000/api/v1\", token=token) as client:\n",
    "    response = await gaez_aez_classification.asyncio(client=client, latitude=latitude, longitude=longitude)\n",
    "    print(response)\n"
   ],
   "id": "385018796013475e",
   "outputs": [
    {
     "name": "stdout",
     "output_type": "stream",
     "text": [
      "name='John' phone_number='+31657775782' id=1 created_at=datetime.datetime(2025, 5, 6, 10, 12, 1, tzinfo=TzInfo(UTC)) updated_at=datetime.datetime(2025, 5, 6, 10, 12, 1, tzinfo=TzInfo(UTC))\n",
      "Tropics, lowland; humid\n"
     ]
    }
   ],
   "execution_count": 13
  },
  {
   "metadata": {
    "ExecuteTime": {
     "end_time": "2025-03-20T12:18:31.503174Z",
     "start_time": "2025-03-20T12:18:31.379491Z"
    }
   },
   "cell_type": "code",
   "source": [
    "from uuid import UUID\n",
    "from farmbase_client.models import FieldCreate\n",
    "from farmbase_client.api.fields import fields_create_field\n",
    "from geojson_pydantic import LineString\n",
    "\n",
    "geojson_feature = {\n",
    "    \"type\": \"LineString\",\n",
    "    \"coordinates\": [\n",
    "        [102.0, 0.0], [103.0, 1.0], [104.0, 0.0], [105.0, 1.0]\n",
    "    ]\n",
    "}\n",
    "linestring = LineString(**geojson_feature)\n",
    "print(linestring)\n",
    "\n",
    "field = FieldCreate(name=\"big field\",\n",
    "                    boundary=linestring)\n",
    "print(field)\n",
    "with AuthenticatedClient(base_url=\"http://127.0.0.1:8000\", token=token) as client:\n",
    "    response = fields_create_field.sync(client=client, body=field,\n",
    "                                        farm_id=UUID('b3d366ef-6398-4f1e-8cf4-566bf216fcba'))\n",
    "\n",
    "response"
   ],
   "id": "57384067a54a269b",
   "outputs": [
    {
     "name": "stdout",
     "output_type": "stream",
     "text": [
      "bbox=None type='LineString' coordinates=[Position2D(longitude=102.0, latitude=0.0), Position2D(longitude=103.0, latitude=1.0), Position2D(longitude=104.0, latitude=0.0), Position2D(longitude=105.0, latitude=1.0)]\n",
      "name='big field' area=10.5 soil_type='clay' boundary=LineString(bbox=None, type='LineString', coordinates=[Position2D(longitude=102.0, latitude=0.0), Position2D(longitude=103.0, latitude=1.0), Position2D(longitude=104.0, latitude=0.0), Position2D(longitude=105.0, latitude=1.0)])\n"
     ]
    },
    {
     "data": {
      "text/plain": [
       "FieldPublic(name='big field', area=None, soil_type=None, id=UUID('13587135-d7a1-4d49-a56d-c357af475463'), farm_id=UUID('b3d366ef-6398-4f1e-8cf4-566bf216fcba'), boundary=Polygon(bbox=None, type='Polygon', coordinates=[[Position2D(longitude=102.0, latitude=0.0), Position2D(longitude=103.0, latitude=1.0), Position2D(longitude=104.0, latitude=0.0), Position2D(longitude=105.0, latitude=1.0), Position2D(longitude=102.0, latitude=0.0)]]))"
      ]
     },
     "execution_count": 5,
     "metadata": {},
     "output_type": "execute_result"
    }
   ],
   "execution_count": 5
  },
  {
   "metadata": {
    "ExecuteTime": {
     "end_time": "2025-04-22T13:23:44.470943Z",
     "start_time": "2025-04-22T13:23:43.995552Z"
    }
   },
   "cell_type": "code",
   "source": [
    "import pandas as pd\n",
    "\n",
    "df = pd.read_csv(\"apps/farmbase/data/kalro/suitability.csv\")"
   ],
   "id": "29e20d35b15e163d",
   "outputs": [],
   "execution_count": 1
  },
  {
   "metadata": {
    "ExecuteTime": {
     "end_time": "2025-04-22T13:24:11.446353Z",
     "start_time": "2025-04-22T13:24:11.427737Z"
    }
   },
   "cell_type": "code",
   "source": "df.to_pickle(\"apps/farmbase/data/kalro/suitability.pkl\")",
   "id": "96492a7a6793b605",
   "outputs": [],
   "execution_count": 3
  },
  {
   "metadata": {
    "ExecuteTime": {
     "end_time": "2025-04-22T14:06:25.382955Z",
     "start_time": "2025-04-22T14:06:25.366090Z"
    }
   },
   "cell_type": "code",
   "source": "df[df.crop == 'Kale']",
   "id": "47d99e983a7eb8a8",
   "outputs": [
    {
     "data": {
      "text/plain": [
       "Empty DataFrame\n",
       "Columns: [crop, variety, dhis2_id, suitability]\n",
       "Index: []"
      ],
      "text/html": [
       "<div>\n",
       "<style scoped>\n",
       "    .dataframe tbody tr th:only-of-type {\n",
       "        vertical-align: middle;\n",
       "    }\n",
       "\n",
       "    .dataframe tbody tr th {\n",
       "        vertical-align: top;\n",
       "    }\n",
       "\n",
       "    .dataframe thead th {\n",
       "        text-align: right;\n",
       "    }\n",
       "</style>\n",
       "<table border=\"1\" class=\"dataframe\">\n",
       "  <thead>\n",
       "    <tr style=\"text-align: right;\">\n",
       "      <th></th>\n",
       "      <th>crop</th>\n",
       "      <th>variety</th>\n",
       "      <th>dhis2_id</th>\n",
       "      <th>suitability</th>\n",
       "    </tr>\n",
       "  </thead>\n",
       "  <tbody>\n",
       "  </tbody>\n",
       "</table>\n",
       "</div>"
      ]
     },
     "execution_count": 32,
     "metadata": {},
     "output_type": "execute_result"
    }
   ],
   "execution_count": 32
  },
  {
   "metadata": {
    "ExecuteTime": {
     "end_time": "2025-04-22T13:28:53.934668Z",
     "start_time": "2025-04-22T13:28:53.896557Z"
    }
   },
   "cell_type": "code",
   "source": "df[df.crop == 'Barley'].pivot(index='dhis2_id', columns='variety', values='suitability')",
   "id": "6ed3016ff19f9ff2",
   "outputs": [
    {
     "data": {
      "text/plain": [
       "variety      ALICIANA  Ahadi  BAHATI  Bima  CERISE LAUREL  COCKTAIL  GRACE  \\\n",
       "dhis2_id                                                                     \n",
       "A34NiI4rgnf       NaN    NaN     1.0   NaN            1.0       NaN    NaN   \n",
       "A6Sj8RumZ0m       1.0    NaN     NaN   1.0            NaN       1.0    1.0   \n",
       "ABuzigW8Lzw       1.0    NaN     NaN   1.0            NaN       1.0    1.0   \n",
       "ABy8CNqf2e7       1.0    NaN     NaN   1.0            NaN       1.0    1.0   \n",
       "AFIlzKNxXST       NaN    NaN     1.0   NaN            1.0       NaN    NaN   \n",
       "...               ...    ...     ...   ...            ...       ...    ...   \n",
       "ylWg6VvADJE       1.0    NaN     1.0   1.0            1.0       1.0    1.0   \n",
       "zCCIu1Vi3Wh       NaN    NaN     1.0   NaN            1.0       NaN    NaN   \n",
       "zI6vnsXresW       NaN    NaN     1.0   NaN            1.0       NaN    NaN   \n",
       "zQEuNRaPYgE       1.0    NaN     NaN   1.0            NaN       1.0    1.0   \n",
       "zT8Zj5vNYCy       NaN    NaN     1.0   NaN            1.0       NaN    NaN   \n",
       "\n",
       "variety      KARNE  NFC TIPPLE  NGAO  PEBLICAN  Planet  QUENCH  Sabini  \\\n",
       "dhis2_id                                                                 \n",
       "A34NiI4rgnf    NaN         NaN   1.0       NaN     NaN     NaN     NaN   \n",
       "A6Sj8RumZ0m    1.0         1.0   NaN       1.0     1.0     1.0     NaN   \n",
       "ABuzigW8Lzw    1.0         1.0   NaN       1.0     1.0     1.0     1.0   \n",
       "ABy8CNqf2e7    1.0         1.0   NaN       1.0     1.0     1.0     NaN   \n",
       "AFIlzKNxXST    NaN         NaN   1.0       NaN     NaN     NaN     NaN   \n",
       "...            ...         ...   ...       ...     ...     ...     ...   \n",
       "ylWg6VvADJE    1.0         1.0   NaN       1.0     1.0     1.0     1.0   \n",
       "zCCIu1Vi3Wh    NaN         NaN   1.0       NaN     NaN     NaN     NaN   \n",
       "zI6vnsXresW    NaN         NaN   NaN       NaN     NaN     NaN     NaN   \n",
       "zQEuNRaPYgE    1.0         1.0   NaN       1.0     1.0     1.0     1.0   \n",
       "zT8Zj5vNYCy    NaN         NaN   1.0       NaN     NaN     NaN     NaN   \n",
       "\n",
       "variety      Tumaini  \n",
       "dhis2_id              \n",
       "A34NiI4rgnf      NaN  \n",
       "A6Sj8RumZ0m      NaN  \n",
       "ABuzigW8Lzw      1.0  \n",
       "ABy8CNqf2e7      NaN  \n",
       "AFIlzKNxXST      NaN  \n",
       "...              ...  \n",
       "ylWg6VvADJE      1.0  \n",
       "zCCIu1Vi3Wh      NaN  \n",
       "zI6vnsXresW      NaN  \n",
       "zQEuNRaPYgE      1.0  \n",
       "zT8Zj5vNYCy      NaN  \n",
       "\n",
       "[241 rows x 15 columns]"
      ],
      "text/html": [
       "<div>\n",
       "<style scoped>\n",
       "    .dataframe tbody tr th:only-of-type {\n",
       "        vertical-align: middle;\n",
       "    }\n",
       "\n",
       "    .dataframe tbody tr th {\n",
       "        vertical-align: top;\n",
       "    }\n",
       "\n",
       "    .dataframe thead th {\n",
       "        text-align: right;\n",
       "    }\n",
       "</style>\n",
       "<table border=\"1\" class=\"dataframe\">\n",
       "  <thead>\n",
       "    <tr style=\"text-align: right;\">\n",
       "      <th>variety</th>\n",
       "      <th>ALICIANA</th>\n",
       "      <th>Ahadi</th>\n",
       "      <th>BAHATI</th>\n",
       "      <th>Bima</th>\n",
       "      <th>CERISE LAUREL</th>\n",
       "      <th>COCKTAIL</th>\n",
       "      <th>GRACE</th>\n",
       "      <th>KARNE</th>\n",
       "      <th>NFC TIPPLE</th>\n",
       "      <th>NGAO</th>\n",
       "      <th>PEBLICAN</th>\n",
       "      <th>Planet</th>\n",
       "      <th>QUENCH</th>\n",
       "      <th>Sabini</th>\n",
       "      <th>Tumaini</th>\n",
       "    </tr>\n",
       "    <tr>\n",
       "      <th>dhis2_id</th>\n",
       "      <th></th>\n",
       "      <th></th>\n",
       "      <th></th>\n",
       "      <th></th>\n",
       "      <th></th>\n",
       "      <th></th>\n",
       "      <th></th>\n",
       "      <th></th>\n",
       "      <th></th>\n",
       "      <th></th>\n",
       "      <th></th>\n",
       "      <th></th>\n",
       "      <th></th>\n",
       "      <th></th>\n",
       "      <th></th>\n",
       "    </tr>\n",
       "  </thead>\n",
       "  <tbody>\n",
       "    <tr>\n",
       "      <th>A34NiI4rgnf</th>\n",
       "      <td>NaN</td>\n",
       "      <td>NaN</td>\n",
       "      <td>1.0</td>\n",
       "      <td>NaN</td>\n",
       "      <td>1.0</td>\n",
       "      <td>NaN</td>\n",
       "      <td>NaN</td>\n",
       "      <td>NaN</td>\n",
       "      <td>NaN</td>\n",
       "      <td>1.0</td>\n",
       "      <td>NaN</td>\n",
       "      <td>NaN</td>\n",
       "      <td>NaN</td>\n",
       "      <td>NaN</td>\n",
       "      <td>NaN</td>\n",
       "    </tr>\n",
       "    <tr>\n",
       "      <th>A6Sj8RumZ0m</th>\n",
       "      <td>1.0</td>\n",
       "      <td>NaN</td>\n",
       "      <td>NaN</td>\n",
       "      <td>1.0</td>\n",
       "      <td>NaN</td>\n",
       "      <td>1.0</td>\n",
       "      <td>1.0</td>\n",
       "      <td>1.0</td>\n",
       "      <td>1.0</td>\n",
       "      <td>NaN</td>\n",
       "      <td>1.0</td>\n",
       "      <td>1.0</td>\n",
       "      <td>1.0</td>\n",
       "      <td>NaN</td>\n",
       "      <td>NaN</td>\n",
       "    </tr>\n",
       "    <tr>\n",
       "      <th>ABuzigW8Lzw</th>\n",
       "      <td>1.0</td>\n",
       "      <td>NaN</td>\n",
       "      <td>NaN</td>\n",
       "      <td>1.0</td>\n",
       "      <td>NaN</td>\n",
       "      <td>1.0</td>\n",
       "      <td>1.0</td>\n",
       "      <td>1.0</td>\n",
       "      <td>1.0</td>\n",
       "      <td>NaN</td>\n",
       "      <td>1.0</td>\n",
       "      <td>1.0</td>\n",
       "      <td>1.0</td>\n",
       "      <td>1.0</td>\n",
       "      <td>1.0</td>\n",
       "    </tr>\n",
       "    <tr>\n",
       "      <th>ABy8CNqf2e7</th>\n",
       "      <td>1.0</td>\n",
       "      <td>NaN</td>\n",
       "      <td>NaN</td>\n",
       "      <td>1.0</td>\n",
       "      <td>NaN</td>\n",
       "      <td>1.0</td>\n",
       "      <td>1.0</td>\n",
       "      <td>1.0</td>\n",
       "      <td>1.0</td>\n",
       "      <td>NaN</td>\n",
       "      <td>1.0</td>\n",
       "      <td>1.0</td>\n",
       "      <td>1.0</td>\n",
       "      <td>NaN</td>\n",
       "      <td>NaN</td>\n",
       "    </tr>\n",
       "    <tr>\n",
       "      <th>AFIlzKNxXST</th>\n",
       "      <td>NaN</td>\n",
       "      <td>NaN</td>\n",
       "      <td>1.0</td>\n",
       "      <td>NaN</td>\n",
       "      <td>1.0</td>\n",
       "      <td>NaN</td>\n",
       "      <td>NaN</td>\n",
       "      <td>NaN</td>\n",
       "      <td>NaN</td>\n",
       "      <td>1.0</td>\n",
       "      <td>NaN</td>\n",
       "      <td>NaN</td>\n",
       "      <td>NaN</td>\n",
       "      <td>NaN</td>\n",
       "      <td>NaN</td>\n",
       "    </tr>\n",
       "    <tr>\n",
       "      <th>...</th>\n",
       "      <td>...</td>\n",
       "      <td>...</td>\n",
       "      <td>...</td>\n",
       "      <td>...</td>\n",
       "      <td>...</td>\n",
       "      <td>...</td>\n",
       "      <td>...</td>\n",
       "      <td>...</td>\n",
       "      <td>...</td>\n",
       "      <td>...</td>\n",
       "      <td>...</td>\n",
       "      <td>...</td>\n",
       "      <td>...</td>\n",
       "      <td>...</td>\n",
       "      <td>...</td>\n",
       "    </tr>\n",
       "    <tr>\n",
       "      <th>ylWg6VvADJE</th>\n",
       "      <td>1.0</td>\n",
       "      <td>NaN</td>\n",
       "      <td>1.0</td>\n",
       "      <td>1.0</td>\n",
       "      <td>1.0</td>\n",
       "      <td>1.0</td>\n",
       "      <td>1.0</td>\n",
       "      <td>1.0</td>\n",
       "      <td>1.0</td>\n",
       "      <td>NaN</td>\n",
       "      <td>1.0</td>\n",
       "      <td>1.0</td>\n",
       "      <td>1.0</td>\n",
       "      <td>1.0</td>\n",
       "      <td>1.0</td>\n",
       "    </tr>\n",
       "    <tr>\n",
       "      <th>zCCIu1Vi3Wh</th>\n",
       "      <td>NaN</td>\n",
       "      <td>NaN</td>\n",
       "      <td>1.0</td>\n",
       "      <td>NaN</td>\n",
       "      <td>1.0</td>\n",
       "      <td>NaN</td>\n",
       "      <td>NaN</td>\n",
       "      <td>NaN</td>\n",
       "      <td>NaN</td>\n",
       "      <td>1.0</td>\n",
       "      <td>NaN</td>\n",
       "      <td>NaN</td>\n",
       "      <td>NaN</td>\n",
       "      <td>NaN</td>\n",
       "      <td>NaN</td>\n",
       "    </tr>\n",
       "    <tr>\n",
       "      <th>zI6vnsXresW</th>\n",
       "      <td>NaN</td>\n",
       "      <td>NaN</td>\n",
       "      <td>1.0</td>\n",
       "      <td>NaN</td>\n",
       "      <td>1.0</td>\n",
       "      <td>NaN</td>\n",
       "      <td>NaN</td>\n",
       "      <td>NaN</td>\n",
       "      <td>NaN</td>\n",
       "      <td>NaN</td>\n",
       "      <td>NaN</td>\n",
       "      <td>NaN</td>\n",
       "      <td>NaN</td>\n",
       "      <td>NaN</td>\n",
       "      <td>NaN</td>\n",
       "    </tr>\n",
       "    <tr>\n",
       "      <th>zQEuNRaPYgE</th>\n",
       "      <td>1.0</td>\n",
       "      <td>NaN</td>\n",
       "      <td>NaN</td>\n",
       "      <td>1.0</td>\n",
       "      <td>NaN</td>\n",
       "      <td>1.0</td>\n",
       "      <td>1.0</td>\n",
       "      <td>1.0</td>\n",
       "      <td>1.0</td>\n",
       "      <td>NaN</td>\n",
       "      <td>1.0</td>\n",
       "      <td>1.0</td>\n",
       "      <td>1.0</td>\n",
       "      <td>1.0</td>\n",
       "      <td>1.0</td>\n",
       "    </tr>\n",
       "    <tr>\n",
       "      <th>zT8Zj5vNYCy</th>\n",
       "      <td>NaN</td>\n",
       "      <td>NaN</td>\n",
       "      <td>1.0</td>\n",
       "      <td>NaN</td>\n",
       "      <td>1.0</td>\n",
       "      <td>NaN</td>\n",
       "      <td>NaN</td>\n",
       "      <td>NaN</td>\n",
       "      <td>NaN</td>\n",
       "      <td>1.0</td>\n",
       "      <td>NaN</td>\n",
       "      <td>NaN</td>\n",
       "      <td>NaN</td>\n",
       "      <td>NaN</td>\n",
       "      <td>NaN</td>\n",
       "    </tr>\n",
       "  </tbody>\n",
       "</table>\n",
       "<p>241 rows × 15 columns</p>\n",
       "</div>"
      ]
     },
     "execution_count": 16,
     "metadata": {},
     "output_type": "execute_result"
    }
   ],
   "execution_count": 16
  },
  {
   "metadata": {
    "ExecuteTime": {
     "end_time": "2025-04-22T16:08:11.583732Z",
     "start_time": "2025-04-22T16:08:11.537113Z"
    }
   },
   "cell_type": "code",
   "source": [
    "import httpx\n",
    "r = httpx.get(\"http://127.0.0.1:8000/api/v1/crop-varieties/suitability?crop_type=kale\"\n",
    "              \"&latitude=-1.0849843025208&longitude=35.878883361816\")\n",
    "r.json()"
   ],
   "id": "9dee36c5dc15f328",
   "outputs": [
    {
     "data": {
      "text/plain": [
       "{'detail': \"No crops found matching 'kale'. Did you mean one of these: Kales, Barley?\"}"
      ]
     },
     "execution_count": 50,
     "metadata": {},
     "output_type": "execute_result"
    }
   ],
   "execution_count": 50
  }
 ],
 "metadata": {
  "kernelspec": {
   "display_name": "Python 3",
   "language": "python",
   "name": "python3"
  },
  "language_info": {
   "codemirror_mode": {
    "name": "ipython",
    "version": 2
   },
   "file_extension": ".py",
   "mimetype": "text/x-python",
   "name": "python",
   "nbconvert_exporter": "python",
   "pygments_lexer": "ipython2",
   "version": "2.7.6"
  }
 },
 "nbformat": 4,
 "nbformat_minor": 5
}
